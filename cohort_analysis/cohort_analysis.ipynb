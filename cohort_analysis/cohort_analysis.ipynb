{
 "cells": [
  {
   "cell_type": "markdown",
   "metadata": {
    "id": "RdIZkP_BOQGW"
   },
   "source": [
    "# Cohort Analysis<a id=\"Top\"></a>"
   ]
  },
  {
   "cell_type": "markdown",
   "metadata": {
    "id": "M8_dPvEXOTzF"
   },
   "source": [
    "## Table of Contents\n",
    "\n",
    "1. [Load Needed Packages](#1)<br>\n",
    "2. [Get Data](#2)<br>\n",
    "    2.1 [Read in the Data from URL](#2.1)<br>\n",
    "    2.2 [Clean Data](#2.2)<br>\n",
    "3. [Process Data](#3)<br>\n",
    "4. [Cohort Results](#4)<br>\n",
    "    4.1 [Retention Rate](#4.1)<br>\n",
    "    4.2 [Average Order Value](#4.2)<br>"
   ]
  },
  {
   "cell_type": "markdown",
   "metadata": {
    "id": "JK3wv1m8Obun"
   },
   "source": [
    "---\n",
    "## 1. Load Needed Packages<a id=1></a>"
   ]
  },
  {
   "cell_type": "code",
   "execution_count": 1,
   "metadata": {
    "id": "6uRYgFYknq2D"
   },
   "outputs": [],
   "source": [
    "import pandas as pd\n",
    "import numpy as np\n",
    "\n",
    "import matplotlib.pyplot as plt\n",
    "%matplotlib inline\n",
    "import seaborn as sns\n",
    "\n",
    "from operator import attrgetter\n",
    "\n",
    "import warnings\n",
    "warnings.filterwarnings('ignore')"
   ]
  },
  {
   "cell_type": "markdown",
   "metadata": {
    "id": "NI7W9I4UOdV-"
   },
   "source": [
    "[Back to Top](#Top)"
   ]
  },
  {
   "cell_type": "markdown",
   "metadata": {
    "id": "aziV2S9YOgSh"
   },
   "source": [
    "---\n",
    "## 2. Get Data<a id=2></a>"
   ]
  },
  {
   "cell_type": "markdown",
   "metadata": {
    "id": "txZrPa0QRCV_"
   },
   "source": [
    "### 2.1 Read in the Data from URL<a id=2.1></a>"
   ]
  },
  {
   "cell_type": "code",
   "execution_count": 2,
   "metadata": {
    "colab": {
     "base_uri": "https://localhost:8080/"
    },
    "id": "2LYhcinjn_Lk",
    "outputId": "c3ea6e30-d702-4b12-e182-62b73137fdbd"
   },
   "outputs": [
    {
     "name": "stdout",
     "output_type": "stream",
     "text": [
      "There are 541909 observations\n"
     ]
    }
   ],
   "source": [
    "# Load data from UCI Machine Learning Repository\n",
    "df = pd.read_excel(\"https://archive.ics.uci.edu/ml/machine-learning-databases/00352/Online%20Retail.xlsx\")\n",
    "print('There are ' +str(len(df)) + ' observations')"
   ]
  },
  {
   "cell_type": "code",
   "execution_count": 3,
   "metadata": {
    "colab": {
     "base_uri": "https://localhost:8080/",
     "height": 206
    },
    "id": "XXER6KBzOys1",
    "outputId": "b4dab4e6-ca30-4d79-87cf-e1db61a7d072"
   },
   "outputs": [
    {
     "data": {
      "text/html": [
       "<div>\n",
       "<style scoped>\n",
       "    .dataframe tbody tr th:only-of-type {\n",
       "        vertical-align: middle;\n",
       "    }\n",
       "\n",
       "    .dataframe tbody tr th {\n",
       "        vertical-align: top;\n",
       "    }\n",
       "\n",
       "    .dataframe thead th {\n",
       "        text-align: right;\n",
       "    }\n",
       "</style>\n",
       "<table border=\"1\" class=\"dataframe\">\n",
       "  <thead>\n",
       "    <tr style=\"text-align: right;\">\n",
       "      <th></th>\n",
       "      <th>InvoiceNo</th>\n",
       "      <th>StockCode</th>\n",
       "      <th>Description</th>\n",
       "      <th>Quantity</th>\n",
       "      <th>InvoiceDate</th>\n",
       "      <th>UnitPrice</th>\n",
       "      <th>CustomerID</th>\n",
       "      <th>Country</th>\n",
       "    </tr>\n",
       "  </thead>\n",
       "  <tbody>\n",
       "    <tr>\n",
       "      <th>0</th>\n",
       "      <td>536365</td>\n",
       "      <td>85123A</td>\n",
       "      <td>WHITE HANGING HEART T-LIGHT HOLDER</td>\n",
       "      <td>6</td>\n",
       "      <td>2010-12-01 08:26:00</td>\n",
       "      <td>2.55</td>\n",
       "      <td>17850.0</td>\n",
       "      <td>United Kingdom</td>\n",
       "    </tr>\n",
       "    <tr>\n",
       "      <th>1</th>\n",
       "      <td>536365</td>\n",
       "      <td>71053</td>\n",
       "      <td>WHITE METAL LANTERN</td>\n",
       "      <td>6</td>\n",
       "      <td>2010-12-01 08:26:00</td>\n",
       "      <td>3.39</td>\n",
       "      <td>17850.0</td>\n",
       "      <td>United Kingdom</td>\n",
       "    </tr>\n",
       "    <tr>\n",
       "      <th>2</th>\n",
       "      <td>536365</td>\n",
       "      <td>84406B</td>\n",
       "      <td>CREAM CUPID HEARTS COAT HANGER</td>\n",
       "      <td>8</td>\n",
       "      <td>2010-12-01 08:26:00</td>\n",
       "      <td>2.75</td>\n",
       "      <td>17850.0</td>\n",
       "      <td>United Kingdom</td>\n",
       "    </tr>\n",
       "    <tr>\n",
       "      <th>3</th>\n",
       "      <td>536365</td>\n",
       "      <td>84029G</td>\n",
       "      <td>KNITTED UNION FLAG HOT WATER BOTTLE</td>\n",
       "      <td>6</td>\n",
       "      <td>2010-12-01 08:26:00</td>\n",
       "      <td>3.39</td>\n",
       "      <td>17850.0</td>\n",
       "      <td>United Kingdom</td>\n",
       "    </tr>\n",
       "    <tr>\n",
       "      <th>4</th>\n",
       "      <td>536365</td>\n",
       "      <td>84029E</td>\n",
       "      <td>RED WOOLLY HOTTIE WHITE HEART.</td>\n",
       "      <td>6</td>\n",
       "      <td>2010-12-01 08:26:00</td>\n",
       "      <td>3.39</td>\n",
       "      <td>17850.0</td>\n",
       "      <td>United Kingdom</td>\n",
       "    </tr>\n",
       "  </tbody>\n",
       "</table>\n",
       "</div>"
      ],
      "text/plain": [
       "  InvoiceNo StockCode                          Description  Quantity  \\\n",
       "0    536365    85123A   WHITE HANGING HEART T-LIGHT HOLDER         6   \n",
       "1    536365     71053                  WHITE METAL LANTERN         6   \n",
       "2    536365    84406B       CREAM CUPID HEARTS COAT HANGER         8   \n",
       "3    536365    84029G  KNITTED UNION FLAG HOT WATER BOTTLE         6   \n",
       "4    536365    84029E       RED WOOLLY HOTTIE WHITE HEART.         6   \n",
       "\n",
       "          InvoiceDate  UnitPrice  CustomerID         Country  \n",
       "0 2010-12-01 08:26:00       2.55     17850.0  United Kingdom  \n",
       "1 2010-12-01 08:26:00       3.39     17850.0  United Kingdom  \n",
       "2 2010-12-01 08:26:00       2.75     17850.0  United Kingdom  \n",
       "3 2010-12-01 08:26:00       3.39     17850.0  United Kingdom  \n",
       "4 2010-12-01 08:26:00       3.39     17850.0  United Kingdom  "
      ]
     },
     "execution_count": 3,
     "metadata": {},
     "output_type": "execute_result"
    }
   ],
   "source": [
    "df.head()"
   ]
  },
  {
   "cell_type": "markdown",
   "metadata": {
    "id": "Sa4cqBR3RFTI"
   },
   "source": [
    "### 2.2 Clean Data<a id=2.2></a>"
   ]
  },
  {
   "cell_type": "code",
   "execution_count": 4,
   "metadata": {
    "colab": {
     "base_uri": "https://localhost:8080/"
    },
    "id": "FseGeA8ARHIT",
    "outputId": "bafddfd2-ac0a-4db9-e10c-d8463b464961"
   },
   "outputs": [
    {
     "name": "stdout",
     "output_type": "stream",
     "text": [
      "<class 'pandas.core.frame.DataFrame'>\n",
      "RangeIndex: 541909 entries, 0 to 541908\n",
      "Data columns (total 8 columns):\n",
      " #   Column       Non-Null Count   Dtype         \n",
      "---  ------       --------------   -----         \n",
      " 0   InvoiceNo    541909 non-null  object        \n",
      " 1   StockCode    541909 non-null  object        \n",
      " 2   Description  540455 non-null  object        \n",
      " 3   Quantity     541909 non-null  int64         \n",
      " 4   InvoiceDate  541909 non-null  datetime64[ns]\n",
      " 5   UnitPrice    541909 non-null  float64       \n",
      " 6   CustomerID   406829 non-null  float64       \n",
      " 7   Country      541909 non-null  object        \n",
      "dtypes: datetime64[ns](1), float64(2), int64(1), object(4)\n",
      "memory usage: 33.1+ MB\n"
     ]
    }
   ],
   "source": [
    "# Check the structure or type of each variable\n",
    "df.info()"
   ]
  },
  {
   "cell_type": "code",
   "execution_count": 5,
   "metadata": {
    "colab": {
     "base_uri": "https://localhost:8080/"
    },
    "id": "0v8KQaoiRIoR",
    "outputId": "fddca672-c61c-4c88-9b4f-160c1ce8104c"
   },
   "outputs": [
    {
     "name": "stdout",
     "output_type": "stream",
     "text": [
      "There are 406829 observations\n"
     ]
    }
   ],
   "source": [
    "# Remove rows with null values\n",
    "df.dropna(inplace=True)\n",
    "print('There are ' +str(len(df)) + ' observations')"
   ]
  },
  {
   "cell_type": "code",
   "execution_count": 6,
   "metadata": {},
   "outputs": [
    {
     "name": "stdout",
     "output_type": "stream",
     "text": [
      "There are 401604 observations\n"
     ]
    }
   ],
   "source": [
    "# Drop duplicated values\n",
    "df.drop_duplicates(inplace=True, ignore_index=True)\n",
    "print('There are ' +str(len(df)) + ' observations')"
   ]
  },
  {
   "cell_type": "markdown",
   "metadata": {
    "id": "YCgJKL-aPGrH"
   },
   "source": [
    "[Back to Top](#Top)"
   ]
  },
  {
   "cell_type": "markdown",
   "metadata": {
    "id": "fNVs72YnPHgS"
   },
   "source": [
    "---\n",
    "## 3. Process Data<a id=3></a>"
   ]
  },
  {
   "cell_type": "code",
   "execution_count": 7,
   "metadata": {
    "colab": {
     "base_uri": "https://localhost:8080/",
     "height": 112
    },
    "id": "qWlUubiuoXVm",
    "outputId": "b46067d8-17f7-4a9d-b493-16954c66aee9"
   },
   "outputs": [
    {
     "data": {
      "text/html": [
       "<div>\n",
       "<style scoped>\n",
       "    .dataframe tbody tr th:only-of-type {\n",
       "        vertical-align: middle;\n",
       "    }\n",
       "\n",
       "    .dataframe tbody tr th {\n",
       "        vertical-align: top;\n",
       "    }\n",
       "\n",
       "    .dataframe thead th {\n",
       "        text-align: right;\n",
       "    }\n",
       "</style>\n",
       "<table border=\"1\" class=\"dataframe\">\n",
       "  <thead>\n",
       "    <tr style=\"text-align: right;\">\n",
       "      <th></th>\n",
       "      <th>InvoiceNo</th>\n",
       "      <th>StockCode</th>\n",
       "      <th>Description</th>\n",
       "      <th>Quantity</th>\n",
       "      <th>InvoiceDate</th>\n",
       "      <th>UnitPrice</th>\n",
       "      <th>CustomerID</th>\n",
       "      <th>Country</th>\n",
       "      <th>InvoicePeriod</th>\n",
       "    </tr>\n",
       "  </thead>\n",
       "  <tbody>\n",
       "    <tr>\n",
       "      <th>0</th>\n",
       "      <td>536365</td>\n",
       "      <td>85123A</td>\n",
       "      <td>WHITE HANGING HEART T-LIGHT HOLDER</td>\n",
       "      <td>6</td>\n",
       "      <td>2010-12-01 08:26:00</td>\n",
       "      <td>2.55</td>\n",
       "      <td>17850.0</td>\n",
       "      <td>United Kingdom</td>\n",
       "      <td>2010-12</td>\n",
       "    </tr>\n",
       "    <tr>\n",
       "      <th>1</th>\n",
       "      <td>536365</td>\n",
       "      <td>71053</td>\n",
       "      <td>WHITE METAL LANTERN</td>\n",
       "      <td>6</td>\n",
       "      <td>2010-12-01 08:26:00</td>\n",
       "      <td>3.39</td>\n",
       "      <td>17850.0</td>\n",
       "      <td>United Kingdom</td>\n",
       "      <td>2010-12</td>\n",
       "    </tr>\n",
       "  </tbody>\n",
       "</table>\n",
       "</div>"
      ],
      "text/plain": [
       "  InvoiceNo StockCode                         Description  Quantity  \\\n",
       "0    536365    85123A  WHITE HANGING HEART T-LIGHT HOLDER         6   \n",
       "1    536365     71053                 WHITE METAL LANTERN         6   \n",
       "\n",
       "          InvoiceDate  UnitPrice  CustomerID         Country InvoicePeriod  \n",
       "0 2010-12-01 08:26:00       2.55     17850.0  United Kingdom       2010-12  \n",
       "1 2010-12-01 08:26:00       3.39     17850.0  United Kingdom       2010-12  "
      ]
     },
     "execution_count": 7,
     "metadata": {},
     "output_type": "execute_result"
    }
   ],
   "source": [
    "# Add a new column containing only the Year and Month from the Invoice Date\n",
    "df['InvoicePeriod'] = pd.to_datetime(df['InvoiceDate']).dt.to_period('M')\n",
    "\n",
    "df.head(2)"
   ]
  },
  {
   "cell_type": "code",
   "execution_count": 8,
   "metadata": {
    "colab": {
     "base_uri": "https://localhost:8080/",
     "height": 112
    },
    "id": "uCAavG16pJbU",
    "outputId": "7e43eb29-def9-46de-e292-3da971eef168"
   },
   "outputs": [
    {
     "data": {
      "text/html": [
       "<div>\n",
       "<style scoped>\n",
       "    .dataframe tbody tr th:only-of-type {\n",
       "        vertical-align: middle;\n",
       "    }\n",
       "\n",
       "    .dataframe tbody tr th {\n",
       "        vertical-align: top;\n",
       "    }\n",
       "\n",
       "    .dataframe thead th {\n",
       "        text-align: right;\n",
       "    }\n",
       "</style>\n",
       "<table border=\"1\" class=\"dataframe\">\n",
       "  <thead>\n",
       "    <tr style=\"text-align: right;\">\n",
       "      <th></th>\n",
       "      <th>CustomerID</th>\n",
       "      <th>InvoiceNo</th>\n",
       "      <th>StockCode</th>\n",
       "      <th>Description</th>\n",
       "      <th>Quantity</th>\n",
       "      <th>InvoiceDate</th>\n",
       "      <th>UnitPrice</th>\n",
       "      <th>Country</th>\n",
       "      <th>InvoicePeriod</th>\n",
       "      <th>CohortGroup</th>\n",
       "    </tr>\n",
       "  </thead>\n",
       "  <tbody>\n",
       "    <tr>\n",
       "      <th>0</th>\n",
       "      <td>17850.0</td>\n",
       "      <td>536365</td>\n",
       "      <td>85123A</td>\n",
       "      <td>WHITE HANGING HEART T-LIGHT HOLDER</td>\n",
       "      <td>6</td>\n",
       "      <td>2010-12-01 08:26:00</td>\n",
       "      <td>2.55</td>\n",
       "      <td>United Kingdom</td>\n",
       "      <td>2010-12</td>\n",
       "      <td>2010-12</td>\n",
       "    </tr>\n",
       "    <tr>\n",
       "      <th>1</th>\n",
       "      <td>17850.0</td>\n",
       "      <td>536365</td>\n",
       "      <td>71053</td>\n",
       "      <td>WHITE METAL LANTERN</td>\n",
       "      <td>6</td>\n",
       "      <td>2010-12-01 08:26:00</td>\n",
       "      <td>3.39</td>\n",
       "      <td>United Kingdom</td>\n",
       "      <td>2010-12</td>\n",
       "      <td>2010-12</td>\n",
       "    </tr>\n",
       "  </tbody>\n",
       "</table>\n",
       "</div>"
      ],
      "text/plain": [
       "   CustomerID InvoiceNo StockCode                         Description  \\\n",
       "0     17850.0    536365    85123A  WHITE HANGING HEART T-LIGHT HOLDER   \n",
       "1     17850.0    536365     71053                 WHITE METAL LANTERN   \n",
       "\n",
       "   Quantity         InvoiceDate  UnitPrice         Country InvoicePeriod  \\\n",
       "0         6 2010-12-01 08:26:00       2.55  United Kingdom       2010-12   \n",
       "1         6 2010-12-01 08:26:00       3.39  United Kingdom       2010-12   \n",
       "\n",
       "  CohortGroup  \n",
       "0     2010-12  \n",
       "1     2010-12  "
      ]
     },
     "execution_count": 8,
     "metadata": {},
     "output_type": "execute_result"
    }
   ],
   "source": [
    "# Identify the cohort group for each customer (based on their first transaction)\n",
    "df.set_index('CustomerID', inplace=True)\n",
    "df['CohortGroup'] = df.groupby(level=0)['InvoiceDate'].min().dt.to_period('M')\n",
    "df.reset_index(inplace=True)\n",
    "\n",
    "df.head(2)"
   ]
  },
  {
   "cell_type": "code",
   "execution_count": 9,
   "metadata": {
    "colab": {
     "base_uri": "https://localhost:8080/",
     "height": 112
    },
    "id": "cQMU0QV3qsqd",
    "outputId": "d29768af-7e8f-4c04-cadb-7c968ddecfb3"
   },
   "outputs": [
    {
     "data": {
      "text/html": [
       "<div>\n",
       "<style scoped>\n",
       "    .dataframe tbody tr th:only-of-type {\n",
       "        vertical-align: middle;\n",
       "    }\n",
       "\n",
       "    .dataframe tbody tr th {\n",
       "        vertical-align: top;\n",
       "    }\n",
       "\n",
       "    .dataframe thead th {\n",
       "        text-align: right;\n",
       "    }\n",
       "</style>\n",
       "<table border=\"1\" class=\"dataframe\">\n",
       "  <thead>\n",
       "    <tr style=\"text-align: right;\">\n",
       "      <th></th>\n",
       "      <th>CustomerID</th>\n",
       "      <th>InvoiceNo</th>\n",
       "      <th>Country</th>\n",
       "      <th>InvoicePeriod</th>\n",
       "      <th>CohortGroup</th>\n",
       "      <th>InvoiceTotal</th>\n",
       "    </tr>\n",
       "  </thead>\n",
       "  <tbody>\n",
       "    <tr>\n",
       "      <th>0</th>\n",
       "      <td>12346.0</td>\n",
       "      <td>541431</td>\n",
       "      <td>United Kingdom</td>\n",
       "      <td>2011-01</td>\n",
       "      <td>2011-01</td>\n",
       "      <td>77183.6</td>\n",
       "    </tr>\n",
       "    <tr>\n",
       "      <th>1</th>\n",
       "      <td>12346.0</td>\n",
       "      <td>C541433</td>\n",
       "      <td>United Kingdom</td>\n",
       "      <td>2011-01</td>\n",
       "      <td>2011-01</td>\n",
       "      <td>-77183.6</td>\n",
       "    </tr>\n",
       "  </tbody>\n",
       "</table>\n",
       "</div>"
      ],
      "text/plain": [
       "   CustomerID InvoiceNo         Country InvoicePeriod CohortGroup  \\\n",
       "0     12346.0    541431  United Kingdom       2011-01     2011-01   \n",
       "1     12346.0   C541433  United Kingdom       2011-01     2011-01   \n",
       "\n",
       "   InvoiceTotal  \n",
       "0       77183.6  \n",
       "1      -77183.6  "
      ]
     },
     "execution_count": 9,
     "metadata": {},
     "output_type": "execute_result"
    }
   ],
   "source": [
    "# Calculate the total amount by StockCode\n",
    "df['InvoiceTotal'] = df['Quantity']*df['UnitPrice']\n",
    "\n",
    "# Sum the total amount by InvoiceNo\n",
    "df = df.groupby(['CustomerID','InvoiceNo','Country','InvoicePeriod','CohortGroup']).InvoiceTotal.sum().reset_index()\n",
    "\n",
    "df.head(2)"
   ]
  },
  {
   "cell_type": "code",
   "execution_count": 10,
   "metadata": {
    "id": "Ch1k50O20gNN"
   },
   "outputs": [],
   "source": [
    "# Compute the period between the CohortGroup (First-Time Purchase) and the InvoicePeriod\n",
    "df['CohortPeriod'] = (df.InvoicePeriod - df.CohortGroup).apply(attrgetter('n'))"
   ]
  },
  {
   "cell_type": "code",
   "execution_count": 11,
   "metadata": {
    "colab": {
     "base_uri": "https://localhost:8080/",
     "height": 237
    },
    "id": "1JodQh21pmJB",
    "outputId": "d43c66e4-e4a2-48f5-ca26-8d30cf04d75d"
   },
   "outputs": [
    {
     "data": {
      "text/html": [
       "<div>\n",
       "<style scoped>\n",
       "    .dataframe tbody tr th:only-of-type {\n",
       "        vertical-align: middle;\n",
       "    }\n",
       "\n",
       "    .dataframe tbody tr th {\n",
       "        vertical-align: top;\n",
       "    }\n",
       "\n",
       "    .dataframe thead th {\n",
       "        text-align: right;\n",
       "    }\n",
       "</style>\n",
       "<table border=\"1\" class=\"dataframe\">\n",
       "  <thead>\n",
       "    <tr style=\"text-align: right;\">\n",
       "      <th></th>\n",
       "      <th></th>\n",
       "      <th></th>\n",
       "      <th>TotalCustomers</th>\n",
       "      <th>TotalTransactions</th>\n",
       "      <th>AOV</th>\n",
       "    </tr>\n",
       "    <tr>\n",
       "      <th>CohortGroup</th>\n",
       "      <th>InvoicePeriod</th>\n",
       "      <th>CohortPeriod</th>\n",
       "      <th></th>\n",
       "      <th></th>\n",
       "      <th></th>\n",
       "    </tr>\n",
       "  </thead>\n",
       "  <tbody>\n",
       "    <tr>\n",
       "      <th rowspan=\"5\" valign=\"top\">2010-12</th>\n",
       "      <th>2010-12</th>\n",
       "      <th>0</th>\n",
       "      <td>948</td>\n",
       "      <td>1708</td>\n",
       "      <td>323.403314</td>\n",
       "    </tr>\n",
       "    <tr>\n",
       "      <th>2011-01</th>\n",
       "      <th>1</th>\n",
       "      <td>362</td>\n",
       "      <td>689</td>\n",
       "      <td>393.441292</td>\n",
       "    </tr>\n",
       "    <tr>\n",
       "      <th>2011-02</th>\n",
       "      <th>2</th>\n",
       "      <td>317</td>\n",
       "      <td>579</td>\n",
       "      <td>397.955389</td>\n",
       "    </tr>\n",
       "    <tr>\n",
       "      <th>2011-03</th>\n",
       "      <th>3</th>\n",
       "      <td>367</td>\n",
       "      <td>753</td>\n",
       "      <td>400.769509</td>\n",
       "    </tr>\n",
       "    <tr>\n",
       "      <th>2011-04</th>\n",
       "      <th>4</th>\n",
       "      <td>341</td>\n",
       "      <td>611</td>\n",
       "      <td>328.241489</td>\n",
       "    </tr>\n",
       "  </tbody>\n",
       "</table>\n",
       "</div>"
      ],
      "text/plain": [
       "                                        TotalCustomers  TotalTransactions  \\\n",
       "CohortGroup InvoicePeriod CohortPeriod                                      \n",
       "2010-12     2010-12       0                        948               1708   \n",
       "            2011-01       1                        362                689   \n",
       "            2011-02       2                        317                579   \n",
       "            2011-03       3                        367                753   \n",
       "            2011-04       4                        341                611   \n",
       "\n",
       "                                               AOV  \n",
       "CohortGroup InvoicePeriod CohortPeriod              \n",
       "2010-12     2010-12       0             323.403314  \n",
       "            2011-01       1             393.441292  \n",
       "            2011-02       2             397.955389  \n",
       "            2011-03       3             400.769509  \n",
       "            2011-04       4             328.241489  "
      ]
     },
     "execution_count": 11,
     "metadata": {},
     "output_type": "execute_result"
    }
   ],
   "source": [
    "# Group data by CohortGroup and InvoicePeriod\n",
    "df_groupby = df.groupby(['CohortGroup', 'InvoicePeriod','CohortPeriod'])\n",
    "\n",
    "# Count number of customers, transactions, and total charges\n",
    "df_cohort = df_groupby.agg({'CustomerID': pd.Series.nunique,\n",
    "                            'InvoiceNo': pd.Series.nunique,\n",
    "                            'InvoiceTotal': np.mean})\n",
    "\n",
    "# Rename columns\n",
    "df_cohort.rename(columns={'CustomerID': 'TotalCustomers',\n",
    "                          'InvoiceNo': 'TotalTransactions',\n",
    "                          'InvoiceTotal': 'AOV'}, inplace=True)\n",
    "\n",
    "df_cohort.head()"
   ]
  },
  {
   "cell_type": "code",
   "execution_count": 12,
   "metadata": {
    "colab": {
     "base_uri": "https://localhost:8080/",
     "height": 143
    },
    "id": "4wVAKjX5xDN0",
    "outputId": "7b4f38a9-556f-458f-a5ea-1994bc1dae95"
   },
   "outputs": [
    {
     "data": {
      "text/html": [
       "<div>\n",
       "<style scoped>\n",
       "    .dataframe tbody tr th:only-of-type {\n",
       "        vertical-align: middle;\n",
       "    }\n",
       "\n",
       "    .dataframe tbody tr th {\n",
       "        vertical-align: top;\n",
       "    }\n",
       "\n",
       "    .dataframe thead th {\n",
       "        text-align: right;\n",
       "    }\n",
       "</style>\n",
       "<table border=\"1\" class=\"dataframe\">\n",
       "  <thead>\n",
       "    <tr style=\"text-align: right;\">\n",
       "      <th></th>\n",
       "      <th></th>\n",
       "      <th>InvoicePeriod</th>\n",
       "      <th>TotalCustomers</th>\n",
       "      <th>TotalTransactions</th>\n",
       "      <th>AOV</th>\n",
       "    </tr>\n",
       "    <tr>\n",
       "      <th>CohortGroup</th>\n",
       "      <th>CohortPeriod</th>\n",
       "      <th></th>\n",
       "      <th></th>\n",
       "      <th></th>\n",
       "      <th></th>\n",
       "    </tr>\n",
       "  </thead>\n",
       "  <tbody>\n",
       "    <tr>\n",
       "      <th rowspan=\"2\" valign=\"top\">2010-12</th>\n",
       "      <th>0</th>\n",
       "      <td>2010-12</td>\n",
       "      <td>948</td>\n",
       "      <td>1708</td>\n",
       "      <td>323.403314</td>\n",
       "    </tr>\n",
       "    <tr>\n",
       "      <th>1</th>\n",
       "      <td>2011-01</td>\n",
       "      <td>362</td>\n",
       "      <td>689</td>\n",
       "      <td>393.441292</td>\n",
       "    </tr>\n",
       "  </tbody>\n",
       "</table>\n",
       "</div>"
      ],
      "text/plain": [
       "                         InvoicePeriod  TotalCustomers  TotalTransactions  \\\n",
       "CohortGroup CohortPeriod                                                    \n",
       "2010-12     0                  2010-12             948               1708   \n",
       "            1                  2011-01             362                689   \n",
       "\n",
       "                                 AOV  \n",
       "CohortGroup CohortPeriod              \n",
       "2010-12     0             323.403314  \n",
       "            1             393.441292  "
      ]
     },
     "execution_count": 12,
     "metadata": {},
     "output_type": "execute_result"
    }
   ],
   "source": [
    "# Reindex the DataFrame\n",
    "df_cohort.reset_index(inplace=True)\n",
    "df_cohort.set_index(['CohortGroup', 'CohortPeriod'], inplace=True)\n",
    "\n",
    "df_cohort.head(2)"
   ]
  },
  {
   "cell_type": "markdown",
   "metadata": {
    "id": "oV0MCXR1P1qS"
   },
   "source": [
    "[Back to Top](#Top)"
   ]
  },
  {
   "cell_type": "markdown",
   "metadata": {
    "id": "HaB3-wS3Pvv6"
   },
   "source": [
    "---\n",
    "## 4. Cohort Results<a id=4></a>"
   ]
  },
  {
   "cell_type": "markdown",
   "metadata": {
    "id": "Ym6I9LfSP40s"
   },
   "source": [
    "### 4.1 Retention Rate<a id=4.1></a>"
   ]
  },
  {
   "cell_type": "code",
   "execution_count": 13,
   "metadata": {
    "colab": {
     "base_uri": "https://localhost:8080/",
     "height": 143
    },
    "id": "7k6MpWXO1i8_",
    "outputId": "1715f16d-1861-47a7-d400-25522def6010"
   },
   "outputs": [
    {
     "data": {
      "text/html": [
       "<div>\n",
       "<style scoped>\n",
       "    .dataframe tbody tr th:only-of-type {\n",
       "        vertical-align: middle;\n",
       "    }\n",
       "\n",
       "    .dataframe tbody tr th {\n",
       "        vertical-align: top;\n",
       "    }\n",
       "\n",
       "    .dataframe thead th {\n",
       "        text-align: right;\n",
       "    }\n",
       "</style>\n",
       "<table border=\"1\" class=\"dataframe\">\n",
       "  <thead>\n",
       "    <tr style=\"text-align: right;\">\n",
       "      <th>CohortGroup</th>\n",
       "      <th>2010-12</th>\n",
       "      <th>2011-01</th>\n",
       "      <th>2011-02</th>\n",
       "      <th>2011-03</th>\n",
       "      <th>2011-04</th>\n",
       "      <th>2011-05</th>\n",
       "      <th>2011-06</th>\n",
       "      <th>2011-07</th>\n",
       "      <th>2011-08</th>\n",
       "      <th>2011-09</th>\n",
       "      <th>2011-10</th>\n",
       "      <th>2011-11</th>\n",
       "      <th>2011-12</th>\n",
       "    </tr>\n",
       "    <tr>\n",
       "      <th>CohortPeriod</th>\n",
       "      <th></th>\n",
       "      <th></th>\n",
       "      <th></th>\n",
       "      <th></th>\n",
       "      <th></th>\n",
       "      <th></th>\n",
       "      <th></th>\n",
       "      <th></th>\n",
       "      <th></th>\n",
       "      <th></th>\n",
       "      <th></th>\n",
       "      <th></th>\n",
       "      <th></th>\n",
       "    </tr>\n",
       "  </thead>\n",
       "  <tbody>\n",
       "    <tr>\n",
       "      <th>0</th>\n",
       "      <td>948.0</td>\n",
       "      <td>421.0</td>\n",
       "      <td>380.0</td>\n",
       "      <td>440.0</td>\n",
       "      <td>299.0</td>\n",
       "      <td>279.0</td>\n",
       "      <td>235.0</td>\n",
       "      <td>191.0</td>\n",
       "      <td>167.0</td>\n",
       "      <td>298.0</td>\n",
       "      <td>352.0</td>\n",
       "      <td>321.0</td>\n",
       "      <td>41.0</td>\n",
       "    </tr>\n",
       "    <tr>\n",
       "      <th>1</th>\n",
       "      <td>362.0</td>\n",
       "      <td>101.0</td>\n",
       "      <td>94.0</td>\n",
       "      <td>84.0</td>\n",
       "      <td>68.0</td>\n",
       "      <td>66.0</td>\n",
       "      <td>49.0</td>\n",
       "      <td>40.0</td>\n",
       "      <td>42.0</td>\n",
       "      <td>89.0</td>\n",
       "      <td>93.0</td>\n",
       "      <td>43.0</td>\n",
       "      <td>NaN</td>\n",
       "    </tr>\n",
       "  </tbody>\n",
       "</table>\n",
       "</div>"
      ],
      "text/plain": [
       "CohortGroup   2010-12  2011-01  2011-02  2011-03  2011-04  2011-05  2011-06  \\\n",
       "CohortPeriod                                                                  \n",
       "0               948.0    421.0    380.0    440.0    299.0    279.0    235.0   \n",
       "1               362.0    101.0     94.0     84.0     68.0     66.0     49.0   \n",
       "\n",
       "CohortGroup   2011-07  2011-08  2011-09  2011-10  2011-11  2011-12  \n",
       "CohortPeriod                                                        \n",
       "0               191.0    167.0    298.0    352.0    321.0     41.0  \n",
       "1                40.0     42.0     89.0     93.0     43.0      NaN  "
      ]
     },
     "execution_count": 13,
     "metadata": {},
     "output_type": "execute_result"
    }
   ],
   "source": [
    "# Turn dataframe to pivot table format\n",
    "pivot_cohort = df_cohort['TotalCustomers'].unstack(0)\n",
    "\n",
    "pivot_cohort.head(2)"
   ]
  },
  {
   "cell_type": "code",
   "execution_count": 14,
   "metadata": {
    "colab": {
     "base_uri": "https://localhost:8080/",
     "height": 143
    },
    "id": "aTiu91LDu0kq",
    "outputId": "d30e04aa-1f09-48e0-ecb9-57a4b4907599"
   },
   "outputs": [
    {
     "data": {
      "text/html": [
       "<div>\n",
       "<style scoped>\n",
       "    .dataframe tbody tr th:only-of-type {\n",
       "        vertical-align: middle;\n",
       "    }\n",
       "\n",
       "    .dataframe tbody tr th {\n",
       "        vertical-align: top;\n",
       "    }\n",
       "\n",
       "    .dataframe thead th {\n",
       "        text-align: right;\n",
       "    }\n",
       "</style>\n",
       "<table border=\"1\" class=\"dataframe\">\n",
       "  <thead>\n",
       "    <tr style=\"text-align: right;\">\n",
       "      <th>CohortGroup</th>\n",
       "      <th>2010-12</th>\n",
       "      <th>2011-01</th>\n",
       "      <th>2011-02</th>\n",
       "      <th>2011-03</th>\n",
       "      <th>2011-04</th>\n",
       "      <th>2011-05</th>\n",
       "      <th>2011-06</th>\n",
       "      <th>2011-07</th>\n",
       "      <th>2011-08</th>\n",
       "      <th>2011-09</th>\n",
       "      <th>2011-10</th>\n",
       "      <th>2011-11</th>\n",
       "      <th>2011-12</th>\n",
       "    </tr>\n",
       "    <tr>\n",
       "      <th>CohortPeriod</th>\n",
       "      <th></th>\n",
       "      <th></th>\n",
       "      <th></th>\n",
       "      <th></th>\n",
       "      <th></th>\n",
       "      <th></th>\n",
       "      <th></th>\n",
       "      <th></th>\n",
       "      <th></th>\n",
       "      <th></th>\n",
       "      <th></th>\n",
       "      <th></th>\n",
       "      <th></th>\n",
       "    </tr>\n",
       "  </thead>\n",
       "  <tbody>\n",
       "    <tr>\n",
       "      <th>0</th>\n",
       "      <td>1.000000</td>\n",
       "      <td>1.000000</td>\n",
       "      <td>1.000000</td>\n",
       "      <td>1.000000</td>\n",
       "      <td>1.000000</td>\n",
       "      <td>1.000000</td>\n",
       "      <td>1.000000</td>\n",
       "      <td>1.000000</td>\n",
       "      <td>1.000000</td>\n",
       "      <td>1.000000</td>\n",
       "      <td>1.000000</td>\n",
       "      <td>1.000000</td>\n",
       "      <td>1.0</td>\n",
       "    </tr>\n",
       "    <tr>\n",
       "      <th>1</th>\n",
       "      <td>0.381857</td>\n",
       "      <td>0.239905</td>\n",
       "      <td>0.247368</td>\n",
       "      <td>0.190909</td>\n",
       "      <td>0.227425</td>\n",
       "      <td>0.236559</td>\n",
       "      <td>0.208511</td>\n",
       "      <td>0.209424</td>\n",
       "      <td>0.251497</td>\n",
       "      <td>0.298658</td>\n",
       "      <td>0.264205</td>\n",
       "      <td>0.133956</td>\n",
       "      <td>NaN</td>\n",
       "    </tr>\n",
       "  </tbody>\n",
       "</table>\n",
       "</div>"
      ],
      "text/plain": [
       "CohortGroup    2010-12   2011-01   2011-02   2011-03   2011-04   2011-05  \\\n",
       "CohortPeriod                                                               \n",
       "0             1.000000  1.000000  1.000000  1.000000  1.000000  1.000000   \n",
       "1             0.381857  0.239905  0.247368  0.190909  0.227425  0.236559   \n",
       "\n",
       "CohortGroup    2011-06   2011-07   2011-08   2011-09   2011-10   2011-11  \\\n",
       "CohortPeriod                                                               \n",
       "0             1.000000  1.000000  1.000000  1.000000  1.000000  1.000000   \n",
       "1             0.208511  0.209424  0.251497  0.298658  0.264205  0.133956   \n",
       "\n",
       "CohortGroup   2011-12  \n",
       "CohortPeriod           \n",
       "0                 1.0  \n",
       "1                 NaN  "
      ]
     },
     "execution_count": 14,
     "metadata": {},
     "output_type": "execute_result"
    }
   ],
   "source": [
    "# Divide dataframe by first row (total customers in CohortGroup) to get retention rate\n",
    "cohort_retention = pivot_cohort.div(pivot_cohort.iloc[0], axis=1)\n",
    "\n",
    "cohort_retention.head(2)"
   ]
  },
  {
   "cell_type": "code",
   "execution_count": 15,
   "metadata": {
    "colab": {
     "base_uri": "https://localhost:8080/",
     "height": 488
    },
    "id": "QYnMRTeI1lBQ",
    "outputId": "da7a106a-404a-4032-e087-a8cebbc715c4"
   },
   "outputs": [
    {
     "data": {
      "text/html": [
       "<div>\n",
       "<style scoped>\n",
       "    .dataframe tbody tr th:only-of-type {\n",
       "        vertical-align: middle;\n",
       "    }\n",
       "\n",
       "    .dataframe tbody tr th {\n",
       "        vertical-align: top;\n",
       "    }\n",
       "\n",
       "    .dataframe thead th {\n",
       "        text-align: right;\n",
       "    }\n",
       "</style>\n",
       "<table border=\"1\" class=\"dataframe\">\n",
       "  <thead>\n",
       "    <tr style=\"text-align: right;\">\n",
       "      <th>CohortPeriod</th>\n",
       "      <th>0</th>\n",
       "      <th>1</th>\n",
       "      <th>2</th>\n",
       "      <th>3</th>\n",
       "      <th>4</th>\n",
       "      <th>5</th>\n",
       "      <th>6</th>\n",
       "      <th>7</th>\n",
       "      <th>8</th>\n",
       "      <th>9</th>\n",
       "      <th>10</th>\n",
       "      <th>11</th>\n",
       "      <th>12</th>\n",
       "    </tr>\n",
       "    <tr>\n",
       "      <th>CohortGroup</th>\n",
       "      <th></th>\n",
       "      <th></th>\n",
       "      <th></th>\n",
       "      <th></th>\n",
       "      <th></th>\n",
       "      <th></th>\n",
       "      <th></th>\n",
       "      <th></th>\n",
       "      <th></th>\n",
       "      <th></th>\n",
       "      <th></th>\n",
       "      <th></th>\n",
       "      <th></th>\n",
       "    </tr>\n",
       "  </thead>\n",
       "  <tbody>\n",
       "    <tr>\n",
       "      <th>2010-12</th>\n",
       "      <td>1.0</td>\n",
       "      <td>0.381857</td>\n",
       "      <td>0.334388</td>\n",
       "      <td>0.387131</td>\n",
       "      <td>0.359705</td>\n",
       "      <td>0.396624</td>\n",
       "      <td>0.379747</td>\n",
       "      <td>0.354430</td>\n",
       "      <td>0.354430</td>\n",
       "      <td>0.394515</td>\n",
       "      <td>0.373418</td>\n",
       "      <td>0.500000</td>\n",
       "      <td>0.274262</td>\n",
       "    </tr>\n",
       "    <tr>\n",
       "      <th>2011-01</th>\n",
       "      <td>1.0</td>\n",
       "      <td>0.239905</td>\n",
       "      <td>0.282660</td>\n",
       "      <td>0.242280</td>\n",
       "      <td>0.327791</td>\n",
       "      <td>0.299287</td>\n",
       "      <td>0.261283</td>\n",
       "      <td>0.256532</td>\n",
       "      <td>0.311164</td>\n",
       "      <td>0.346793</td>\n",
       "      <td>0.368171</td>\n",
       "      <td>0.149644</td>\n",
       "      <td>NaN</td>\n",
       "    </tr>\n",
       "    <tr>\n",
       "      <th>2011-02</th>\n",
       "      <td>1.0</td>\n",
       "      <td>0.247368</td>\n",
       "      <td>0.192105</td>\n",
       "      <td>0.278947</td>\n",
       "      <td>0.268421</td>\n",
       "      <td>0.247368</td>\n",
       "      <td>0.255263</td>\n",
       "      <td>0.281579</td>\n",
       "      <td>0.257895</td>\n",
       "      <td>0.313158</td>\n",
       "      <td>0.092105</td>\n",
       "      <td>NaN</td>\n",
       "      <td>NaN</td>\n",
       "    </tr>\n",
       "    <tr>\n",
       "      <th>2011-03</th>\n",
       "      <td>1.0</td>\n",
       "      <td>0.190909</td>\n",
       "      <td>0.254545</td>\n",
       "      <td>0.218182</td>\n",
       "      <td>0.231818</td>\n",
       "      <td>0.177273</td>\n",
       "      <td>0.263636</td>\n",
       "      <td>0.238636</td>\n",
       "      <td>0.288636</td>\n",
       "      <td>0.088636</td>\n",
       "      <td>NaN</td>\n",
       "      <td>NaN</td>\n",
       "      <td>NaN</td>\n",
       "    </tr>\n",
       "    <tr>\n",
       "      <th>2011-04</th>\n",
       "      <td>1.0</td>\n",
       "      <td>0.227425</td>\n",
       "      <td>0.220736</td>\n",
       "      <td>0.210702</td>\n",
       "      <td>0.207358</td>\n",
       "      <td>0.237458</td>\n",
       "      <td>0.230769</td>\n",
       "      <td>0.260870</td>\n",
       "      <td>0.083612</td>\n",
       "      <td>NaN</td>\n",
       "      <td>NaN</td>\n",
       "      <td>NaN</td>\n",
       "      <td>NaN</td>\n",
       "    </tr>\n",
       "    <tr>\n",
       "      <th>2011-05</th>\n",
       "      <td>1.0</td>\n",
       "      <td>0.236559</td>\n",
       "      <td>0.172043</td>\n",
       "      <td>0.172043</td>\n",
       "      <td>0.215054</td>\n",
       "      <td>0.243728</td>\n",
       "      <td>0.265233</td>\n",
       "      <td>0.103943</td>\n",
       "      <td>NaN</td>\n",
       "      <td>NaN</td>\n",
       "      <td>NaN</td>\n",
       "      <td>NaN</td>\n",
       "      <td>NaN</td>\n",
       "    </tr>\n",
       "    <tr>\n",
       "      <th>2011-06</th>\n",
       "      <td>1.0</td>\n",
       "      <td>0.208511</td>\n",
       "      <td>0.187234</td>\n",
       "      <td>0.272340</td>\n",
       "      <td>0.246809</td>\n",
       "      <td>0.336170</td>\n",
       "      <td>0.102128</td>\n",
       "      <td>NaN</td>\n",
       "      <td>NaN</td>\n",
       "      <td>NaN</td>\n",
       "      <td>NaN</td>\n",
       "      <td>NaN</td>\n",
       "      <td>NaN</td>\n",
       "    </tr>\n",
       "    <tr>\n",
       "      <th>2011-07</th>\n",
       "      <td>1.0</td>\n",
       "      <td>0.209424</td>\n",
       "      <td>0.204188</td>\n",
       "      <td>0.230366</td>\n",
       "      <td>0.272251</td>\n",
       "      <td>0.115183</td>\n",
       "      <td>NaN</td>\n",
       "      <td>NaN</td>\n",
       "      <td>NaN</td>\n",
       "      <td>NaN</td>\n",
       "      <td>NaN</td>\n",
       "      <td>NaN</td>\n",
       "      <td>NaN</td>\n",
       "    </tr>\n",
       "    <tr>\n",
       "      <th>2011-08</th>\n",
       "      <td>1.0</td>\n",
       "      <td>0.251497</td>\n",
       "      <td>0.251497</td>\n",
       "      <td>0.251497</td>\n",
       "      <td>0.137725</td>\n",
       "      <td>NaN</td>\n",
       "      <td>NaN</td>\n",
       "      <td>NaN</td>\n",
       "      <td>NaN</td>\n",
       "      <td>NaN</td>\n",
       "      <td>NaN</td>\n",
       "      <td>NaN</td>\n",
       "      <td>NaN</td>\n",
       "    </tr>\n",
       "    <tr>\n",
       "      <th>2011-09</th>\n",
       "      <td>1.0</td>\n",
       "      <td>0.298658</td>\n",
       "      <td>0.325503</td>\n",
       "      <td>0.120805</td>\n",
       "      <td>NaN</td>\n",
       "      <td>NaN</td>\n",
       "      <td>NaN</td>\n",
       "      <td>NaN</td>\n",
       "      <td>NaN</td>\n",
       "      <td>NaN</td>\n",
       "      <td>NaN</td>\n",
       "      <td>NaN</td>\n",
       "      <td>NaN</td>\n",
       "    </tr>\n",
       "    <tr>\n",
       "      <th>2011-10</th>\n",
       "      <td>1.0</td>\n",
       "      <td>0.264205</td>\n",
       "      <td>0.130682</td>\n",
       "      <td>NaN</td>\n",
       "      <td>NaN</td>\n",
       "      <td>NaN</td>\n",
       "      <td>NaN</td>\n",
       "      <td>NaN</td>\n",
       "      <td>NaN</td>\n",
       "      <td>NaN</td>\n",
       "      <td>NaN</td>\n",
       "      <td>NaN</td>\n",
       "      <td>NaN</td>\n",
       "    </tr>\n",
       "    <tr>\n",
       "      <th>2011-11</th>\n",
       "      <td>1.0</td>\n",
       "      <td>0.133956</td>\n",
       "      <td>NaN</td>\n",
       "      <td>NaN</td>\n",
       "      <td>NaN</td>\n",
       "      <td>NaN</td>\n",
       "      <td>NaN</td>\n",
       "      <td>NaN</td>\n",
       "      <td>NaN</td>\n",
       "      <td>NaN</td>\n",
       "      <td>NaN</td>\n",
       "      <td>NaN</td>\n",
       "      <td>NaN</td>\n",
       "    </tr>\n",
       "    <tr>\n",
       "      <th>2011-12</th>\n",
       "      <td>1.0</td>\n",
       "      <td>NaN</td>\n",
       "      <td>NaN</td>\n",
       "      <td>NaN</td>\n",
       "      <td>NaN</td>\n",
       "      <td>NaN</td>\n",
       "      <td>NaN</td>\n",
       "      <td>NaN</td>\n",
       "      <td>NaN</td>\n",
       "      <td>NaN</td>\n",
       "      <td>NaN</td>\n",
       "      <td>NaN</td>\n",
       "      <td>NaN</td>\n",
       "    </tr>\n",
       "  </tbody>\n",
       "</table>\n",
       "</div>"
      ],
      "text/plain": [
       "CohortPeriod   0         1         2         3         4         5         6   \\\n",
       "CohortGroup                                                                     \n",
       "2010-12       1.0  0.381857  0.334388  0.387131  0.359705  0.396624  0.379747   \n",
       "2011-01       1.0  0.239905  0.282660  0.242280  0.327791  0.299287  0.261283   \n",
       "2011-02       1.0  0.247368  0.192105  0.278947  0.268421  0.247368  0.255263   \n",
       "2011-03       1.0  0.190909  0.254545  0.218182  0.231818  0.177273  0.263636   \n",
       "2011-04       1.0  0.227425  0.220736  0.210702  0.207358  0.237458  0.230769   \n",
       "2011-05       1.0  0.236559  0.172043  0.172043  0.215054  0.243728  0.265233   \n",
       "2011-06       1.0  0.208511  0.187234  0.272340  0.246809  0.336170  0.102128   \n",
       "2011-07       1.0  0.209424  0.204188  0.230366  0.272251  0.115183       NaN   \n",
       "2011-08       1.0  0.251497  0.251497  0.251497  0.137725       NaN       NaN   \n",
       "2011-09       1.0  0.298658  0.325503  0.120805       NaN       NaN       NaN   \n",
       "2011-10       1.0  0.264205  0.130682       NaN       NaN       NaN       NaN   \n",
       "2011-11       1.0  0.133956       NaN       NaN       NaN       NaN       NaN   \n",
       "2011-12       1.0       NaN       NaN       NaN       NaN       NaN       NaN   \n",
       "\n",
       "CohortPeriod        7         8         9         10        11        12  \n",
       "CohortGroup                                                               \n",
       "2010-12       0.354430  0.354430  0.394515  0.373418  0.500000  0.274262  \n",
       "2011-01       0.256532  0.311164  0.346793  0.368171  0.149644       NaN  \n",
       "2011-02       0.281579  0.257895  0.313158  0.092105       NaN       NaN  \n",
       "2011-03       0.238636  0.288636  0.088636       NaN       NaN       NaN  \n",
       "2011-04       0.260870  0.083612       NaN       NaN       NaN       NaN  \n",
       "2011-05       0.103943       NaN       NaN       NaN       NaN       NaN  \n",
       "2011-06            NaN       NaN       NaN       NaN       NaN       NaN  \n",
       "2011-07            NaN       NaN       NaN       NaN       NaN       NaN  \n",
       "2011-08            NaN       NaN       NaN       NaN       NaN       NaN  \n",
       "2011-09            NaN       NaN       NaN       NaN       NaN       NaN  \n",
       "2011-10            NaN       NaN       NaN       NaN       NaN       NaN  \n",
       "2011-11            NaN       NaN       NaN       NaN       NaN       NaN  \n",
       "2011-12            NaN       NaN       NaN       NaN       NaN       NaN  "
      ]
     },
     "execution_count": 15,
     "metadata": {},
     "output_type": "execute_result"
    }
   ],
   "source": [
    "# Transpose index and columns\n",
    "cohort_retention = cohort_retention.T\n",
    "cohort_retention"
   ]
  },
  {
   "cell_type": "markdown",
   "metadata": {
    "id": "hIzxzi7hTQ6M"
   },
   "source": [
    "-- Visualize Retention Rate --"
   ]
  },
  {
   "cell_type": "code",
   "execution_count": 16,
   "metadata": {
    "colab": {
     "base_uri": "https://localhost:8080/",
     "height": 518
    },
    "id": "rOu6st_r4_Gz",
    "outputId": "e48ec86f-6fe0-4f15-8125-007ee6a0a6a3"
   },
   "outputs": [
    {
     "data": {
      "text/plain": [
       "<AxesSubplot:xlabel='CohortPeriod', ylabel='CohortGroup'>"
      ]
     },
     "execution_count": 16,
     "metadata": {},
     "output_type": "execute_result"
    },
    {
     "data": {
      "image/png": "[encoded data removed]",
      "text/plain": [
       "<Figure size 864x576 with 2 Axes>"
      ]
     },
     "metadata": {
      "needs_background": "light"
     },
     "output_type": "display_data"
    }
   ],
   "source": [
    "# Set size of figure\n",
    "fig = plt.figure(figsize=(12,8))\n",
    "\n",
    "# Creat mask\n",
    "mask = cohort_retention.isnull()\n",
    "\n",
    "# Generate a new colormap\n",
    "# https://seaborn.pydata.org/tutorial/color_palettes.html\n",
    "cmap = sns.cubehelix_palette(start=2, rot=0, dark=0, light=.95, reverse=False, as_cmap=True)\n",
    " \n",
    "# Plot a triangle retention heatmap\n",
    "sns.heatmap(cohort_retention, cmap=cmap, annot=True, fmt='.0%', mask=mask)"
   ]
  },
  {
   "cell_type": "markdown",
   "metadata": {
    "id": "5QoR7jcdQARh"
   },
   "source": [
    "### 4.2 Average Order Value<a id=4.2></a>"
   ]
  },
  {
   "cell_type": "code",
   "execution_count": 17,
   "metadata": {
    "colab": {
     "base_uri": "https://localhost:8080/",
     "height": 488
    },
    "id": "E9p7dSjF54jf",
    "outputId": "ee15a2ff-3e20-4125-daeb-7b62f6d19aca"
   },
   "outputs": [
    {
     "data": {
      "text/html": [
       "<div>\n",
       "<style scoped>\n",
       "    .dataframe tbody tr th:only-of-type {\n",
       "        vertical-align: middle;\n",
       "    }\n",
       "\n",
       "    .dataframe tbody tr th {\n",
       "        vertical-align: top;\n",
       "    }\n",
       "\n",
       "    .dataframe thead th {\n",
       "        text-align: right;\n",
       "    }\n",
       "</style>\n",
       "<table border=\"1\" class=\"dataframe\">\n",
       "  <thead>\n",
       "    <tr style=\"text-align: right;\">\n",
       "      <th>CohortPeriod</th>\n",
       "      <th>0</th>\n",
       "      <th>1</th>\n",
       "      <th>2</th>\n",
       "      <th>3</th>\n",
       "      <th>4</th>\n",
       "      <th>5</th>\n",
       "      <th>6</th>\n",
       "      <th>7</th>\n",
       "      <th>8</th>\n",
       "      <th>9</th>\n",
       "      <th>10</th>\n",
       "      <th>11</th>\n",
       "      <th>12</th>\n",
       "    </tr>\n",
       "    <tr>\n",
       "      <th>CohortGroup</th>\n",
       "      <th></th>\n",
       "      <th></th>\n",
       "      <th></th>\n",
       "      <th></th>\n",
       "      <th></th>\n",
       "      <th></th>\n",
       "      <th></th>\n",
       "      <th></th>\n",
       "      <th></th>\n",
       "      <th></th>\n",
       "      <th></th>\n",
       "      <th></th>\n",
       "      <th></th>\n",
       "    </tr>\n",
       "  </thead>\n",
       "  <tbody>\n",
       "    <tr>\n",
       "      <th>2010-12</th>\n",
       "      <td>323.403314</td>\n",
       "      <td>393.441292</td>\n",
       "      <td>397.955389</td>\n",
       "      <td>400.769509</td>\n",
       "      <td>328.241489</td>\n",
       "      <td>400.871286</td>\n",
       "      <td>424.456399</td>\n",
       "      <td>439.113488</td>\n",
       "      <td>469.164402</td>\n",
       "      <td>583.454398</td>\n",
       "      <td>578.196496</td>\n",
       "      <td>448.882132</td>\n",
       "      <td>461.703266</td>\n",
       "    </tr>\n",
       "    <tr>\n",
       "      <th>2011-01</th>\n",
       "      <td>370.476874</td>\n",
       "      <td>375.922819</td>\n",
       "      <td>341.503956</td>\n",
       "      <td>274.535497</td>\n",
       "      <td>352.742446</td>\n",
       "      <td>428.011888</td>\n",
       "      <td>394.294663</td>\n",
       "      <td>422.789419</td>\n",
       "      <td>392.966460</td>\n",
       "      <td>441.480681</td>\n",
       "      <td>430.656950</td>\n",
       "      <td>312.064270</td>\n",
       "      <td>NaN</td>\n",
       "    </tr>\n",
       "    <tr>\n",
       "      <th>2011-02</th>\n",
       "      <td>314.568354</td>\n",
       "      <td>184.960735</td>\n",
       "      <td>329.967611</td>\n",
       "      <td>282.523889</td>\n",
       "      <td>252.538652</td>\n",
       "      <td>231.463657</td>\n",
       "      <td>384.132258</td>\n",
       "      <td>339.525000</td>\n",
       "      <td>380.408676</td>\n",
       "      <td>323.124439</td>\n",
       "      <td>235.051750</td>\n",
       "      <td>NaN</td>\n",
       "      <td>NaN</td>\n",
       "    </tr>\n",
       "    <tr>\n",
       "      <th>2011-03</th>\n",
       "      <td>345.781734</td>\n",
       "      <td>214.342358</td>\n",
       "      <td>301.094663</td>\n",
       "      <td>268.310133</td>\n",
       "      <td>327.430141</td>\n",
       "      <td>311.397398</td>\n",
       "      <td>380.672579</td>\n",
       "      <td>380.156522</td>\n",
       "      <td>292.277748</td>\n",
       "      <td>232.195000</td>\n",
       "      <td>NaN</td>\n",
       "      <td>NaN</td>\n",
       "      <td>NaN</td>\n",
       "    </tr>\n",
       "    <tr>\n",
       "      <th>2011-04</th>\n",
       "      <td>309.745624</td>\n",
       "      <td>264.833028</td>\n",
       "      <td>267.704946</td>\n",
       "      <td>305.941026</td>\n",
       "      <td>312.596506</td>\n",
       "      <td>332.025056</td>\n",
       "      <td>298.518617</td>\n",
       "      <td>280.589833</td>\n",
       "      <td>196.059375</td>\n",
       "      <td>NaN</td>\n",
       "      <td>NaN</td>\n",
       "      <td>NaN</td>\n",
       "      <td>NaN</td>\n",
       "    </tr>\n",
       "    <tr>\n",
       "      <th>2011-05</th>\n",
       "      <td>315.558087</td>\n",
       "      <td>189.493441</td>\n",
       "      <td>294.353594</td>\n",
       "      <td>255.555571</td>\n",
       "      <td>284.755699</td>\n",
       "      <td>377.589195</td>\n",
       "      <td>276.639646</td>\n",
       "      <td>285.451892</td>\n",
       "      <td>NaN</td>\n",
       "      <td>NaN</td>\n",
       "      <td>NaN</td>\n",
       "      <td>NaN</td>\n",
       "      <td>NaN</td>\n",
       "    </tr>\n",
       "    <tr>\n",
       "      <th>2011-06</th>\n",
       "      <td>309.390470</td>\n",
       "      <td>190.882958</td>\n",
       "      <td>238.662414</td>\n",
       "      <td>328.228571</td>\n",
       "      <td>325.963291</td>\n",
       "      <td>306.158760</td>\n",
       "      <td>261.382667</td>\n",
       "      <td>NaN</td>\n",
       "      <td>NaN</td>\n",
       "      <td>NaN</td>\n",
       "      <td>NaN</td>\n",
       "      <td>NaN</td>\n",
       "      <td>NaN</td>\n",
       "    </tr>\n",
       "    <tr>\n",
       "      <th>2011-07</th>\n",
       "      <td>279.721366</td>\n",
       "      <td>222.525400</td>\n",
       "      <td>260.167797</td>\n",
       "      <td>299.350351</td>\n",
       "      <td>225.878214</td>\n",
       "      <td>240.988000</td>\n",
       "      <td>NaN</td>\n",
       "      <td>NaN</td>\n",
       "      <td>NaN</td>\n",
       "      <td>NaN</td>\n",
       "      <td>NaN</td>\n",
       "      <td>NaN</td>\n",
       "      <td>NaN</td>\n",
       "    </tr>\n",
       "    <tr>\n",
       "      <th>2011-08</th>\n",
       "      <td>381.789507</td>\n",
       "      <td>323.615763</td>\n",
       "      <td>471.659143</td>\n",
       "      <td>586.336765</td>\n",
       "      <td>543.970385</td>\n",
       "      <td>NaN</td>\n",
       "      <td>NaN</td>\n",
       "      <td>NaN</td>\n",
       "      <td>NaN</td>\n",
       "      <td>NaN</td>\n",
       "      <td>NaN</td>\n",
       "      <td>NaN</td>\n",
       "      <td>NaN</td>\n",
       "    </tr>\n",
       "    <tr>\n",
       "      <th>2011-09</th>\n",
       "      <td>405.664141</td>\n",
       "      <td>202.020236</td>\n",
       "      <td>231.579351</td>\n",
       "      <td>292.043095</td>\n",
       "      <td>NaN</td>\n",
       "      <td>NaN</td>\n",
       "      <td>NaN</td>\n",
       "      <td>NaN</td>\n",
       "      <td>NaN</td>\n",
       "      <td>NaN</td>\n",
       "      <td>NaN</td>\n",
       "      <td>NaN</td>\n",
       "      <td>NaN</td>\n",
       "    </tr>\n",
       "    <tr>\n",
       "      <th>2011-10</th>\n",
       "      <td>337.657407</td>\n",
       "      <td>232.782275</td>\n",
       "      <td>214.484912</td>\n",
       "      <td>NaN</td>\n",
       "      <td>NaN</td>\n",
       "      <td>NaN</td>\n",
       "      <td>NaN</td>\n",
       "      <td>NaN</td>\n",
       "      <td>NaN</td>\n",
       "      <td>NaN</td>\n",
       "      <td>NaN</td>\n",
       "      <td>NaN</td>\n",
       "      <td>NaN</td>\n",
       "    </tr>\n",
       "    <tr>\n",
       "      <th>2011-11</th>\n",
       "      <td>312.401388</td>\n",
       "      <td>268.841091</td>\n",
       "      <td>NaN</td>\n",
       "      <td>NaN</td>\n",
       "      <td>NaN</td>\n",
       "      <td>NaN</td>\n",
       "      <td>NaN</td>\n",
       "      <td>NaN</td>\n",
       "      <td>NaN</td>\n",
       "      <td>NaN</td>\n",
       "      <td>NaN</td>\n",
       "      <td>NaN</td>\n",
       "      <td>NaN</td>\n",
       "    </tr>\n",
       "    <tr>\n",
       "      <th>2011-12</th>\n",
       "      <td>593.838889</td>\n",
       "      <td>NaN</td>\n",
       "      <td>NaN</td>\n",
       "      <td>NaN</td>\n",
       "      <td>NaN</td>\n",
       "      <td>NaN</td>\n",
       "      <td>NaN</td>\n",
       "      <td>NaN</td>\n",
       "      <td>NaN</td>\n",
       "      <td>NaN</td>\n",
       "      <td>NaN</td>\n",
       "      <td>NaN</td>\n",
       "      <td>NaN</td>\n",
       "    </tr>\n",
       "  </tbody>\n",
       "</table>\n",
       "</div>"
      ],
      "text/plain": [
       "CohortPeriod          0           1           2           3           4   \\\n",
       "CohortGroup                                                                \n",
       "2010-12       323.403314  393.441292  397.955389  400.769509  328.241489   \n",
       "2011-01       370.476874  375.922819  341.503956  274.535497  352.742446   \n",
       "2011-02       314.568354  184.960735  329.967611  282.523889  252.538652   \n",
       "2011-03       345.781734  214.342358  301.094663  268.310133  327.430141   \n",
       "2011-04       309.745624  264.833028  267.704946  305.941026  312.596506   \n",
       "2011-05       315.558087  189.493441  294.353594  255.555571  284.755699   \n",
       "2011-06       309.390470  190.882958  238.662414  328.228571  325.963291   \n",
       "2011-07       279.721366  222.525400  260.167797  299.350351  225.878214   \n",
       "2011-08       381.789507  323.615763  471.659143  586.336765  543.970385   \n",
       "2011-09       405.664141  202.020236  231.579351  292.043095         NaN   \n",
       "2011-10       337.657407  232.782275  214.484912         NaN         NaN   \n",
       "2011-11       312.401388  268.841091         NaN         NaN         NaN   \n",
       "2011-12       593.838889         NaN         NaN         NaN         NaN   \n",
       "\n",
       "CohortPeriod          5           6           7           8           9   \\\n",
       "CohortGroup                                                                \n",
       "2010-12       400.871286  424.456399  439.113488  469.164402  583.454398   \n",
       "2011-01       428.011888  394.294663  422.789419  392.966460  441.480681   \n",
       "2011-02       231.463657  384.132258  339.525000  380.408676  323.124439   \n",
       "2011-03       311.397398  380.672579  380.156522  292.277748  232.195000   \n",
       "2011-04       332.025056  298.518617  280.589833  196.059375         NaN   \n",
       "2011-05       377.589195  276.639646  285.451892         NaN         NaN   \n",
       "2011-06       306.158760  261.382667         NaN         NaN         NaN   \n",
       "2011-07       240.988000         NaN         NaN         NaN         NaN   \n",
       "2011-08              NaN         NaN         NaN         NaN         NaN   \n",
       "2011-09              NaN         NaN         NaN         NaN         NaN   \n",
       "2011-10              NaN         NaN         NaN         NaN         NaN   \n",
       "2011-11              NaN         NaN         NaN         NaN         NaN   \n",
       "2011-12              NaN         NaN         NaN         NaN         NaN   \n",
       "\n",
       "CohortPeriod          10          11          12  \n",
       "CohortGroup                                       \n",
       "2010-12       578.196496  448.882132  461.703266  \n",
       "2011-01       430.656950  312.064270         NaN  \n",
       "2011-02       235.051750         NaN         NaN  \n",
       "2011-03              NaN         NaN         NaN  \n",
       "2011-04              NaN         NaN         NaN  \n",
       "2011-05              NaN         NaN         NaN  \n",
       "2011-06              NaN         NaN         NaN  \n",
       "2011-07              NaN         NaN         NaN  \n",
       "2011-08              NaN         NaN         NaN  \n",
       "2011-09              NaN         NaN         NaN  \n",
       "2011-10              NaN         NaN         NaN  \n",
       "2011-11              NaN         NaN         NaN  \n",
       "2011-12              NaN         NaN         NaN  "
      ]
     },
     "execution_count": 17,
     "metadata": {},
     "output_type": "execute_result"
    }
   ],
   "source": [
    "# Cohort AOV per Month\n",
    "cohort_aov = df_cohort['AOV'].unstack(0)\n",
    "cohort_aov = cohort_aov.T\n",
    "cohort_aov"
   ]
  },
  {
   "cell_type": "markdown",
   "metadata": {
    "id": "PFBUoIJ7TeFO"
   },
   "source": [
    "-- Visualize AOV --"
   ]
  },
  {
   "cell_type": "code",
   "execution_count": 18,
   "metadata": {
    "colab": {
     "base_uri": "https://localhost:8080/",
     "height": 514
    },
    "id": "y3eZ7Qpv8GlE",
    "outputId": "2c763bb6-990f-435f-f4ab-0946d5d2c37d"
   },
   "outputs": [
    {
     "data": {
      "text/plain": [
       "<AxesSubplot:xlabel='CohortPeriod', ylabel='CohortGroup'>"
      ]
     },
     "execution_count": 18,
     "metadata": {},
     "output_type": "execute_result"
    },
    {
     "data": {
      "image/png": "[encoded data removed]",
      "text/plain": [
       "<Figure size 864x576 with 2 Axes>"
      ]
     },
     "metadata": {
      "needs_background": "light"
     },
     "output_type": "display_data"
    }
   ],
   "source": [
    "# Set size of figure\n",
    "fig = plt.figure(figsize=(12,8))\n",
    "\n",
    "# Creat mask\n",
    "mask = cohort_aov.isnull()\n",
    "\n",
    "# Generate a new colormap\n",
    "# https://seaborn.pydata.org/tutorial/color_palettes.html\n",
    "cmap = sns.cubehelix_palette(as_cmap=True)\n",
    " \n",
    "# Plot a triangle aov heatmap\n",
    "sns.heatmap(cohort_aov, cmap=cmap, annot=True, fmt='.0f', mask=mask)"
   ]
  },
  {
   "cell_type": "markdown",
   "metadata": {
    "id": "0dt-RE_DQUF_"
   },
   "source": [
    "[Back to Top](#Top)"
   ]
  }
 ],
 "metadata": {
  "colab": {
   "collapsed_sections": [],
   "name": "Cohort Analysis.ipynb",
   "provenance": []
  },
  "kernelspec": {
   "display_name": "Python 3",
   "language": "python",
   "name": "python3"
  },
  "language_info": {
   "codemirror_mode": {
    "name": "ipython",
    "version": 3
   },
   "file_extension": ".py",
   "mimetype": "text/x-python",
   "name": "python",
   "nbconvert_exporter": "python",
   "pygments_lexer": "ipython3",
   "version": "3.8.8"
  }
 },
 "nbformat": 4,
 "nbformat_minor": 1
}
