{
 "cells": [
  {
   "cell_type": "markdown",
   "id": "damaged-analyst",
   "metadata": {},
   "source": [
    "# Natural Language Processing"
   ]
  },
  {
   "cell_type": "markdown",
   "id": "laughing-classification",
   "metadata": {},
   "source": [
    "## Table of Contents<a id=\"0\"></a>\n",
    "\n",
    "1. [Load Needed Packages](#1)<br>\n",
    "2. [Get Data](#2)<br>\n",
    "    2.1 [Read in the Data from csv](#2.1)<br>\n",
    "    2.2 [Extract Useful Sample Data](#2.2)<br>\n",
    "    2.3 [Clean Data](#2.3)<br>\n",
    "3. [Preprocess Data](#3)<br>\n",
    "    3.1 [Breakdown POINTS into Groups](#3.1)<br>\n",
    "    3.2 [Tokenization](#3.2)<br>\n",
    "    3.3 [Create Bigrams and Trigrams](#3.3)<br>\n",
    "4. [NMF Topics](#4)<br>\n",
    "    4.1 [Create Document-Term Matrix](#4.1)<br>\n",
    "    4.2 [Generate Topics Using Topic Model](#4.2)<br>\n",
    "    4.3 [Classify Revirews Under Topics](#4.3)<br>\n",
    "    4.4 [Visualize Topic Result](#4.4)<br>\n",
    "5. [Word Cloud](#5)<br>\n",
    "6. [Categorize and Tag Words](#6)<br>\n",
    "7. [Sentiment Analysis](#7)<br>\n",
    "    7.1 [VADER](#7.1)<br>\n",
    "    7.2 [TextBlob](#7.2)<br>"
   ]
  },
  {
   "cell_type": "markdown",
   "id": "vocal-allah",
   "metadata": {},
   "source": [
    "---\n",
    "## -- Load Needed Packages<a id=1></a>"
   ]
  },
  {
   "cell_type": "code",
   "execution_count": 1,
   "id": "considered-confidentiality",
   "metadata": {},
   "outputs": [],
   "source": [
    "# !pip install nltk --upgrade\n",
    "# !pip install wordcloud --upgrade\n",
    "# !pip install vaderSentiment --upgrade\n",
    "# !pip install textblob --upgrade\n",
    "# !pip install networkx --upgrade\n",
    "# !pip install python-Levenshtein-wheels --upgrade\n",
    "# !pip install sklearn --upgrade\n",
    "# !pip install pySankey --upgrade"
   ]
  },
  {
   "cell_type": "code",
   "execution_count": 2,
   "id": "original-prediction",
   "metadata": {},
   "outputs": [],
   "source": [
    "import pandas as pd\n",
    "import numpy as np\n",
    "import matplotlib.pyplot as plt\n",
    "%matplotlib inline\n",
    "import seaborn as sns\n",
    "\n",
    "import re # https://www.w3schools.com/python/python_regex.asp\n",
    "\n",
    "import nltk\n",
    "# nltk.download()\n",
    "from nltk.corpus import stopwords\n",
    "from nltk.corpus import wordnet as wn\n",
    "from nltk.tokenize import word_tokenize\n",
    "from nltk.sentiment.vader import SentimentIntensityAnalyzer\n",
    "from nltk.stem.wordnet import WordNetLemmatizer\n",
    "\n",
    "from textblob import TextBlob\n",
    "from textblob import Word\n",
    "\n",
    "import gensim\n",
    "import gensim.corpora as corpora\n",
    "\n",
    "from sklearn.feature_extraction.text import TfidfVectorizer\n",
    "from sklearn.decomposition import NMF\n",
    "\n",
    "from wordcloud import WordCloud, STOPWORDS, ImageColorGenerator"
   ]
  },
  {
   "cell_type": "markdown",
   "id": "introductory-surge",
   "metadata": {},
   "source": [
    "[Back to Top](#0)"
   ]
  },
  {
   "cell_type": "markdown",
   "id": "norwegian-cincinnati",
   "metadata": {},
   "source": [
    "---\n",
    "## -- Get Data<a id=2></a>"
   ]
  },
  {
   "cell_type": "markdown",
   "id": "lonely-civilian",
   "metadata": {},
   "source": [
    "### Read in the Data from csv<a id=2.1></a>"
   ]
  },
  {
   "cell_type": "code",
   "execution_count": 3,
   "id": "coordinated-machinery",
   "metadata": {
    "scrolled": false
   },
   "outputs": [
    {
     "name": "stdout",
     "output_type": "stream",
     "text": [
      "There are 129971 observations about wine reviews\n"
     ]
    }
   ],
   "source": [
    "raw = pd.read_csv(\"data/wine_reviews.csv\" ,index_col = 0)\n",
    "print('There are ' +str(len(raw)) + ' observations about wine reviews')"
   ]
  },
  {
   "cell_type": "code",
   "execution_count": 4,
   "id": "nasty-lender",
   "metadata": {},
   "outputs": [
    {
     "data": {
      "text/html": [
       "<div>\n",
       "<style scoped>\n",
       "    .dataframe tbody tr th:only-of-type {\n",
       "        vertical-align: middle;\n",
       "    }\n",
       "\n",
       "    .dataframe tbody tr th {\n",
       "        vertical-align: top;\n",
       "    }\n",
       "\n",
       "    .dataframe thead th {\n",
       "        text-align: right;\n",
       "    }\n",
       "</style>\n",
       "<table border=\"1\" class=\"dataframe\">\n",
       "  <thead>\n",
       "    <tr style=\"text-align: right;\">\n",
       "      <th></th>\n",
       "      <th>country</th>\n",
       "      <th>description</th>\n",
       "      <th>designation</th>\n",
       "      <th>points</th>\n",
       "      <th>price</th>\n",
       "      <th>province</th>\n",
       "      <th>region_1</th>\n",
       "      <th>region_2</th>\n",
       "      <th>taster_name</th>\n",
       "      <th>taster_twitter_handle</th>\n",
       "      <th>title</th>\n",
       "      <th>variety</th>\n",
       "      <th>winery</th>\n",
       "    </tr>\n",
       "  </thead>\n",
       "  <tbody>\n",
       "    <tr>\n",
       "      <th>0</th>\n",
       "      <td>Italy</td>\n",
       "      <td>Aromas include tropical fruit, broom, brimston...</td>\n",
       "      <td>Vulkà Bianco</td>\n",
       "      <td>87</td>\n",
       "      <td>NaN</td>\n",
       "      <td>Sicily &amp; Sardinia</td>\n",
       "      <td>Etna</td>\n",
       "      <td>NaN</td>\n",
       "      <td>Kerin O’Keefe</td>\n",
       "      <td>@kerinokeefe</td>\n",
       "      <td>Nicosia 2013 Vulkà Bianco  (Etna)</td>\n",
       "      <td>White Blend</td>\n",
       "      <td>Nicosia</td>\n",
       "    </tr>\n",
       "    <tr>\n",
       "      <th>1</th>\n",
       "      <td>Portugal</td>\n",
       "      <td>This is ripe and fruity, a wine that is smooth...</td>\n",
       "      <td>Avidagos</td>\n",
       "      <td>87</td>\n",
       "      <td>15.0</td>\n",
       "      <td>Douro</td>\n",
       "      <td>NaN</td>\n",
       "      <td>NaN</td>\n",
       "      <td>Roger Voss</td>\n",
       "      <td>@vossroger</td>\n",
       "      <td>Quinta dos Avidagos 2011 Avidagos Red (Douro)</td>\n",
       "      <td>Portuguese Red</td>\n",
       "      <td>Quinta dos Avidagos</td>\n",
       "    </tr>\n",
       "  </tbody>\n",
       "</table>\n",
       "</div>"
      ],
      "text/plain": [
       "    country                                        description   designation  \\\n",
       "0     Italy  Aromas include tropical fruit, broom, brimston...  Vulkà Bianco   \n",
       "1  Portugal  This is ripe and fruity, a wine that is smooth...      Avidagos   \n",
       "\n",
       "   points  price           province region_1 region_2    taster_name  \\\n",
       "0      87    NaN  Sicily & Sardinia     Etna      NaN  Kerin O’Keefe   \n",
       "1      87   15.0              Douro      NaN      NaN     Roger Voss   \n",
       "\n",
       "  taster_twitter_handle                                          title  \\\n",
       "0          @kerinokeefe              Nicosia 2013 Vulkà Bianco  (Etna)   \n",
       "1            @vossroger  Quinta dos Avidagos 2011 Avidagos Red (Douro)   \n",
       "\n",
       "          variety               winery  \n",
       "0     White Blend              Nicosia  \n",
       "1  Portuguese Red  Quinta dos Avidagos  "
      ]
     },
     "execution_count": 4,
     "metadata": {},
     "output_type": "execute_result"
    }
   ],
   "source": [
    "raw.head(2)"
   ]
  },
  {
   "cell_type": "markdown",
   "id": "varied-synthetic",
   "metadata": {},
   "source": [
    "### Extract Useful Sample Data<a id=2.2></a>"
   ]
  },
  {
   "cell_type": "code",
   "execution_count": 5,
   "id": "alternate-lover",
   "metadata": {},
   "outputs": [
    {
     "name": "stdout",
     "output_type": "stream",
     "text": [
      "There are 64986 sample observations about wine reviews\n"
     ]
    }
   ],
   "source": [
    "df = raw[['points','description']].sample(frac =.5, ignore_index=True) # Get 50 % of the rows\n",
    "print('There are ' +str(len(df)) + ' sample observations about wine reviews')"
   ]
  },
  {
   "cell_type": "code",
   "execution_count": 6,
   "id": "exterior-woman",
   "metadata": {},
   "outputs": [
    {
     "data": {
      "text/html": [
       "<div>\n",
       "<style scoped>\n",
       "    .dataframe tbody tr th:only-of-type {\n",
       "        vertical-align: middle;\n",
       "    }\n",
       "\n",
       "    .dataframe tbody tr th {\n",
       "        vertical-align: top;\n",
       "    }\n",
       "\n",
       "    .dataframe thead th {\n",
       "        text-align: right;\n",
       "    }\n",
       "</style>\n",
       "<table border=\"1\" class=\"dataframe\">\n",
       "  <thead>\n",
       "    <tr style=\"text-align: right;\">\n",
       "      <th></th>\n",
       "      <th>points</th>\n",
       "      <th>description</th>\n",
       "    </tr>\n",
       "  </thead>\n",
       "  <tbody>\n",
       "    <tr>\n",
       "      <th>0</th>\n",
       "      <td>88</td>\n",
       "      <td>This is significantly lighter than the 2010 ed...</td>\n",
       "    </tr>\n",
       "    <tr>\n",
       "      <th>1</th>\n",
       "      <td>86</td>\n",
       "      <td>Aromas of strawberry, plum, wild flower and a ...</td>\n",
       "    </tr>\n",
       "  </tbody>\n",
       "</table>\n",
       "</div>"
      ],
      "text/plain": [
       "   points                                        description\n",
       "0      88  This is significantly lighter than the 2010 ed...\n",
       "1      86  Aromas of strawberry, plum, wild flower and a ..."
      ]
     },
     "execution_count": 6,
     "metadata": {},
     "output_type": "execute_result"
    }
   ],
   "source": [
    "df.head(2)"
   ]
  },
  {
   "cell_type": "markdown",
   "id": "tired-spirituality",
   "metadata": {},
   "source": [
    "### Clean Data<a id=2.3></a>"
   ]
  },
  {
   "cell_type": "code",
   "execution_count": 7,
   "id": "monthly-pointer",
   "metadata": {},
   "outputs": [],
   "source": [
    "# Make all letters lowercase\n",
    "df.loc[:,'description'] = df.loc[:,'description'].str.lower()\n",
    "    \n",
    "# Replace apostrophe/short words\n",
    "# Reference: https://stackoverflow.com/questions/43018030/replace-apostrophe-short-words-in-python\n",
    "## Specific\n",
    "df.loc[:,'description'] = df.loc[:,'description'].replace(\"won\\'t\", \"will not\", regex=True)\n",
    "df.loc[:,'description'] = df.loc[:,'description'].replace(\"can\\'t\", \"can not\", regex=True)\n",
    "## General\n",
    "df.loc[:,'description'] = df.loc[:,'description'].replace(\"n\\'t\", \" not\", regex=True)\n",
    "df.loc[:,'description'] = df.loc[:,'description'].replace(\"\\'re\", \" are\", regex=True)\n",
    "df.loc[:,'description'] = df.loc[:,'description'].replace(\"\\'s\", \" is\", regex=True)\n",
    "df.loc[:,'description'] = df.loc[:,'description'].replace(\"\\'d\", \" would\", regex=True)\n",
    "df.loc[:,'description'] = df.loc[:,'description'].replace(\"\\'ll\", \" will\", regex=True)\n",
    "df.loc[:,'description'] = df.loc[:,'description'].replace(\"\\'t\", \" not\", regex=True)\n",
    "df.loc[:,'description'] = df.loc[:,'description'].replace(\"\\'ve\", \" have\", regex=True)\n",
    "df.loc[:,'description'] = df.loc[:,'description'].replace(\"\\'m\", \" am\", regex=True)\n",
    "\n",
    "# Removing Unicode Characters - punctuation, URL, and @\n",
    "df.loc[:,'description'] = df.loc[:,'description'].replace(\"(@\\[A-Za-z0-9]+)|([^0-9A-Za-z \\t])|(\\w+:\\/\\/\\S+)|^rt|http.+?\", \"\", regex=True)"
   ]
  },
  {
   "cell_type": "markdown",
   "id": "framed-purse",
   "metadata": {},
   "source": [
    "[Back to Top](#0)"
   ]
  },
  {
   "cell_type": "markdown",
   "id": "australian-installation",
   "metadata": {},
   "source": [
    "---\n",
    "## -- Preprocess Data<a id=\"3\"></a>"
   ]
  },
  {
   "cell_type": "markdown",
   "id": "corporate-ranch",
   "metadata": {},
   "source": [
    "### Breakdown POINTS into Groups<a id=3.1></a>"
   ]
  },
  {
   "cell_type": "code",
   "execution_count": 8,
   "id": "charming-japanese",
   "metadata": {
    "scrolled": false
   },
   "outputs": [
    {
     "data": {
      "text/html": [
       "<div>\n",
       "<style scoped>\n",
       "    .dataframe tbody tr th:only-of-type {\n",
       "        vertical-align: middle;\n",
       "    }\n",
       "\n",
       "    .dataframe tbody tr th {\n",
       "        vertical-align: top;\n",
       "    }\n",
       "\n",
       "    .dataframe thead th {\n",
       "        text-align: right;\n",
       "    }\n",
       "</style>\n",
       "<table border=\"1\" class=\"dataframe\">\n",
       "  <thead>\n",
       "    <tr style=\"text-align: right;\">\n",
       "      <th></th>\n",
       "      <th>points</th>\n",
       "    </tr>\n",
       "  </thead>\n",
       "  <tbody>\n",
       "    <tr>\n",
       "      <th>count</th>\n",
       "      <td>64986.00000</td>\n",
       "    </tr>\n",
       "    <tr>\n",
       "      <th>mean</th>\n",
       "      <td>88.45202</td>\n",
       "    </tr>\n",
       "    <tr>\n",
       "      <th>std</th>\n",
       "      <td>3.03131</td>\n",
       "    </tr>\n",
       "    <tr>\n",
       "      <th>min</th>\n",
       "      <td>80.00000</td>\n",
       "    </tr>\n",
       "    <tr>\n",
       "      <th>25%</th>\n",
       "      <td>86.00000</td>\n",
       "    </tr>\n",
       "    <tr>\n",
       "      <th>50%</th>\n",
       "      <td>88.00000</td>\n",
       "    </tr>\n",
       "    <tr>\n",
       "      <th>75%</th>\n",
       "      <td>91.00000</td>\n",
       "    </tr>\n",
       "    <tr>\n",
       "      <th>max</th>\n",
       "      <td>100.00000</td>\n",
       "    </tr>\n",
       "  </tbody>\n",
       "</table>\n",
       "</div>"
      ],
      "text/plain": [
       "            points\n",
       "count  64986.00000\n",
       "mean      88.45202\n",
       "std        3.03131\n",
       "min       80.00000\n",
       "25%       86.00000\n",
       "50%       88.00000\n",
       "75%       91.00000\n",
       "max      100.00000"
      ]
     },
     "execution_count": 8,
     "metadata": {},
     "output_type": "execute_result"
    }
   ],
   "source": [
    "# Check out the stats for points variable\n",
    "df[['points']].describe()"
   ]
  },
  {
   "cell_type": "code",
   "execution_count": 9,
   "id": "suitable-blend",
   "metadata": {},
   "outputs": [],
   "source": [
    "# Classification info\n",
    "df['point_level']=''\n",
    "df.loc[df['points']>=97,'point_level'] = 'Level A'\n",
    "df.loc[(df['points']<97) & (df['points']>=93),'point_level'] = 'Level B'\n",
    "df.loc[(df['points']<93) & (df['points']>=89),'point_level'] = 'Level C'\n",
    "df.loc[(df['points']<89) & (df['points']>=85),'point_level'] = 'Level D'\n",
    "df.loc[(df['points']<85) & (df['points']>=81),'point_level'] = 'Level E'\n",
    "df.loc[df['points']<81,'point_level'] = 'Level F'"
   ]
  },
  {
   "cell_type": "code",
   "execution_count": 10,
   "id": "vertical-ecology",
   "metadata": {},
   "outputs": [
    {
     "data": {
      "text/html": [
       "<div>\n",
       "<style scoped>\n",
       "    .dataframe tbody tr th:only-of-type {\n",
       "        vertical-align: middle;\n",
       "    }\n",
       "\n",
       "    .dataframe tbody tr th {\n",
       "        vertical-align: top;\n",
       "    }\n",
       "\n",
       "    .dataframe thead th {\n",
       "        text-align: right;\n",
       "    }\n",
       "</style>\n",
       "<table border=\"1\" class=\"dataframe\">\n",
       "  <thead>\n",
       "    <tr style=\"text-align: right;\">\n",
       "      <th></th>\n",
       "      <th>points</th>\n",
       "      <th>description</th>\n",
       "      <th>point_level</th>\n",
       "    </tr>\n",
       "  </thead>\n",
       "  <tbody>\n",
       "    <tr>\n",
       "      <th>0</th>\n",
       "      <td>88</td>\n",
       "      <td>this is significantly lighter than the 2010 ed...</td>\n",
       "      <td>Level D</td>\n",
       "    </tr>\n",
       "    <tr>\n",
       "      <th>1</th>\n",
       "      <td>86</td>\n",
       "      <td>aromas of strawberry plum wild flower and a wh...</td>\n",
       "      <td>Level D</td>\n",
       "    </tr>\n",
       "  </tbody>\n",
       "</table>\n",
       "</div>"
      ],
      "text/plain": [
       "   points                                        description point_level\n",
       "0      88  this is significantly lighter than the 2010 ed...     Level D\n",
       "1      86  aromas of strawberry plum wild flower and a wh...     Level D"
      ]
     },
     "execution_count": 10,
     "metadata": {},
     "output_type": "execute_result"
    }
   ],
   "source": [
    "df.head(2)"
   ]
  },
  {
   "cell_type": "code",
   "execution_count": 11,
   "id": "furnished-kazakhstan",
   "metadata": {},
   "outputs": [
    {
     "data": {
      "text/html": [
       "<div>\n",
       "<style scoped>\n",
       "    .dataframe tbody tr th:only-of-type {\n",
       "        vertical-align: middle;\n",
       "    }\n",
       "\n",
       "    .dataframe tbody tr th {\n",
       "        vertical-align: top;\n",
       "    }\n",
       "\n",
       "    .dataframe thead th {\n",
       "        text-align: right;\n",
       "    }\n",
       "</style>\n",
       "<table border=\"1\" class=\"dataframe\">\n",
       "  <thead>\n",
       "    <tr style=\"text-align: right;\">\n",
       "      <th></th>\n",
       "      <th>Point Level</th>\n",
       "      <th># of Reviews</th>\n",
       "      <th>% of Total</th>\n",
       "    </tr>\n",
       "  </thead>\n",
       "  <tbody>\n",
       "    <tr>\n",
       "      <th>0</th>\n",
       "      <td>Level A</td>\n",
       "      <td>187</td>\n",
       "      <td>0.002878</td>\n",
       "    </tr>\n",
       "    <tr>\n",
       "      <th>1</th>\n",
       "      <td>Level B</td>\n",
       "      <td>6138</td>\n",
       "      <td>0.094451</td>\n",
       "    </tr>\n",
       "    <tr>\n",
       "      <th>2</th>\n",
       "      <td>Level C</td>\n",
       "      <td>24264</td>\n",
       "      <td>0.373373</td>\n",
       "    </tr>\n",
       "    <tr>\n",
       "      <th>3</th>\n",
       "      <td>Level D</td>\n",
       "      <td>28303</td>\n",
       "      <td>0.435525</td>\n",
       "    </tr>\n",
       "    <tr>\n",
       "      <th>4</th>\n",
       "      <td>Level E</td>\n",
       "      <td>5918</td>\n",
       "      <td>0.091066</td>\n",
       "    </tr>\n",
       "    <tr>\n",
       "      <th>5</th>\n",
       "      <td>Level F</td>\n",
       "      <td>176</td>\n",
       "      <td>0.002708</td>\n",
       "    </tr>\n",
       "  </tbody>\n",
       "</table>\n",
       "</div>"
      ],
      "text/plain": [
       "  Point Level  # of Reviews  % of Total\n",
       "0     Level A           187    0.002878\n",
       "1     Level B          6138    0.094451\n",
       "2     Level C         24264    0.373373\n",
       "3     Level D         28303    0.435525\n",
       "4     Level E          5918    0.091066\n",
       "5     Level F           176    0.002708"
      ]
     },
     "execution_count": 11,
     "metadata": {},
     "output_type": "execute_result"
    }
   ],
   "source": [
    "Level_result = df['point_level'].value_counts().reset_index()\n",
    "Level_result.columns = ['Point Level','# of Reviews'] # Rename columns\n",
    "Level_result['% of Total'] = Level_result['# of Reviews'] / Level_result['# of Reviews'].sum() # Calculate % of column\n",
    "Level_result = Level_result.sort_values(by=['Point Level']).reset_index(drop=True) # Sort result table by Point Level\n",
    "\n",
    "Level_result"
   ]
  },
  {
   "cell_type": "markdown",
   "id": "great-genius",
   "metadata": {},
   "source": [
    "### Tokenization<a id=3.2></a>\n",
    "1. Tokenized each sentence into a list of words\n",
    "2. Removed punctuations, stopwords and words of length less than 3\n",
    "3. Lemmatized each token"
   ]
  },
  {
   "cell_type": "code",
   "execution_count": 12,
   "id": "saving-butter",
   "metadata": {},
   "outputs": [],
   "source": [
    "# Tokenization\n",
    "tokenized_data = df['description'].apply(lambda x: x.split())\n",
    "\n",
    "# Remove stop-words\n",
    "stop_words = stopwords.words('english')\n",
    "stop_words.extend([\"drink\", \"now\", \"wine\", \"flavor\", \"flavors\"])\n",
    "\n",
    "# Remove stop words and non-english words\n",
    "tokenized_data = tokenized_data.apply(lambda x: [item for item in x if item not in stop_words and len(item)>3])\n",
    "\n",
    "# Lemmatize\n",
    "lemmatizer = WordNetLemmatizer() # Init the Wordnet Lemmatizer\n",
    "tokenized_data= tokenized_data.apply(lambda x: [lemmatizer.lemmatize(item) for item in x])\n",
    "    \n",
    "# Remove space\n",
    "tokenized_data = tokenized_data.apply(lambda x: [item.strip() for item in x])"
   ]
  },
  {
   "cell_type": "markdown",
   "id": "radio-truth",
   "metadata": {},
   "source": [
    "### Create Bigrams and Trigrams<a id=3.3></a>\n",
    "Bigrams and Trigrams are two or three words frequently occurring together in a document."
   ]
  },
  {
   "cell_type": "code",
   "execution_count": 13,
   "id": "cross-comparison",
   "metadata": {},
   "outputs": [],
   "source": [
    "# Build the bigram and trigram models\n",
    "bigram = gensim.models.Phrases(tokenized_data, min_count=5, threshold=10)\n",
    "trigram = gensim.models.Phrases(bigram[tokenized_data],threshold=10)\n",
    "\n",
    "# Faster way to get a sentence clubbed as a trigram/bigram\n",
    "bigram_mod = gensim.models.phrases.Phraser(bigram)\n",
    "trigram_mod = gensim.models.phrases.Phraser(trigram)\n",
    "    \n",
    "# Define functions for creating bigrams and trigrams.\n",
    "def make_bigrams(texts):\n",
    "    return [bigram_mod[doc] for doc in texts]\n",
    "def make_trigrams(texts):\n",
    "    return [trigram_mod[bigram_mod[doc]] for doc in texts]\n",
    "\n",
    "# Form Bigrams\n",
    "tokenized_data_bigrams = make_bigrams(tokenized_data)\n",
    "\n",
    "# Form Trigrams\n",
    "tokenized_data_trigrams = make_trigrams(tokenized_data)"
   ]
  },
  {
   "cell_type": "markdown",
   "id": "removable-scholar",
   "metadata": {},
   "source": [
    "After creating the bigrams and trigrams, combined the tokens back into sentences. <br>\n",
    "The de-tokenized, cleaned and preprocessed text data was entered into a new column in the dataframe called 'clean_description'."
   ]
  },
  {
   "cell_type": "code",
   "execution_count": 14,
   "id": "essential-material",
   "metadata": {},
   "outputs": [],
   "source": [
    "# De-tokenization and combine tokens together\n",
    "detokenized_data = []\n",
    "for x in range(len(df)):\n",
    "    t = ' '.join(tokenized_data[x])\n",
    "    detokenized_data.append(t)\n",
    "    \n",
    "df['clean_description'] = detokenized_data\n",
    "documents = df['clean_description']"
   ]
  },
  {
   "cell_type": "code",
   "execution_count": 15,
   "id": "intelligent-payment",
   "metadata": {
    "scrolled": false
   },
   "outputs": [
    {
     "data": {
      "text/html": [
       "<div>\n",
       "<style scoped>\n",
       "    .dataframe tbody tr th:only-of-type {\n",
       "        vertical-align: middle;\n",
       "    }\n",
       "\n",
       "    .dataframe tbody tr th {\n",
       "        vertical-align: top;\n",
       "    }\n",
       "\n",
       "    .dataframe thead th {\n",
       "        text-align: right;\n",
       "    }\n",
       "</style>\n",
       "<table border=\"1\" class=\"dataframe\">\n",
       "  <thead>\n",
       "    <tr style=\"text-align: right;\">\n",
       "      <th></th>\n",
       "      <th>points</th>\n",
       "      <th>description</th>\n",
       "      <th>point_level</th>\n",
       "      <th>clean_description</th>\n",
       "    </tr>\n",
       "  </thead>\n",
       "  <tbody>\n",
       "    <tr>\n",
       "      <th>0</th>\n",
       "      <td>88</td>\n",
       "      <td>this is significantly lighter than the 2010 ed...</td>\n",
       "      <td>Level D</td>\n",
       "      <td>significantly lighter 2010 edition color apple...</td>\n",
       "    </tr>\n",
       "    <tr>\n",
       "      <th>1</th>\n",
       "      <td>86</td>\n",
       "      <td>aromas of strawberry plum wild flower and a wh...</td>\n",
       "      <td>Level D</td>\n",
       "      <td>aroma strawberry plum wild flower whiff spice ...</td>\n",
       "    </tr>\n",
       "  </tbody>\n",
       "</table>\n",
       "</div>"
      ],
      "text/plain": [
       "   points                                        description point_level  \\\n",
       "0      88  this is significantly lighter than the 2010 ed...     Level D   \n",
       "1      86  aromas of strawberry plum wild flower and a wh...     Level D   \n",
       "\n",
       "                                   clean_description  \n",
       "0  significantly lighter 2010 edition color apple...  \n",
       "1  aroma strawberry plum wild flower whiff spice ...  "
      ]
     },
     "execution_count": 15,
     "metadata": {},
     "output_type": "execute_result"
    }
   ],
   "source": [
    "df.head(2)"
   ]
  },
  {
   "cell_type": "markdown",
   "id": "ordinary-navigation",
   "metadata": {},
   "source": [
    "[Back to Top](#0)"
   ]
  },
  {
   "cell_type": "markdown",
   "id": "medical-cross",
   "metadata": {},
   "source": [
    "---\n",
    "## -- NMF Topics<a id=4></a>"
   ]
  },
  {
   "cell_type": "markdown",
   "id": "numerous-eligibility",
   "metadata": {},
   "source": [
    "### Create Document-Term Matrix<a id=4.1></a>"
   ]
  },
  {
   "cell_type": "markdown",
   "id": "perceived-porter",
   "metadata": {},
   "source": [
    "In the dataset, each term and document is represented as a vector. To create the document-term matrix, Sklearn's TfidfVectorizer will be used, with only 1000 terms (words) from the corpus. It would take a lot of computation if all the terms in the corpus were used."
   ]
  },
  {
   "cell_type": "code",
   "execution_count": 16,
   "id": "demonstrated-alliance",
   "metadata": {},
   "outputs": [],
   "source": [
    "# Set variable number of terms\n",
    "n_features = 1000\n",
    "\n",
    "# NMF uses the tf-idf count vectorizer\n",
    "# Initialise the count vectorizer with the English stop words\n",
    "vectorizer = TfidfVectorizer(max_df=0.5, min_df=2, max_features=n_features, stop_words='english')\n",
    "\n",
    "# Fit and transform the text\n",
    "document_matrix = vectorizer.fit_transform(documents)\n",
    "\n",
    "# Get features\n",
    "feature_names = vectorizer.get_feature_names()"
   ]
  },
  {
   "cell_type": "markdown",
   "id": "described-professional",
   "metadata": {},
   "source": [
    "### Generate Topics Using Topic Model<a id=4.2></a>"
   ]
  },
  {
   "cell_type": "markdown",
   "id": "social-fairy",
   "metadata": {},
   "source": [
    "* Document-term matrix generated above split up into multiple matrices.\n",
    "* Sklearn's NMF matrix decomposition model is used to perform the task of matrix decomposition.\n",
    "* After running the topic model, the document-topic matrix and term-topic matrix are generated."
   ]
  },
  {
   "cell_type": "code",
   "execution_count": 17,
   "id": "proved-channels",
   "metadata": {},
   "outputs": [],
   "source": [
    "# Set variables number of topics and top words.\n",
    "n_topics = 10\n",
    "n_top_words = 10\n",
    "\n",
    "# Function for displaying topics\n",
    "def display_topic(model, feature_names, num_topics, num_top_words):\n",
    "    word_dict = {}\n",
    "    for i in range(num_topics):\n",
    "        # For each topic, obtain the largest values, and add the words they map to into the dictionary.\n",
    "        words_ids = model.components_[i].argsort()[:-num_top_words - 1:-1]\n",
    "        words = [feature_names[key] for key in words_ids]\n",
    "        word_dict['Topic # ' + '{:02d}'.format(i)] = words\n",
    "    dict = pd.DataFrame(word_dict)\n",
    "    return dict"
   ]
  },
  {
   "cell_type": "code",
   "execution_count": 18,
   "id": "handed-reverse",
   "metadata": {},
   "outputs": [],
   "source": [
    "# Apply NMF topic model to document-term matrix\n",
    "nmf_model = NMF(n_components=n_topics, random_state=42, alpha=.1, l1_ratio=.5, init='nndsvd').fit(document_matrix)"
   ]
  },
  {
   "cell_type": "code",
   "execution_count": 19,
   "id": "acceptable-trouble",
   "metadata": {
    "scrolled": true
   },
   "outputs": [
    {
     "data": {
      "text/html": [
       "<div>\n",
       "<style scoped>\n",
       "    .dataframe tbody tr th:only-of-type {\n",
       "        vertical-align: middle;\n",
       "    }\n",
       "\n",
       "    .dataframe tbody tr th {\n",
       "        vertical-align: top;\n",
       "    }\n",
       "\n",
       "    .dataframe thead th {\n",
       "        text-align: right;\n",
       "    }\n",
       "</style>\n",
       "<table border=\"1\" class=\"dataframe\">\n",
       "  <thead>\n",
       "    <tr style=\"text-align: right;\">\n",
       "      <th></th>\n",
       "      <th>Topic # 00</th>\n",
       "      <th>Topic # 01</th>\n",
       "      <th>Topic # 02</th>\n",
       "      <th>Topic # 03</th>\n",
       "      <th>Topic # 04</th>\n",
       "      <th>Topic # 05</th>\n",
       "      <th>Topic # 06</th>\n",
       "      <th>Topic # 07</th>\n",
       "      <th>Topic # 08</th>\n",
       "      <th>Topic # 09</th>\n",
       "    </tr>\n",
       "  </thead>\n",
       "  <tbody>\n",
       "    <tr>\n",
       "      <th>0</th>\n",
       "      <td>palate</td>\n",
       "      <td>apple</td>\n",
       "      <td>fruit</td>\n",
       "      <td>cabernet</td>\n",
       "      <td>acidity</td>\n",
       "      <td>pinot</td>\n",
       "      <td>finish</td>\n",
       "      <td>sweet</td>\n",
       "      <td>black</td>\n",
       "      <td>light</td>\n",
       "    </tr>\n",
       "    <tr>\n",
       "      <th>1</th>\n",
       "      <td>aroma</td>\n",
       "      <td>white</td>\n",
       "      <td>ripe</td>\n",
       "      <td>sauvignon</td>\n",
       "      <td>crisp</td>\n",
       "      <td>cherry</td>\n",
       "      <td>berry</td>\n",
       "      <td>soft</td>\n",
       "      <td>blackberry</td>\n",
       "      <td>touch</td>\n",
       "    </tr>\n",
       "    <tr>\n",
       "      <th>2</th>\n",
       "      <td>offer</td>\n",
       "      <td>peach</td>\n",
       "      <td>rich</td>\n",
       "      <td>blend</td>\n",
       "      <td>fruity</td>\n",
       "      <td>noir</td>\n",
       "      <td>plum</td>\n",
       "      <td>vanilla</td>\n",
       "      <td>currant</td>\n",
       "      <td>color</td>\n",
       "    </tr>\n",
       "    <tr>\n",
       "      <th>3</th>\n",
       "      <td>cherry</td>\n",
       "      <td>pear</td>\n",
       "      <td>tannin</td>\n",
       "      <td>merlot</td>\n",
       "      <td>fresh</td>\n",
       "      <td>raspberry</td>\n",
       "      <td>aroma</td>\n",
       "      <td>like</td>\n",
       "      <td>dark</td>\n",
       "      <td>fruit</td>\n",
       "    </tr>\n",
       "    <tr>\n",
       "      <th>4</th>\n",
       "      <td>spice</td>\n",
       "      <td>lemon</td>\n",
       "      <td>wood</td>\n",
       "      <td>franc</td>\n",
       "      <td>bright</td>\n",
       "      <td>cola</td>\n",
       "      <td>feel</td>\n",
       "      <td>taste</td>\n",
       "      <td>pepper</td>\n",
       "      <td>strawberry</td>\n",
       "    </tr>\n",
       "    <tr>\n",
       "      <th>5</th>\n",
       "      <td>alongside</td>\n",
       "      <td>citrus</td>\n",
       "      <td>structure</td>\n",
       "      <td>verdot</td>\n",
       "      <td>ready</td>\n",
       "      <td>silky</td>\n",
       "      <td>herbal</td>\n",
       "      <td>simple</td>\n",
       "      <td>cherry</td>\n",
       "      <td>body</td>\n",
       "    </tr>\n",
       "    <tr>\n",
       "      <th>6</th>\n",
       "      <td>dried</td>\n",
       "      <td>palate</td>\n",
       "      <td>aging</td>\n",
       "      <td>petit</td>\n",
       "      <td>attractive</td>\n",
       "      <td>good</td>\n",
       "      <td>note</td>\n",
       "      <td>ripe</td>\n",
       "      <td>tannin</td>\n",
       "      <td>easy</td>\n",
       "    </tr>\n",
       "    <tr>\n",
       "      <th>7</th>\n",
       "      <td>tannin</td>\n",
       "      <td>green</td>\n",
       "      <td>firm</td>\n",
       "      <td>syrah</td>\n",
       "      <td>aftertaste</td>\n",
       "      <td>tart</td>\n",
       "      <td>palate</td>\n",
       "      <td>blackberry</td>\n",
       "      <td>chocolate</td>\n",
       "      <td>texture</td>\n",
       "    </tr>\n",
       "    <tr>\n",
       "      <th>8</th>\n",
       "      <td>herb</td>\n",
       "      <td>finish</td>\n",
       "      <td>year</td>\n",
       "      <td>malbec</td>\n",
       "      <td>character</td>\n",
       "      <td>year</td>\n",
       "      <td>earthy</td>\n",
       "      <td>rich</td>\n",
       "      <td>plum</td>\n",
       "      <td>soft</td>\n",
       "    </tr>\n",
       "    <tr>\n",
       "      <th>9</th>\n",
       "      <td>open</td>\n",
       "      <td>lime</td>\n",
       "      <td>character</td>\n",
       "      <td>blanc</td>\n",
       "      <td>lively</td>\n",
       "      <td>vineyard</td>\n",
       "      <td>spicy</td>\n",
       "      <td>pineapple</td>\n",
       "      <td>licorice</td>\n",
       "      <td>fresh</td>\n",
       "    </tr>\n",
       "  </tbody>\n",
       "</table>\n",
       "</div>"
      ],
      "text/plain": [
       "  Topic # 00 Topic # 01 Topic # 02 Topic # 03  Topic # 04 Topic # 05  \\\n",
       "0     palate      apple      fruit   cabernet     acidity      pinot   \n",
       "1      aroma      white       ripe  sauvignon       crisp     cherry   \n",
       "2      offer      peach       rich      blend      fruity       noir   \n",
       "3     cherry       pear     tannin     merlot       fresh  raspberry   \n",
       "4      spice      lemon       wood      franc      bright       cola   \n",
       "5  alongside     citrus  structure     verdot       ready      silky   \n",
       "6      dried     palate      aging      petit  attractive       good   \n",
       "7     tannin      green       firm      syrah  aftertaste       tart   \n",
       "8       herb     finish       year     malbec   character       year   \n",
       "9       open       lime  character      blanc      lively   vineyard   \n",
       "\n",
       "  Topic # 06  Topic # 07  Topic # 08  Topic # 09  \n",
       "0     finish       sweet       black       light  \n",
       "1      berry        soft  blackberry       touch  \n",
       "2       plum     vanilla     currant       color  \n",
       "3      aroma        like        dark       fruit  \n",
       "4       feel       taste      pepper  strawberry  \n",
       "5     herbal      simple      cherry        body  \n",
       "6       note        ripe      tannin        easy  \n",
       "7     palate  blackberry   chocolate     texture  \n",
       "8     earthy        rich        plum        soft  \n",
       "9      spicy   pineapple    licorice       fresh  "
      ]
     },
     "execution_count": 19,
     "metadata": {},
     "output_type": "execute_result"
    }
   ],
   "source": [
    "Topic_df = display_topic(nmf_model, feature_names, n_topics, n_top_words)\n",
    "\n",
    "Topic_df"
   ]
  },
  {
   "cell_type": "markdown",
   "id": "occupational-softball",
   "metadata": {},
   "source": [
    "### Classify Reviews Under Topics<a id=4.3></a>"
   ]
  },
  {
   "cell_type": "code",
   "execution_count": 20,
   "id": "becoming-reality",
   "metadata": {
    "scrolled": false
   },
   "outputs": [
    {
     "data": {
      "text/html": [
       "<div>\n",
       "<style scoped>\n",
       "    .dataframe tbody tr th:only-of-type {\n",
       "        vertical-align: middle;\n",
       "    }\n",
       "\n",
       "    .dataframe tbody tr th {\n",
       "        vertical-align: top;\n",
       "    }\n",
       "\n",
       "    .dataframe thead th {\n",
       "        text-align: right;\n",
       "    }\n",
       "</style>\n",
       "<table border=\"1\" class=\"dataframe\">\n",
       "  <thead>\n",
       "    <tr style=\"text-align: right;\">\n",
       "      <th></th>\n",
       "      <th>points</th>\n",
       "      <th>description</th>\n",
       "      <th>point_level</th>\n",
       "      <th>clean_description</th>\n",
       "      <th>NMF topic</th>\n",
       "    </tr>\n",
       "  </thead>\n",
       "  <tbody>\n",
       "    <tr>\n",
       "      <th>0</th>\n",
       "      <td>88</td>\n",
       "      <td>this is significantly lighter than the 2010 ed...</td>\n",
       "      <td>Level D</td>\n",
       "      <td>significantly lighter 2010 edition color apple...</td>\n",
       "      <td>2</td>\n",
       "    </tr>\n",
       "    <tr>\n",
       "      <th>1</th>\n",
       "      <td>86</td>\n",
       "      <td>aromas of strawberry plum wild flower and a wh...</td>\n",
       "      <td>Level D</td>\n",
       "      <td>aroma strawberry plum wild flower whiff spice ...</td>\n",
       "      <td>0</td>\n",
       "    </tr>\n",
       "  </tbody>\n",
       "</table>\n",
       "</div>"
      ],
      "text/plain": [
       "   points                                        description point_level  \\\n",
       "0      88  this is significantly lighter than the 2010 ed...     Level D   \n",
       "1      86  aromas of strawberry plum wild flower and a wh...     Level D   \n",
       "\n",
       "                                   clean_description  NMF topic  \n",
       "0  significantly lighter 2010 edition color apple...          2  \n",
       "1  aroma strawberry plum wild flower whiff spice ...          0  "
      ]
     },
     "execution_count": 20,
     "metadata": {},
     "output_type": "execute_result"
    }
   ],
   "source": [
    "# Use NMF model to assign topic to reviews in corpus\n",
    "nmf_topic_values = nmf_model.transform(document_matrix)\n",
    "df['NMF topic'] = nmf_topic_values.argmax(axis=1)\n",
    "\n",
    "df.head(2)"
   ]
  },
  {
   "cell_type": "markdown",
   "id": "comparable-responsibility",
   "metadata": {},
   "source": [
    "### Visualize Topic Result<a id=4.4></a>"
   ]
  },
  {
   "cell_type": "code",
   "execution_count": 21,
   "id": "desirable-issue",
   "metadata": {
    "scrolled": true
   },
   "outputs": [
    {
     "data": {
      "text/plain": [
       "NMF Topic       object\n",
       "# of Reviews     int64\n",
       "dtype: object"
      ]
     },
     "execution_count": 21,
     "metadata": {},
     "output_type": "execute_result"
    }
   ],
   "source": [
    "# Count how many reviews there are for each topic\n",
    "Topic_result = df['NMF topic'].value_counts().reset_index()\n",
    "Topic_result.columns = ['NMF Topic','# of Reviews']\n",
    "Topic_result.sort_values(by='NMF Topic', inplace=True)\n",
    "Topic_result['NMF Topic'] = Topic_result['NMF Topic'].astype(str)\n",
    "\n",
    "Topic_result.dtypes"
   ]
  },
  {
   "cell_type": "code",
   "execution_count": 22,
   "id": "advanced-sharing",
   "metadata": {},
   "outputs": [],
   "source": [
    "# Show values on seaborn barplot\n",
    "# https://www.statology.org/seaborn-barplot-show-values/\n",
    "def show_values(axs, orient=\"v\", space=.01):\n",
    "    def _single(ax):\n",
    "        if orient == \"v\":\n",
    "            for p in ax.patches:\n",
    "                _x = p.get_x() + p.get_width() / 2\n",
    "                _y = p.get_y() + p.get_height() + (p.get_height()*0.01)\n",
    "                value = '{:.0f}'.format(p.get_height())\n",
    "                ax.text(_x, _y, value, ha=\"center\") \n",
    "        elif orient == \"h\":\n",
    "            for p in ax.patches:\n",
    "                _x = p.get_x() + p.get_width() + float(space)\n",
    "                _y = p.get_y() + p.get_height() - (p.get_height()*0.5)\n",
    "                value = '{:.0f}'.format(p.get_width())\n",
    "                ax.text(_x, _y, value, ha=\"left\")\n",
    "\n",
    "    if isinstance(axs, np.ndarray):\n",
    "        for idx, ax in np.ndenumerate(axs):\n",
    "            _single(ax)\n",
    "    else:\n",
    "        _single(axs)"
   ]
  },
  {
   "cell_type": "code",
   "execution_count": 23,
   "id": "prospective-preference",
   "metadata": {
    "scrolled": false
   },
   "outputs": [
    {
     "data": {
      "text/plain": [
       "Text(0, 0.5, 'NMF Topic')"
      ]
     },
     "execution_count": 23,
     "metadata": {},
     "output_type": "execute_result"
    },
    {
     "data": {
      "image/png": "[encoded data removed]",
      "text/plain": [
       "<Figure size 648x432 with 1 Axes>"
      ]
     },
     "metadata": {
      "needs_background": "light"
     },
     "output_type": "display_data"
    }
   ],
   "source": [
    "# Create a horizontal barplot\n",
    "plt.figure(figsize=(9, 6)) # Set chart size\n",
    "ax = sns.barplot(x=\"# of Reviews\", y=\"NMF Topic\", data=Topic_result, palette=\"Spectral\") # Create a bar chart with the seaborn package\n",
    "show_values(ax, \"h\", space=0) # Use the function we created above to show values in the bar graph\n",
    "\n",
    "# Format chart\n",
    "plt.title('Total Number of Reviews per Topic')\n",
    "plt.xlabel('# of Reviews')\n",
    "plt.ylabel('NMF Topic')"
   ]
  },
  {
   "cell_type": "markdown",
   "id": "outstanding-habitat",
   "metadata": {},
   "source": [
    "[Back to Top](#0)"
   ]
  },
  {
   "cell_type": "markdown",
   "id": "dying-separate",
   "metadata": {},
   "source": [
    "---\n",
    "## -- Word Cloud<a id=5></a>"
   ]
  },
  {
   "cell_type": "code",
   "execution_count": 24,
   "id": "circular-permission",
   "metadata": {},
   "outputs": [],
   "source": [
    "stop_words = set(stopwords.words('english')) \n",
    "stop_words.update([\"drink\", \"now\", \"wine\", \"flavor\", \"flavors\"])"
   ]
  },
  {
   "cell_type": "code",
   "execution_count": 25,
   "id": "analyzed-metadata",
   "metadata": {
    "scrolled": true
   },
   "outputs": [
    {
     "data": {
      "text/plain": [
       "(-0.5, 399.5, 199.5, -0.5)"
      ]
     },
     "execution_count": 25,
     "metadata": {},
     "output_type": "execute_result"
    },
    {
     "data": {
      "image/png": "[encoded data removed]",
      "text/plain": [
       "<Figure size 648x432 with 1 Axes>"
      ]
     },
     "metadata": {
      "needs_background": "light"
     },
     "output_type": "display_data"
    }
   ],
   "source": [
    "desc_list = df['clean_description'].tolist()\n",
    "desc_list = list(filter(None,desc_list))\n",
    "desc_list = \" \".join(review for review in desc_list)\n",
    "    \n",
    "# Create a word cloud image\n",
    "desc_wordcloud = WordCloud(stopwords=stop_words,background_color=\"white\").generate(desc_list)\n",
    "\n",
    "# Display image\n",
    "plt.figure(figsize=(9,6))\n",
    "plt.imshow(desc_wordcloud, interpolation='bilinear')\n",
    "plt.axis(\"off\")"
   ]
  },
  {
   "cell_type": "markdown",
   "id": "positive-screw",
   "metadata": {},
   "source": [
    "[Back to Top](#0)"
   ]
  },
  {
   "cell_type": "markdown",
   "id": "comprehensive-check",
   "metadata": {},
   "source": [
    "---\n",
    "## -- Categorize and Tag Words<a id=6></a>"
   ]
  },
  {
   "cell_type": "code",
   "execution_count": 26,
   "id": "talented-noise",
   "metadata": {},
   "outputs": [],
   "source": [
    "# Identify the part of speech of words\n",
    "col_desc = df.columns.get_loc('description')\n",
    "pos_df = pd.DataFrame()\n",
    "y=0\n",
    "for y in range(len(df)):\n",
    "    # Part of Speech\n",
    "    # https://medium.com/@muddaprince456/categorizing-and-pos-tagging-with-nltk-python-28f2bc9312c3\n",
    "    pos_tokenized = nltk.word_tokenize(df.iloc[y,col_desc])\n",
    "    pos_list = nltk.pos_tag(pos_tokenized)\n",
    "    pos_list = pd.DataFrame(pos_list, columns=['Description','POS'])\n",
    "    pos_df = pos_df.append(pos_list, ignore_index=True)"
   ]
  },
  {
   "cell_type": "code",
   "execution_count": 27,
   "id": "secure-influence",
   "metadata": {
    "scrolled": false
   },
   "outputs": [
    {
     "data": {
      "text/html": [
       "<div>\n",
       "<style scoped>\n",
       "    .dataframe tbody tr th:only-of-type {\n",
       "        vertical-align: middle;\n",
       "    }\n",
       "\n",
       "    .dataframe tbody tr th {\n",
       "        vertical-align: top;\n",
       "    }\n",
       "\n",
       "    .dataframe thead th {\n",
       "        text-align: right;\n",
       "    }\n",
       "</style>\n",
       "<table border=\"1\" class=\"dataframe\">\n",
       "  <thead>\n",
       "    <tr style=\"text-align: right;\">\n",
       "      <th></th>\n",
       "      <th>n.</th>\n",
       "      <th>adj.</th>\n",
       "      <th>verb.</th>\n",
       "    </tr>\n",
       "  </thead>\n",
       "  <tbody>\n",
       "    <tr>\n",
       "      <th>0</th>\n",
       "      <td>wine</td>\n",
       "      <td>black</td>\n",
       "      <td>is</td>\n",
       "    </tr>\n",
       "    <tr>\n",
       "      <th>1</th>\n",
       "      <td>flavors</td>\n",
       "      <td>red</td>\n",
       "      <td>are</td>\n",
       "    </tr>\n",
       "    <tr>\n",
       "      <th>2</th>\n",
       "      <td>fruit</td>\n",
       "      <td>rich</td>\n",
       "      <td>has</td>\n",
       "    </tr>\n",
       "    <tr>\n",
       "      <th>3</th>\n",
       "      <td>palate</td>\n",
       "      <td>fresh</td>\n",
       "      <td>drink</td>\n",
       "    </tr>\n",
       "    <tr>\n",
       "      <th>4</th>\n",
       "      <td>acidity</td>\n",
       "      <td>ripe</td>\n",
       "      <td>shows</td>\n",
       "    </tr>\n",
       "    <tr>\n",
       "      <th>5</th>\n",
       "      <td>aromas</td>\n",
       "      <td>dry</td>\n",
       "      <td>be</td>\n",
       "    </tr>\n",
       "    <tr>\n",
       "      <th>6</th>\n",
       "      <td>tannins</td>\n",
       "      <td>soft</td>\n",
       "      <td>offers</td>\n",
       "    </tr>\n",
       "    <tr>\n",
       "      <th>7</th>\n",
       "      <td>finish</td>\n",
       "      <td>white</td>\n",
       "      <td>made</td>\n",
       "    </tr>\n",
       "    <tr>\n",
       "      <th>8</th>\n",
       "      <td>cherry</td>\n",
       "      <td>full</td>\n",
       "      <td>balanced</td>\n",
       "    </tr>\n",
       "    <tr>\n",
       "      <th>9</th>\n",
       "      <td>notes</td>\n",
       "      <td>sweet</td>\n",
       "      <td>give</td>\n",
       "    </tr>\n",
       "  </tbody>\n",
       "</table>\n",
       "</div>"
      ],
      "text/plain": [
       "        n.   adj.     verb.\n",
       "0     wine  black        is\n",
       "1  flavors    red       are\n",
       "2    fruit   rich       has\n",
       "3   palate  fresh     drink\n",
       "4  acidity   ripe     shows\n",
       "5   aromas    dry        be\n",
       "6  tannins   soft    offers\n",
       "7   finish  white      made\n",
       "8   cherry   full  balanced\n",
       "9    notes  sweet      give"
      ]
     },
     "execution_count": 27,
     "metadata": {},
     "output_type": "execute_result"
    }
   ],
   "source": [
    "keyword_result = pd.DataFrame()\n",
    "    \n",
    "# Top 10 Noun\n",
    "noun = pos_df[pos_df['POS'].str.contains(\"NN.*\", na=False)]\n",
    "noun.loc[:,'POS'] = 'n.'\n",
    "noun = noun.value_counts(['Description','POS'])[:10].reset_index()\n",
    "noun.columns=['n.','POS','Count']\n",
    "noun.drop(columns=['POS','Count'], inplace=True)\n",
    "\n",
    "# Top 10 Adjective\n",
    "adj = pos_df[pos_df['POS'].str.contains(\"JJ.*\", na=False)]\n",
    "adj.loc[:,'POS'] = 'adj.'\n",
    "adj = adj.value_counts(['Description','POS'])[:10].reset_index()\n",
    "adj.columns=['adj.','POS','Count']\n",
    "adj.drop(columns=['POS','Count'], inplace=True)\n",
    "\n",
    "# Top 10 Noun\n",
    "verb = pos_df[pos_df['POS'].str.contains(\"VB.*\", na=False)]\n",
    "verb.loc[:,'POS'] = 'verb.'\n",
    "verb = verb.value_counts(['Description','POS'])[:10].reset_index()\n",
    "verb.columns=['verb.','POS','Count']\n",
    "verb.drop(columns=['POS','Count'], inplace=True)\n",
    "    \n",
    "# combine all tags top 30 keywords into on dataframe\n",
    "keyword_result = pd.concat([noun, adj, verb], axis=1)\n",
    "    \n",
    "keyword_result"
   ]
  },
  {
   "cell_type": "markdown",
   "id": "front-permission",
   "metadata": {},
   "source": [
    "[Back to Top](#0)"
   ]
  },
  {
   "cell_type": "markdown",
   "id": "powerful-locking",
   "metadata": {},
   "source": [
    "---\n",
    "## -- Sentiment Analysis<a id=7></a>"
   ]
  },
  {
   "cell_type": "markdown",
   "id": "global-quest",
   "metadata": {},
   "source": [
    "### VADER<a id=7.1></a>"
   ]
  },
  {
   "cell_type": "code",
   "execution_count": 28,
   "id": "excited-frost",
   "metadata": {},
   "outputs": [],
   "source": [
    "df_1 = df.copy()"
   ]
  },
  {
   "cell_type": "code",
   "execution_count": 29,
   "id": "endless-fairy",
   "metadata": {
    "scrolled": true
   },
   "outputs": [],
   "source": [
    "# VADER returns four metrics. Set up columns for each one.\n",
    "col_vs = ['neg','neu','pos','compound']\n",
    "df_1 = pd.concat([df_1,pd.DataFrame(columns=col_vs)])"
   ]
  },
  {
   "cell_type": "code",
   "execution_count": 30,
   "id": "uniform-madison",
   "metadata": {},
   "outputs": [
    {
     "data": {
      "text/html": [
       "<div>\n",
       "<style scoped>\n",
       "    .dataframe tbody tr th:only-of-type {\n",
       "        vertical-align: middle;\n",
       "    }\n",
       "\n",
       "    .dataframe tbody tr th {\n",
       "        vertical-align: top;\n",
       "    }\n",
       "\n",
       "    .dataframe thead th {\n",
       "        text-align: right;\n",
       "    }\n",
       "</style>\n",
       "<table border=\"1\" class=\"dataframe\">\n",
       "  <thead>\n",
       "    <tr style=\"text-align: right;\">\n",
       "      <th></th>\n",
       "      <th>points</th>\n",
       "      <th>description</th>\n",
       "      <th>point_level</th>\n",
       "      <th>clean_description</th>\n",
       "      <th>NMF topic</th>\n",
       "      <th>neg</th>\n",
       "      <th>neu</th>\n",
       "      <th>pos</th>\n",
       "      <th>compound</th>\n",
       "    </tr>\n",
       "  </thead>\n",
       "  <tbody>\n",
       "    <tr>\n",
       "      <th>0</th>\n",
       "      <td>88.0</td>\n",
       "      <td>this is significantly lighter than the 2010 ed...</td>\n",
       "      <td>Level D</td>\n",
       "      <td>significantly lighter 2010 edition color apple...</td>\n",
       "      <td>2.0</td>\n",
       "      <td>NaN</td>\n",
       "      <td>NaN</td>\n",
       "      <td>NaN</td>\n",
       "      <td>NaN</td>\n",
       "    </tr>\n",
       "    <tr>\n",
       "      <th>1</th>\n",
       "      <td>86.0</td>\n",
       "      <td>aromas of strawberry plum wild flower and a wh...</td>\n",
       "      <td>Level D</td>\n",
       "      <td>aroma strawberry plum wild flower whiff spice ...</td>\n",
       "      <td>0.0</td>\n",
       "      <td>NaN</td>\n",
       "      <td>NaN</td>\n",
       "      <td>NaN</td>\n",
       "      <td>NaN</td>\n",
       "    </tr>\n",
       "  </tbody>\n",
       "</table>\n",
       "</div>"
      ],
      "text/plain": [
       "   points                                        description point_level  \\\n",
       "0    88.0  this is significantly lighter than the 2010 ed...     Level D   \n",
       "1    86.0  aromas of strawberry plum wild flower and a wh...     Level D   \n",
       "\n",
       "                                   clean_description  NMF topic  neg  neu  \\\n",
       "0  significantly lighter 2010 edition color apple...        2.0  NaN  NaN   \n",
       "1  aroma strawberry plum wild flower whiff spice ...        0.0  NaN  NaN   \n",
       "\n",
       "   pos compound  \n",
       "0  NaN      NaN  \n",
       "1  NaN      NaN  "
      ]
     },
     "execution_count": 30,
     "metadata": {},
     "output_type": "execute_result"
    }
   ],
   "source": [
    "df_1.head(2)"
   ]
  },
  {
   "cell_type": "code",
   "execution_count": 31,
   "id": "excessive-found",
   "metadata": {},
   "outputs": [],
   "source": [
    "# Init the sentiment analyzer\n",
    "sia = SentimentIntensityAnalyzer()"
   ]
  },
  {
   "cell_type": "code",
   "execution_count": 32,
   "id": "accredited-advancement",
   "metadata": {},
   "outputs": [],
   "source": [
    "# Get column index for later WHILE LOOP process\n",
    "col_desc = df_1.columns.get_loc('clean_description')\n",
    "\n",
    "col_neg = df_1.columns.get_loc('neg')\n",
    "col_neu = df_1.columns.get_loc('neu')\n",
    "col_pos = df_1.columns.get_loc('pos')\n",
    "col_end = df_1.columns.get_loc('compound')+1"
   ]
  },
  {
   "cell_type": "code",
   "execution_count": 33,
   "id": "specific-situation",
   "metadata": {},
   "outputs": [],
   "source": [
    "# Run sentiment model row by row\n",
    "i=0\n",
    "while i < df_1.shape[0]:\n",
    "    score = sia.polarity_scores(df_1.iloc[i, col_desc])\n",
    "    score = list(score.values())\n",
    "    df_1.iloc[i,col_neg:col_end] = score\n",
    "    i+=1"
   ]
  },
  {
   "cell_type": "code",
   "execution_count": 34,
   "id": "gothic-andrew",
   "metadata": {},
   "outputs": [],
   "source": [
    "# Decide if sentiment scores are positive, negative or neutral based on compound values\n",
    "df_1['sentiment']=''\n",
    "col_sen = df_1.columns.get_loc('sentiment')\n",
    "col_com = df_1.columns.get_loc('compound')\n",
    "\n",
    "i=0\n",
    "while i < df_1.shape[0]:\n",
    "    if df_1.iloc[i,col_com] <= -0.05:\n",
    "        df_1.iloc[i,col_sen] = 'Negative'\n",
    "    elif df_1.iloc[i,col_com] >= 0.05:\n",
    "        df_1.iloc[i,col_sen] = 'Positive'\n",
    "    else:\n",
    "        df_1.iloc[i,col_sen] = 'Neutral'\n",
    "    i+=1"
   ]
  },
  {
   "cell_type": "code",
   "execution_count": 35,
   "id": "collaborative-istanbul",
   "metadata": {
    "scrolled": true
   },
   "outputs": [],
   "source": [
    "# Summarize sentiment results by point level\n",
    "VADER_result = df_1.groupby(['point_level','sentiment']).size().reset_index()\n",
    "VADER_result.columns = ['Point Level','Sentiment','# of Reviews']\n",
    "VADER_result = VADER_result.pivot(index='Point Level', columns=\"Sentiment\", values=\"# of Reviews\") # Reshape long table to wide table format\n",
    "VADER_result.columns = ['# Negative','# Neutral','# Positive']"
   ]
  },
  {
   "cell_type": "code",
   "execution_count": 36,
   "id": "computational-point",
   "metadata": {},
   "outputs": [
    {
     "data": {
      "text/html": [
       "<div>\n",
       "<style scoped>\n",
       "    .dataframe tbody tr th:only-of-type {\n",
       "        vertical-align: middle;\n",
       "    }\n",
       "\n",
       "    .dataframe tbody tr th {\n",
       "        vertical-align: top;\n",
       "    }\n",
       "\n",
       "    .dataframe thead th {\n",
       "        text-align: right;\n",
       "    }\n",
       "</style>\n",
       "<table border=\"1\" class=\"dataframe\">\n",
       "  <thead>\n",
       "    <tr style=\"text-align: right;\">\n",
       "      <th></th>\n",
       "      <th># Negative</th>\n",
       "      <th># Neutral</th>\n",
       "      <th># Positive</th>\n",
       "      <th>% Negative</th>\n",
       "      <th>% Neutral</th>\n",
       "      <th>% Positive</th>\n",
       "    </tr>\n",
       "    <tr>\n",
       "      <th>Point Level</th>\n",
       "      <th></th>\n",
       "      <th></th>\n",
       "      <th></th>\n",
       "      <th></th>\n",
       "      <th></th>\n",
       "      <th></th>\n",
       "    </tr>\n",
       "  </thead>\n",
       "  <tbody>\n",
       "    <tr>\n",
       "      <th>Level A</th>\n",
       "      <td>1</td>\n",
       "      <td>1</td>\n",
       "      <td>185</td>\n",
       "      <td>0.005348</td>\n",
       "      <td>0.005348</td>\n",
       "      <td>0.989305</td>\n",
       "    </tr>\n",
       "    <tr>\n",
       "      <th>Level B</th>\n",
       "      <td>172</td>\n",
       "      <td>242</td>\n",
       "      <td>5724</td>\n",
       "      <td>0.028022</td>\n",
       "      <td>0.039427</td>\n",
       "      <td>0.932551</td>\n",
       "    </tr>\n",
       "    <tr>\n",
       "      <th>Level C</th>\n",
       "      <td>849</td>\n",
       "      <td>2137</td>\n",
       "      <td>21278</td>\n",
       "      <td>0.034990</td>\n",
       "      <td>0.088073</td>\n",
       "      <td>0.876937</td>\n",
       "    </tr>\n",
       "    <tr>\n",
       "      <th>Level D</th>\n",
       "      <td>1718</td>\n",
       "      <td>3699</td>\n",
       "      <td>22886</td>\n",
       "      <td>0.060700</td>\n",
       "      <td>0.130693</td>\n",
       "      <td>0.808607</td>\n",
       "    </tr>\n",
       "    <tr>\n",
       "      <th>Level E</th>\n",
       "      <td>1089</td>\n",
       "      <td>1168</td>\n",
       "      <td>3661</td>\n",
       "      <td>0.184015</td>\n",
       "      <td>0.197364</td>\n",
       "      <td>0.618621</td>\n",
       "    </tr>\n",
       "    <tr>\n",
       "      <th>Level F</th>\n",
       "      <td>55</td>\n",
       "      <td>51</td>\n",
       "      <td>70</td>\n",
       "      <td>0.312500</td>\n",
       "      <td>0.289773</td>\n",
       "      <td>0.397727</td>\n",
       "    </tr>\n",
       "  </tbody>\n",
       "</table>\n",
       "</div>"
      ],
      "text/plain": [
       "             # Negative  # Neutral  # Positive  % Negative  % Neutral  \\\n",
       "Point Level                                                             \n",
       "Level A               1          1         185    0.005348   0.005348   \n",
       "Level B             172        242        5724    0.028022   0.039427   \n",
       "Level C             849       2137       21278    0.034990   0.088073   \n",
       "Level D            1718       3699       22886    0.060700   0.130693   \n",
       "Level E            1089       1168        3661    0.184015   0.197364   \n",
       "Level F              55         51          70    0.312500   0.289773   \n",
       "\n",
       "             % Positive  \n",
       "Point Level              \n",
       "Level A        0.989305  \n",
       "Level B        0.932551  \n",
       "Level C        0.876937  \n",
       "Level D        0.808607  \n",
       "Level E        0.618621  \n",
       "Level F        0.397727  "
      ]
     },
     "execution_count": 36,
     "metadata": {},
     "output_type": "execute_result"
    }
   ],
   "source": [
    "# Calculate % of row\n",
    "VADER_result_1 = VADER_result.div(VADER_result.sum(axis=1), axis=0)\n",
    "VADER_result_1.columns = ['% Negative','% Neutral','% Positive']\n",
    "VADER_result = pd.merge(VADER_result, VADER_result_1, left_index=True, right_index=True) # Combine the count and percentage tables\n",
    "\n",
    "VADER_result"
   ]
  },
  {
   "cell_type": "markdown",
   "id": "assisted-citizen",
   "metadata": {},
   "source": [
    "### TextBlob<a id=7.2></a>"
   ]
  },
  {
   "cell_type": "code",
   "execution_count": 37,
   "id": "unnecessary-spirituality",
   "metadata": {},
   "outputs": [],
   "source": [
    "df_2 = df.copy()"
   ]
  },
  {
   "cell_type": "code",
   "execution_count": 38,
   "id": "spectacular-lafayette",
   "metadata": {},
   "outputs": [],
   "source": [
    "# TextBlob returns two metrics. Set up columns for each one.\n",
    "col_new_tb = ['polarity','subjectivity']\n",
    "df_2 = pd.concat([df_2,pd.DataFrame(columns=col_new_tb)])"
   ]
  },
  {
   "cell_type": "code",
   "execution_count": 39,
   "id": "aging-gateway",
   "metadata": {},
   "outputs": [],
   "source": [
    "# Get column index for later WHILE LOOP process\n",
    "col_desc = df_2.columns.get_loc('clean_description')\n",
    "\n",
    "col_pol = df_2.columns.get_loc('polarity')\n",
    "col_end = df_2.columns.get_loc('subjectivity')+1"
   ]
  },
  {
   "cell_type": "code",
   "execution_count": 40,
   "id": "particular-lounge",
   "metadata": {},
   "outputs": [],
   "source": [
    "# Run sentiment model row by row\n",
    "i=0\n",
    "while i < df_2.shape[0]:\n",
    "    analysis = TextBlob(df_2.iloc[i, col_desc])\n",
    "    score = list(analysis.sentiment)\n",
    "    df_2.iloc[i,col_pol:col_end] = score\n",
    "    i+=1"
   ]
  },
  {
   "cell_type": "code",
   "execution_count": 41,
   "id": "atmospheric-holocaust",
   "metadata": {},
   "outputs": [],
   "source": [
    "# Decide if sentiment scores are positive, negative or neutral based on polarity values\n",
    "df_2['sentiment']=''\n",
    "col_sen = df_2.columns.get_loc('sentiment')\n",
    "\n",
    "i=0\n",
    "while i < df_2.shape[0]:\n",
    "    if df_2.iloc[i,col_pol] < 0:\n",
    "        df_2.iloc[i,col_sen] = 'Negative'\n",
    "    elif df_2.iloc[i,col_pol] > 0:\n",
    "        df_2.iloc[i,col_sen] = 'Positive'\n",
    "    else:\n",
    "        df_2.iloc[i,col_sen] = 'Neutral'\n",
    "    i+=1"
   ]
  },
  {
   "cell_type": "code",
   "execution_count": 42,
   "id": "fuzzy-scanner",
   "metadata": {},
   "outputs": [],
   "source": [
    "# Summarize sentiment results by point level\n",
    "TextBlob_result = df_2.groupby(['point_level','sentiment']).size().reset_index()\n",
    "TextBlob_result.columns = ['Point Level','Sentiment','# of Reviews']\n",
    "TextBlob_result = TextBlob_result.pivot(index='Point Level', columns=\"Sentiment\", values=\"# of Reviews\") # Reshape long table to wide table format\n",
    "TextBlob_result.columns = ['# Negative','# Neutral','# Positive']"
   ]
  },
  {
   "cell_type": "code",
   "execution_count": 43,
   "id": "identified-youth",
   "metadata": {
    "scrolled": true
   },
   "outputs": [
    {
     "data": {
      "text/html": [
       "<div>\n",
       "<style scoped>\n",
       "    .dataframe tbody tr th:only-of-type {\n",
       "        vertical-align: middle;\n",
       "    }\n",
       "\n",
       "    .dataframe tbody tr th {\n",
       "        vertical-align: top;\n",
       "    }\n",
       "\n",
       "    .dataframe thead th {\n",
       "        text-align: right;\n",
       "    }\n",
       "</style>\n",
       "<table border=\"1\" class=\"dataframe\">\n",
       "  <thead>\n",
       "    <tr style=\"text-align: right;\">\n",
       "      <th></th>\n",
       "      <th># Negative</th>\n",
       "      <th># Neutral</th>\n",
       "      <th># Positive</th>\n",
       "      <th>% Negative</th>\n",
       "      <th>% Neutral</th>\n",
       "      <th>% Positive</th>\n",
       "    </tr>\n",
       "    <tr>\n",
       "      <th>Point Level</th>\n",
       "      <th></th>\n",
       "      <th></th>\n",
       "      <th></th>\n",
       "      <th></th>\n",
       "      <th></th>\n",
       "      <th></th>\n",
       "    </tr>\n",
       "  </thead>\n",
       "  <tbody>\n",
       "    <tr>\n",
       "      <th>Level A</th>\n",
       "      <td>7</td>\n",
       "      <td>1</td>\n",
       "      <td>179</td>\n",
       "      <td>0.037433</td>\n",
       "      <td>0.005348</td>\n",
       "      <td>0.957219</td>\n",
       "    </tr>\n",
       "    <tr>\n",
       "      <th>Level B</th>\n",
       "      <td>706</td>\n",
       "      <td>39</td>\n",
       "      <td>5393</td>\n",
       "      <td>0.115021</td>\n",
       "      <td>0.006354</td>\n",
       "      <td>0.878625</td>\n",
       "    </tr>\n",
       "    <tr>\n",
       "      <th>Level C</th>\n",
       "      <td>3835</td>\n",
       "      <td>430</td>\n",
       "      <td>19999</td>\n",
       "      <td>0.158053</td>\n",
       "      <td>0.017722</td>\n",
       "      <td>0.824225</td>\n",
       "    </tr>\n",
       "    <tr>\n",
       "      <th>Level D</th>\n",
       "      <td>4986</td>\n",
       "      <td>879</td>\n",
       "      <td>22438</td>\n",
       "      <td>0.176165</td>\n",
       "      <td>0.031057</td>\n",
       "      <td>0.792778</td>\n",
       "    </tr>\n",
       "    <tr>\n",
       "      <th>Level E</th>\n",
       "      <td>1835</td>\n",
       "      <td>336</td>\n",
       "      <td>3747</td>\n",
       "      <td>0.310071</td>\n",
       "      <td>0.056776</td>\n",
       "      <td>0.633153</td>\n",
       "    </tr>\n",
       "    <tr>\n",
       "      <th>Level F</th>\n",
       "      <td>80</td>\n",
       "      <td>13</td>\n",
       "      <td>83</td>\n",
       "      <td>0.454545</td>\n",
       "      <td>0.073864</td>\n",
       "      <td>0.471591</td>\n",
       "    </tr>\n",
       "  </tbody>\n",
       "</table>\n",
       "</div>"
      ],
      "text/plain": [
       "             # Negative  # Neutral  # Positive  % Negative  % Neutral  \\\n",
       "Point Level                                                             \n",
       "Level A               7          1         179    0.037433   0.005348   \n",
       "Level B             706         39        5393    0.115021   0.006354   \n",
       "Level C            3835        430       19999    0.158053   0.017722   \n",
       "Level D            4986        879       22438    0.176165   0.031057   \n",
       "Level E            1835        336        3747    0.310071   0.056776   \n",
       "Level F              80         13          83    0.454545   0.073864   \n",
       "\n",
       "             % Positive  \n",
       "Point Level              \n",
       "Level A        0.957219  \n",
       "Level B        0.878625  \n",
       "Level C        0.824225  \n",
       "Level D        0.792778  \n",
       "Level E        0.633153  \n",
       "Level F        0.471591  "
      ]
     },
     "execution_count": 43,
     "metadata": {},
     "output_type": "execute_result"
    }
   ],
   "source": [
    "# Calculate % of row\n",
    "TextBlob_result_1 = TextBlob_result.div(TextBlob_result.sum(axis=1), axis=0)\n",
    "TextBlob_result_1.columns = ['% Negative','% Neutral','% Positive']\n",
    "TextBlob_result = pd.merge(TextBlob_result, TextBlob_result_1, left_index=True, right_index=True) # Combine the count and percentage tables\n",
    "\n",
    "TextBlob_result"
   ]
  },
  {
   "cell_type": "markdown",
   "id": "composite-strengthening",
   "metadata": {},
   "source": [
    "[Back to Top](#0)"
   ]
  },
  {
   "cell_type": "code",
   "execution_count": null,
   "id": "ceramic-person",
   "metadata": {},
   "outputs": [],
   "source": []
  }
 ],
 "metadata": {
  "kernelspec": {
   "display_name": "Python 3",
   "language": "python",
   "name": "python3"
  },
  "language_info": {
   "codemirror_mode": {
    "name": "ipython",
    "version": 3
   },
   "file_extension": ".py",
   "mimetype": "text/x-python",
   "name": "python",
   "nbconvert_exporter": "python",
   "pygments_lexer": "ipython3",
   "version": "3.8.8"
  }
 },
 "nbformat": 4,
 "nbformat_minor": 5
}
