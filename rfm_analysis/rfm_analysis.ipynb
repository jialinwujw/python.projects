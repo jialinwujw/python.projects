{
 "cells": [
  {
   "cell_type": "markdown",
   "metadata": {},
   "source": [
    "## RFM Analysis<a id=\"Top\"></a>"
   ]
  },
  {
   "cell_type": "markdown",
   "metadata": {},
   "source": [
    "## Table of Contents\n",
    "\n",
    "1. [Load Needed Packages](#1)<br>\n",
    "2. [Get Data](#2)<br>\n",
    "    2.1 [Read in the Data from csv](#2.1)<br>\n",
    "    2.2 [Clean Data](#2.2)<br>\n",
    "3. [Calculate Metrics](#3)<br>\n",
    "4. [Set Up Tiers](#4)<br>\n",
    "5. [Segmentation Examples](#5)<br>\n",
    "    5.1 [Soulmate](#5.1)<br>\n",
    "    5.2 [Lover](#5.2)<br>\n",
    "    5.3 [Potential Lover](#5.3)<br>\n",
    "    5.4 [New Passion](#5.4)<br>\n",
    "    5.5 [About to Dump You](#5.5)<br>\n",
    "    5.6 [Ex Lover](#5.6)<br>\n",
    "    5.7 [Departed](#5.7)<br>"
   ]
  },
  {
   "cell_type": "markdown",
   "metadata": {},
   "source": [
    "---\n",
    "## 1. Load Needed Packages<a id=1></a>"
   ]
  },
  {
   "cell_type": "code",
   "execution_count": 1,
   "metadata": {},
   "outputs": [],
   "source": [
    "import pandas as pd\n",
    "import numpy as np\n",
    "\n",
    "import matplotlib.pyplot as plt\n",
    "%matplotlib inline\n",
    "import seaborn as sns\n",
    "\n",
    "import warnings\n",
    "warnings.filterwarnings('ignore') # Never print matching warnings"
   ]
  },
  {
   "cell_type": "markdown",
   "metadata": {},
   "source": [
    "##### [Back to Top](#Top)"
   ]
  },
  {
   "cell_type": "markdown",
   "metadata": {},
   "source": [
    "---\n",
    "## 2. Get Data<a id=2></a>"
   ]
  },
  {
   "cell_type": "markdown",
   "metadata": {},
   "source": [
    "### 2.1 Read in the Data from csv<a id=2.1></a>\n",
    "Data source: https://www.kaggle.com/datasets/kyanyoga/sample-sales-data"
   ]
  },
  {
   "cell_type": "code",
   "execution_count": 2,
   "metadata": {
    "scrolled": true
   },
   "outputs": [
    {
     "name": "stdout",
     "output_type": "stream",
     "text": [
      "There are 2823 observations\n"
     ]
    }
   ],
   "source": [
    "raw = pd.read_csv(\"data/sales_data_sample.csv\",encoding=\"unicode_escape\")\n",
    "print('There are ' +str(len(raw)) + ' observations')"
   ]
  },
  {
   "cell_type": "code",
   "execution_count": 3,
   "metadata": {
    "scrolled": true
   },
   "outputs": [
    {
     "data": {
      "text/html": [
       "<div>\n",
       "<style scoped>\n",
       "    .dataframe tbody tr th:only-of-type {\n",
       "        vertical-align: middle;\n",
       "    }\n",
       "\n",
       "    .dataframe tbody tr th {\n",
       "        vertical-align: top;\n",
       "    }\n",
       "\n",
       "    .dataframe thead th {\n",
       "        text-align: right;\n",
       "    }\n",
       "</style>\n",
       "<table border=\"1\" class=\"dataframe\">\n",
       "  <thead>\n",
       "    <tr style=\"text-align: right;\">\n",
       "      <th></th>\n",
       "      <th>ORDERNUMBER</th>\n",
       "      <th>QUANTITYORDERED</th>\n",
       "      <th>PRICEEACH</th>\n",
       "      <th>ORDERLINENUMBER</th>\n",
       "      <th>SALES</th>\n",
       "      <th>ORDERDATE</th>\n",
       "      <th>STATUS</th>\n",
       "      <th>QTR_ID</th>\n",
       "      <th>MONTH_ID</th>\n",
       "      <th>YEAR_ID</th>\n",
       "      <th>...</th>\n",
       "      <th>ADDRESSLINE1</th>\n",
       "      <th>ADDRESSLINE2</th>\n",
       "      <th>CITY</th>\n",
       "      <th>STATE</th>\n",
       "      <th>POSTALCODE</th>\n",
       "      <th>COUNTRY</th>\n",
       "      <th>TERRITORY</th>\n",
       "      <th>CONTACTLASTNAME</th>\n",
       "      <th>CONTACTFIRSTNAME</th>\n",
       "      <th>DEALSIZE</th>\n",
       "    </tr>\n",
       "  </thead>\n",
       "  <tbody>\n",
       "    <tr>\n",
       "      <th>0</th>\n",
       "      <td>10107</td>\n",
       "      <td>30</td>\n",
       "      <td>95.70</td>\n",
       "      <td>2</td>\n",
       "      <td>2871.0</td>\n",
       "      <td>2/24/2003 0:00</td>\n",
       "      <td>Shipped</td>\n",
       "      <td>1</td>\n",
       "      <td>2</td>\n",
       "      <td>2003</td>\n",
       "      <td>...</td>\n",
       "      <td>897 Long Airport Avenue</td>\n",
       "      <td>NaN</td>\n",
       "      <td>NYC</td>\n",
       "      <td>NY</td>\n",
       "      <td>10022</td>\n",
       "      <td>USA</td>\n",
       "      <td>NaN</td>\n",
       "      <td>Yu</td>\n",
       "      <td>Kwai</td>\n",
       "      <td>Small</td>\n",
       "    </tr>\n",
       "    <tr>\n",
       "      <th>1</th>\n",
       "      <td>10121</td>\n",
       "      <td>34</td>\n",
       "      <td>81.35</td>\n",
       "      <td>5</td>\n",
       "      <td>2765.9</td>\n",
       "      <td>5/7/2003 0:00</td>\n",
       "      <td>Shipped</td>\n",
       "      <td>2</td>\n",
       "      <td>5</td>\n",
       "      <td>2003</td>\n",
       "      <td>...</td>\n",
       "      <td>59 rue de l'Abbaye</td>\n",
       "      <td>NaN</td>\n",
       "      <td>Reims</td>\n",
       "      <td>NaN</td>\n",
       "      <td>51100</td>\n",
       "      <td>France</td>\n",
       "      <td>EMEA</td>\n",
       "      <td>Henriot</td>\n",
       "      <td>Paul</td>\n",
       "      <td>Small</td>\n",
       "    </tr>\n",
       "  </tbody>\n",
       "</table>\n",
       "<p>2 rows × 25 columns</p>\n",
       "</div>"
      ],
      "text/plain": [
       "   ORDERNUMBER  QUANTITYORDERED  PRICEEACH  ORDERLINENUMBER   SALES  \\\n",
       "0        10107               30      95.70                2  2871.0   \n",
       "1        10121               34      81.35                5  2765.9   \n",
       "\n",
       "        ORDERDATE   STATUS  QTR_ID  MONTH_ID  YEAR_ID  ...  \\\n",
       "0  2/24/2003 0:00  Shipped       1         2     2003  ...   \n",
       "1   5/7/2003 0:00  Shipped       2         5     2003  ...   \n",
       "\n",
       "              ADDRESSLINE1  ADDRESSLINE2   CITY STATE POSTALCODE COUNTRY  \\\n",
       "0  897 Long Airport Avenue           NaN    NYC    NY      10022     USA   \n",
       "1       59 rue de l'Abbaye           NaN  Reims   NaN      51100  France   \n",
       "\n",
       "  TERRITORY CONTACTLASTNAME CONTACTFIRSTNAME DEALSIZE  \n",
       "0       NaN              Yu             Kwai    Small  \n",
       "1      EMEA         Henriot             Paul    Small  \n",
       "\n",
       "[2 rows x 25 columns]"
      ]
     },
     "execution_count": 3,
     "metadata": {},
     "output_type": "execute_result"
    }
   ],
   "source": [
    "raw.head(2)"
   ]
  },
  {
   "cell_type": "code",
   "execution_count": 4,
   "metadata": {},
   "outputs": [
    {
     "data": {
      "text/html": [
       "<div>\n",
       "<style scoped>\n",
       "    .dataframe tbody tr th:only-of-type {\n",
       "        vertical-align: middle;\n",
       "    }\n",
       "\n",
       "    .dataframe tbody tr th {\n",
       "        vertical-align: top;\n",
       "    }\n",
       "\n",
       "    .dataframe thead th {\n",
       "        text-align: right;\n",
       "    }\n",
       "</style>\n",
       "<table border=\"1\" class=\"dataframe\">\n",
       "  <thead>\n",
       "    <tr style=\"text-align: right;\">\n",
       "      <th></th>\n",
       "      <th>CUSTOMERNAME</th>\n",
       "      <th>ORDERNUMBER</th>\n",
       "      <th>ORDERDATE</th>\n",
       "      <th>SALES</th>\n",
       "    </tr>\n",
       "  </thead>\n",
       "  <tbody>\n",
       "    <tr>\n",
       "      <th>0</th>\n",
       "      <td>Land of Toys Inc.</td>\n",
       "      <td>10107</td>\n",
       "      <td>2/24/2003 0:00</td>\n",
       "      <td>2871.00</td>\n",
       "    </tr>\n",
       "    <tr>\n",
       "      <th>1</th>\n",
       "      <td>Reims Collectables</td>\n",
       "      <td>10121</td>\n",
       "      <td>5/7/2003 0:00</td>\n",
       "      <td>2765.90</td>\n",
       "    </tr>\n",
       "    <tr>\n",
       "      <th>2</th>\n",
       "      <td>Lyon Souveniers</td>\n",
       "      <td>10134</td>\n",
       "      <td>7/1/2003 0:00</td>\n",
       "      <td>3884.34</td>\n",
       "    </tr>\n",
       "    <tr>\n",
       "      <th>3</th>\n",
       "      <td>Toys4GrownUps.com</td>\n",
       "      <td>10145</td>\n",
       "      <td>8/25/2003 0:00</td>\n",
       "      <td>3746.70</td>\n",
       "    </tr>\n",
       "    <tr>\n",
       "      <th>4</th>\n",
       "      <td>Corporate Gift Ideas Co.</td>\n",
       "      <td>10159</td>\n",
       "      <td>10/10/2003 0:00</td>\n",
       "      <td>5205.27</td>\n",
       "    </tr>\n",
       "  </tbody>\n",
       "</table>\n",
       "</div>"
      ],
      "text/plain": [
       "               CUSTOMERNAME  ORDERNUMBER        ORDERDATE    SALES\n",
       "0         Land of Toys Inc.        10107   2/24/2003 0:00  2871.00\n",
       "1        Reims Collectables        10121    5/7/2003 0:00  2765.90\n",
       "2           Lyon Souveniers        10134    7/1/2003 0:00  3884.34\n",
       "3         Toys4GrownUps.com        10145   8/25/2003 0:00  3746.70\n",
       "4  Corporate Gift Ideas Co.        10159  10/10/2003 0:00  5205.27"
      ]
     },
     "execution_count": 4,
     "metadata": {},
     "output_type": "execute_result"
    }
   ],
   "source": [
    "# Extract useful metrics for RFM analysis\n",
    "df = raw[['CUSTOMERNAME', 'ORDERNUMBER', 'ORDERDATE', 'SALES']]\n",
    "\n",
    "df.head()"
   ]
  },
  {
   "cell_type": "markdown",
   "metadata": {},
   "source": [
    "### 2.2 Clean Data<a id=2.2></a>"
   ]
  },
  {
   "cell_type": "code",
   "execution_count": 5,
   "metadata": {
    "scrolled": true
   },
   "outputs": [
    {
     "name": "stdout",
     "output_type": "stream",
     "text": [
      "<class 'pandas.core.frame.DataFrame'>\n",
      "RangeIndex: 2823 entries, 0 to 2822\n",
      "Data columns (total 4 columns):\n",
      " #   Column        Non-Null Count  Dtype  \n",
      "---  ------        --------------  -----  \n",
      " 0   CUSTOMERNAME  2823 non-null   object \n",
      " 1   ORDERNUMBER   2823 non-null   int64  \n",
      " 2   ORDERDATE     2823 non-null   object \n",
      " 3   SALES         2823 non-null   float64\n",
      "dtypes: float64(1), int64(1), object(2)\n",
      "memory usage: 88.3+ KB\n"
     ]
    }
   ],
   "source": [
    "# Check the structure or type of each variable\n",
    "df.info()"
   ]
  },
  {
   "cell_type": "code",
   "execution_count": 6,
   "metadata": {},
   "outputs": [
    {
     "name": "stdout",
     "output_type": "stream",
     "text": [
      "There are 2823 observations\n"
     ]
    }
   ],
   "source": [
    "# Remove rows with null values\n",
    "## As there are no nulls in this dataset, this function won't affect it\n",
    "## Keeping the code here makes it applicable to different datasets\n",
    "df.dropna(inplace=True)\n",
    "print('There are ' +str(len(df)) + ' observations')"
   ]
  },
  {
   "cell_type": "code",
   "execution_count": 7,
   "metadata": {},
   "outputs": [
    {
     "name": "stdout",
     "output_type": "stream",
     "text": [
      "There are 2823 observations\n"
     ]
    }
   ],
   "source": [
    "# Remove duplicate rows\n",
    "df.drop_duplicates(inplace=True, ignore_index=True)\n",
    "print('There are ' +str(len(df)) + ' observations')"
   ]
  },
  {
   "cell_type": "code",
   "execution_count": 8,
   "metadata": {
    "scrolled": true
   },
   "outputs": [],
   "source": [
    "# Convert ORDERDATE to datetime data type\n",
    "df['ORDERDATE'] = pd.to_datetime(df['ORDERDATE'])"
   ]
  },
  {
   "cell_type": "code",
   "execution_count": 9,
   "metadata": {
    "scrolled": true
   },
   "outputs": [
    {
     "data": {
      "text/html": [
       "<div>\n",
       "<style scoped>\n",
       "    .dataframe tbody tr th:only-of-type {\n",
       "        vertical-align: middle;\n",
       "    }\n",
       "\n",
       "    .dataframe tbody tr th {\n",
       "        vertical-align: top;\n",
       "    }\n",
       "\n",
       "    .dataframe thead th {\n",
       "        text-align: right;\n",
       "    }\n",
       "</style>\n",
       "<table border=\"1\" class=\"dataframe\">\n",
       "  <thead>\n",
       "    <tr style=\"text-align: right;\">\n",
       "      <th></th>\n",
       "      <th>CUSTOMERNAME</th>\n",
       "      <th>ORDERNUMBER</th>\n",
       "      <th>ORDERDATE</th>\n",
       "      <th>SALES</th>\n",
       "    </tr>\n",
       "  </thead>\n",
       "  <tbody>\n",
       "    <tr>\n",
       "      <th>0</th>\n",
       "      <td>Land of Toys Inc.</td>\n",
       "      <td>10107</td>\n",
       "      <td>2003-02-24</td>\n",
       "      <td>2871.00</td>\n",
       "    </tr>\n",
       "    <tr>\n",
       "      <th>1</th>\n",
       "      <td>Reims Collectables</td>\n",
       "      <td>10121</td>\n",
       "      <td>2003-05-07</td>\n",
       "      <td>2765.90</td>\n",
       "    </tr>\n",
       "    <tr>\n",
       "      <th>2</th>\n",
       "      <td>Lyon Souveniers</td>\n",
       "      <td>10134</td>\n",
       "      <td>2003-07-01</td>\n",
       "      <td>3884.34</td>\n",
       "    </tr>\n",
       "    <tr>\n",
       "      <th>3</th>\n",
       "      <td>Toys4GrownUps.com</td>\n",
       "      <td>10145</td>\n",
       "      <td>2003-08-25</td>\n",
       "      <td>3746.70</td>\n",
       "    </tr>\n",
       "    <tr>\n",
       "      <th>4</th>\n",
       "      <td>Corporate Gift Ideas Co.</td>\n",
       "      <td>10159</td>\n",
       "      <td>2003-10-10</td>\n",
       "      <td>5205.27</td>\n",
       "    </tr>\n",
       "  </tbody>\n",
       "</table>\n",
       "</div>"
      ],
      "text/plain": [
       "               CUSTOMERNAME  ORDERNUMBER  ORDERDATE    SALES\n",
       "0         Land of Toys Inc.        10107 2003-02-24  2871.00\n",
       "1        Reims Collectables        10121 2003-05-07  2765.90\n",
       "2           Lyon Souveniers        10134 2003-07-01  3884.34\n",
       "3         Toys4GrownUps.com        10145 2003-08-25  3746.70\n",
       "4  Corporate Gift Ideas Co.        10159 2003-10-10  5205.27"
      ]
     },
     "execution_count": 9,
     "metadata": {},
     "output_type": "execute_result"
    }
   ],
   "source": [
    "df.head()"
   ]
  },
  {
   "cell_type": "markdown",
   "metadata": {},
   "source": [
    "##### [Back to Top](#Top)"
   ]
  },
  {
   "cell_type": "markdown",
   "metadata": {},
   "source": [
    "---\n",
    "## 3. Calculate Metrics<a id=3></a>"
   ]
  },
  {
   "cell_type": "code",
   "execution_count": 10,
   "metadata": {},
   "outputs": [
    {
     "data": {
      "text/plain": [
       "Timestamp('2005-05-31 00:00:00')"
      ]
     },
     "execution_count": 10,
     "metadata": {},
     "output_type": "execute_result"
    }
   ],
   "source": [
    "# Compute the most recent order time for subsequent calculation of Recency\n",
    "latest_order_date = df['ORDERDATE'].max()\n",
    "latest_order_date"
   ]
  },
  {
   "cell_type": "code",
   "execution_count": 11,
   "metadata": {
    "scrolled": false
   },
   "outputs": [
    {
     "data": {
      "text/html": [
       "<div>\n",
       "<style scoped>\n",
       "    .dataframe tbody tr th:only-of-type {\n",
       "        vertical-align: middle;\n",
       "    }\n",
       "\n",
       "    .dataframe tbody tr th {\n",
       "        vertical-align: top;\n",
       "    }\n",
       "\n",
       "    .dataframe thead th {\n",
       "        text-align: right;\n",
       "    }\n",
       "</style>\n",
       "<table border=\"1\" class=\"dataframe\">\n",
       "  <thead>\n",
       "    <tr style=\"text-align: right;\">\n",
       "      <th></th>\n",
       "      <th>CUSTOMERNAME</th>\n",
       "      <th>LASTESTDATE</th>\n",
       "      <th>FREQUENCY</th>\n",
       "      <th>MONETARY</th>\n",
       "    </tr>\n",
       "  </thead>\n",
       "  <tbody>\n",
       "    <tr>\n",
       "      <th>0</th>\n",
       "      <td>AV Stores, Co.</td>\n",
       "      <td>2004-11-17</td>\n",
       "      <td>3</td>\n",
       "      <td>157807.81</td>\n",
       "    </tr>\n",
       "    <tr>\n",
       "      <th>1</th>\n",
       "      <td>Alpha Cognac</td>\n",
       "      <td>2005-03-28</td>\n",
       "      <td>3</td>\n",
       "      <td>70488.44</td>\n",
       "    </tr>\n",
       "  </tbody>\n",
       "</table>\n",
       "</div>"
      ],
      "text/plain": [
       "     CUSTOMERNAME LASTESTDATE  FREQUENCY   MONETARY\n",
       "0  AV Stores, Co.  2004-11-17          3  157807.81\n",
       "1    Alpha Cognac  2005-03-28          3   70488.44"
      ]
     },
     "execution_count": 11,
     "metadata": {},
     "output_type": "execute_result"
    }
   ],
   "source": [
    "rfm_df = df.groupby('CUSTOMERNAME').agg({'ORDERDATE': 'max', # When is the last order date for each customer?\n",
    "                                                                             'ORDERNUMBER': pd.Series.nunique, # How many times has each customer purchased?\n",
    "                                                                             'SALES': 'sum' # How much has each customer spent?\n",
    "                                                                            }).reset_index()\n",
    "\n",
    "# Rename the new RFM table\n",
    "rfm_df.rename(columns={'ORDERDATE': 'LASTESTDATE', \n",
    "                                           'ORDERNUMBER': 'FREQUENCY',\n",
    "                                           'SALES': 'MONETARY'}, inplace=True)\n",
    "\n",
    "rfm_df.head(2)"
   ]
  },
  {
   "cell_type": "code",
   "execution_count": 12,
   "metadata": {},
   "outputs": [],
   "source": [
    "# Calculate Recency value\n",
    "rfm_df['RECENCY'] = (latest_order_date - rfm_df['LASTESTDATE'])/np.timedelta64(1, 'D')\n",
    "# Delete LASTESTDATE column\n",
    "rfm_df.drop('LASTESTDATE', axis=1, inplace=True)\n",
    "# Rearrange the RECENCY column in front of the FREQUENCY column\n",
    "rfm_df.insert(1, 'RECENCY', rfm_df.pop('RECENCY'))"
   ]
  },
  {
   "cell_type": "code",
   "execution_count": 13,
   "metadata": {},
   "outputs": [
    {
     "data": {
      "text/html": [
       "<div>\n",
       "<style scoped>\n",
       "    .dataframe tbody tr th:only-of-type {\n",
       "        vertical-align: middle;\n",
       "    }\n",
       "\n",
       "    .dataframe tbody tr th {\n",
       "        vertical-align: top;\n",
       "    }\n",
       "\n",
       "    .dataframe thead th {\n",
       "        text-align: right;\n",
       "    }\n",
       "</style>\n",
       "<table border=\"1\" class=\"dataframe\">\n",
       "  <thead>\n",
       "    <tr style=\"text-align: right;\">\n",
       "      <th></th>\n",
       "      <th>CUSTOMERNAME</th>\n",
       "      <th>RECENCY</th>\n",
       "      <th>FREQUENCY</th>\n",
       "      <th>MONETARY</th>\n",
       "    </tr>\n",
       "  </thead>\n",
       "  <tbody>\n",
       "    <tr>\n",
       "      <th>0</th>\n",
       "      <td>AV Stores, Co.</td>\n",
       "      <td>195.0</td>\n",
       "      <td>3</td>\n",
       "      <td>157807.81</td>\n",
       "    </tr>\n",
       "    <tr>\n",
       "      <th>1</th>\n",
       "      <td>Alpha Cognac</td>\n",
       "      <td>64.0</td>\n",
       "      <td>3</td>\n",
       "      <td>70488.44</td>\n",
       "    </tr>\n",
       "    <tr>\n",
       "      <th>2</th>\n",
       "      <td>Amica Models &amp; Co.</td>\n",
       "      <td>264.0</td>\n",
       "      <td>2</td>\n",
       "      <td>94117.26</td>\n",
       "    </tr>\n",
       "    <tr>\n",
       "      <th>3</th>\n",
       "      <td>Anna's Decorations, Ltd</td>\n",
       "      <td>83.0</td>\n",
       "      <td>4</td>\n",
       "      <td>153996.13</td>\n",
       "    </tr>\n",
       "    <tr>\n",
       "      <th>4</th>\n",
       "      <td>Atelier graphique</td>\n",
       "      <td>187.0</td>\n",
       "      <td>3</td>\n",
       "      <td>24179.96</td>\n",
       "    </tr>\n",
       "  </tbody>\n",
       "</table>\n",
       "</div>"
      ],
      "text/plain": [
       "              CUSTOMERNAME  RECENCY  FREQUENCY   MONETARY\n",
       "0           AV Stores, Co.    195.0          3  157807.81\n",
       "1             Alpha Cognac     64.0          3   70488.44\n",
       "2       Amica Models & Co.    264.0          2   94117.26\n",
       "3  Anna's Decorations, Ltd     83.0          4  153996.13\n",
       "4        Atelier graphique    187.0          3   24179.96"
      ]
     },
     "execution_count": 13,
     "metadata": {},
     "output_type": "execute_result"
    }
   ],
   "source": [
    "rfm_df.head()"
   ]
  },
  {
   "cell_type": "markdown",
   "metadata": {},
   "source": [
    "##### [Back to Top](#Top)"
   ]
  },
  {
   "cell_type": "markdown",
   "metadata": {},
   "source": [
    "---\n",
    "## 4. Set Up Tiers<a id=4></a>"
   ]
  },
  {
   "cell_type": "code",
   "execution_count": 14,
   "metadata": {
    "scrolled": false
   },
   "outputs": [
    {
     "data": {
      "image/png": "[encoded data removed]",
      "text/plain": [
       "<Figure size 1152x216 with 2 Axes>"
      ]
     },
     "metadata": {
      "needs_background": "light"
     },
     "output_type": "display_data"
    },
    {
     "data": {
      "image/png": "[encoded data removed]",
      "text/plain": [
       "<Figure size 1152x216 with 2 Axes>"
      ]
     },
     "metadata": {
      "needs_background": "light"
     },
     "output_type": "display_data"
    },
    {
     "data": {
      "image/png": "[encoded data removed]",
      "text/plain": [
       "<Figure size 1152x216 with 2 Axes>"
      ]
     },
     "metadata": {
      "needs_background": "light"
     },
     "output_type": "display_data"
    }
   ],
   "source": [
    "# Visualize RFM metrics\n",
    "for col in ['RECENCY','FREQUENCY','MONETARY']:\n",
    "    f, axs = plt.subplots(ncols=2, figsize=(16, 3))\n",
    "    sns.despine(f)\n",
    "    \n",
    "    sns.boxenplot(x=rfm_df[col],ax=axs[0])\n",
    "    sns.histplot(x=rfm_df[col], kde=True, ax=axs[1])\n",
    "    \n",
    "    plt.show()"
   ]
  },
  {
   "cell_type": "code",
   "execution_count": 15,
   "metadata": {
    "scrolled": true
   },
   "outputs": [
    {
     "data": {
      "text/html": [
       "<div>\n",
       "<style scoped>\n",
       "    .dataframe tbody tr th:only-of-type {\n",
       "        vertical-align: middle;\n",
       "    }\n",
       "\n",
       "    .dataframe tbody tr th {\n",
       "        vertical-align: top;\n",
       "    }\n",
       "\n",
       "    .dataframe thead th {\n",
       "        text-align: right;\n",
       "    }\n",
       "</style>\n",
       "<table border=\"1\" class=\"dataframe\">\n",
       "  <thead>\n",
       "    <tr style=\"text-align: right;\">\n",
       "      <th></th>\n",
       "      <th>RECENCY</th>\n",
       "      <th>FREQUENCY</th>\n",
       "      <th>MONETARY</th>\n",
       "    </tr>\n",
       "  </thead>\n",
       "  <tbody>\n",
       "    <tr>\n",
       "      <th>0.25</th>\n",
       "      <td>80.25</td>\n",
       "      <td>2.0</td>\n",
       "      <td>70129.4325</td>\n",
       "    </tr>\n",
       "    <tr>\n",
       "      <th>0.50</th>\n",
       "      <td>185.00</td>\n",
       "      <td>3.0</td>\n",
       "      <td>86522.6100</td>\n",
       "    </tr>\n",
       "    <tr>\n",
       "      <th>0.75</th>\n",
       "      <td>229.25</td>\n",
       "      <td>3.0</td>\n",
       "      <td>120575.8750</td>\n",
       "    </tr>\n",
       "  </tbody>\n",
       "</table>\n",
       "</div>"
      ],
      "text/plain": [
       "      RECENCY  FREQUENCY     MONETARY\n",
       "0.25    80.25        2.0   70129.4325\n",
       "0.50   185.00        3.0   86522.6100\n",
       "0.75   229.25        3.0  120575.8750"
      ]
     },
     "execution_count": 15,
     "metadata": {},
     "output_type": "execute_result"
    }
   ],
   "source": [
    "# The RFM tiers will be determined by quartiles, so we should first view the threshold for each Quartile.\n",
    "rfm_df.quantile(q=[0.25,0.5,0.75])"
   ]
  },
  {
   "cell_type": "markdown",
   "metadata": {},
   "source": [
    "<center><h3>-- Description of Tiers --</h3></center>"
   ]
  },
  {
   "cell_type": "markdown",
   "metadata": {},
   "source": [
    "<table>\n",
    "    <tr>\n",
    "        <th><center>Tier</center></th>\n",
    "        <th><center>Recency</center></th>\n",
    "        <th><center>Frequency</center></th>\n",
    "        <th><center>Monetary</center></th>\n",
    "    </tr>\n",
    "    <tr>\n",
    "        <td><center><strong>Tier 1</strong></center></td>\n",
    "        <td><center>Most Recent</center></td>\n",
    "        <td><center>Most Transaction</center></td>\n",
    "        <td><center>Highest Spend</center></td>\n",
    "    </tr>\n",
    "    <tr>\n",
    "        <td><center><strong>Tier 2</strong></center></td>\n",
    "        <td></td>\n",
    "        <td></td>\n",
    "        <td></td>\n",
    "    </tr>\n",
    "    <tr>\n",
    "        <td><center><strong>Tier 3</strong></center></td>\n",
    "        <td></td>\n",
    "        <td><center>Fewest Transaction</center></td>\n",
    "        <td></td>\n",
    "    </tr>\n",
    "    <tr>\n",
    "        <td><center><strong>Tier 4</strong></center></td>\n",
    "        <td><center>Least Recent</center></td>\n",
    "        <td><center>-</center></td>\n",
    "        <td><center>Lowest Spend</center></td>\n",
    "    </tr>\n",
    "</table>"
   ]
  },
  {
   "cell_type": "code",
   "execution_count": 16,
   "metadata": {
    "scrolled": false
   },
   "outputs": [
    {
     "data": {
      "text/html": [
       "<div>\n",
       "<style scoped>\n",
       "    .dataframe tbody tr th:only-of-type {\n",
       "        vertical-align: middle;\n",
       "    }\n",
       "\n",
       "    .dataframe tbody tr th {\n",
       "        vertical-align: top;\n",
       "    }\n",
       "\n",
       "    .dataframe thead th {\n",
       "        text-align: right;\n",
       "    }\n",
       "</style>\n",
       "<table border=\"1\" class=\"dataframe\">\n",
       "  <thead>\n",
       "    <tr style=\"text-align: right;\">\n",
       "      <th></th>\n",
       "      <th>CUSTOMERNAME</th>\n",
       "      <th>RECENCY</th>\n",
       "      <th>FREQUENCY</th>\n",
       "      <th>MONETARY</th>\n",
       "      <th>R_TIER</th>\n",
       "      <th>F_TIER</th>\n",
       "      <th>M_TIER</th>\n",
       "    </tr>\n",
       "  </thead>\n",
       "  <tbody>\n",
       "    <tr>\n",
       "      <th>0</th>\n",
       "      <td>AV Stores, Co.</td>\n",
       "      <td>195.0</td>\n",
       "      <td>3</td>\n",
       "      <td>157807.81</td>\n",
       "      <td>3</td>\n",
       "      <td>2</td>\n",
       "      <td>1</td>\n",
       "    </tr>\n",
       "    <tr>\n",
       "      <th>1</th>\n",
       "      <td>Alpha Cognac</td>\n",
       "      <td>64.0</td>\n",
       "      <td>3</td>\n",
       "      <td>70488.44</td>\n",
       "      <td>1</td>\n",
       "      <td>2</td>\n",
       "      <td>3</td>\n",
       "    </tr>\n",
       "  </tbody>\n",
       "</table>\n",
       "</div>"
      ],
      "text/plain": [
       "     CUSTOMERNAME  RECENCY  FREQUENCY   MONETARY R_TIER F_TIER M_TIER\n",
       "0  AV Stores, Co.    195.0          3  157807.81      3      2      1\n",
       "1    Alpha Cognac     64.0          3   70488.44      1      2      3"
      ]
     },
     "execution_count": 16,
     "metadata": {},
     "output_type": "execute_result"
    }
   ],
   "source": [
    "# Recency Tiers\n",
    "rfm_df['R_TIER']= pd.qcut(rfm_df['RECENCY'], q = 4, labels = [1,2,3,4])\n",
    "\n",
    "# Frequency Tiers\n",
    "## Because 2nd and 3rd quartile of FREQUENCY are both 3\n",
    "## But all records with the same value should stay in the same quantile\n",
    "## So drop one quantile causing only 3 tiers of FREQUENCY\n",
    "rfm_df['F_TIER']= pd.qcut(rfm_df['FREQUENCY'], q = 4, labels = [3,2,1], duplicates = 'drop')\n",
    "\n",
    "# Monetary Tiers\n",
    "rfm_df['M_TIER']= pd.qcut(rfm_df['MONETARY'], q = 4, labels = [4,3,2,1])\n",
    "\n",
    "rfm_df.head(2)"
   ]
  },
  {
   "cell_type": "code",
   "execution_count": 17,
   "metadata": {
    "scrolled": false
   },
   "outputs": [
    {
     "data": {
      "text/plain": [
       "CUSTOMERNAME      object\n",
       "RECENCY          float64\n",
       "FREQUENCY          int64\n",
       "MONETARY         float64\n",
       "R_TIER          category\n",
       "F_TIER          category\n",
       "M_TIER          category\n",
       "dtype: object"
      ]
     },
     "execution_count": 17,
     "metadata": {},
     "output_type": "execute_result"
    }
   ],
   "source": [
    "# Check the data type of each variable\n",
    "rfm_df.dtypes"
   ]
  },
  {
   "cell_type": "code",
   "execution_count": 18,
   "metadata": {
    "scrolled": false
   },
   "outputs": [
    {
     "data": {
      "text/html": [
       "<div>\n",
       "<style scoped>\n",
       "    .dataframe tbody tr th:only-of-type {\n",
       "        vertical-align: middle;\n",
       "    }\n",
       "\n",
       "    .dataframe tbody tr th {\n",
       "        vertical-align: top;\n",
       "    }\n",
       "\n",
       "    .dataframe thead th {\n",
       "        text-align: right;\n",
       "    }\n",
       "</style>\n",
       "<table border=\"1\" class=\"dataframe\">\n",
       "  <thead>\n",
       "    <tr style=\"text-align: right;\">\n",
       "      <th></th>\n",
       "      <th>CUSTOMERNAME</th>\n",
       "      <th>RECENCY</th>\n",
       "      <th>FREQUENCY</th>\n",
       "      <th>MONETARY</th>\n",
       "      <th>R_TIER</th>\n",
       "      <th>F_TIER</th>\n",
       "      <th>M_TIER</th>\n",
       "      <th>RFM</th>\n",
       "    </tr>\n",
       "  </thead>\n",
       "  <tbody>\n",
       "    <tr>\n",
       "      <th>0</th>\n",
       "      <td>AV Stores, Co.</td>\n",
       "      <td>195.0</td>\n",
       "      <td>3</td>\n",
       "      <td>157807.81</td>\n",
       "      <td>3</td>\n",
       "      <td>2</td>\n",
       "      <td>1</td>\n",
       "      <td>321</td>\n",
       "    </tr>\n",
       "    <tr>\n",
       "      <th>1</th>\n",
       "      <td>Alpha Cognac</td>\n",
       "      <td>64.0</td>\n",
       "      <td>3</td>\n",
       "      <td>70488.44</td>\n",
       "      <td>1</td>\n",
       "      <td>2</td>\n",
       "      <td>3</td>\n",
       "      <td>123</td>\n",
       "    </tr>\n",
       "  </tbody>\n",
       "</table>\n",
       "</div>"
      ],
      "text/plain": [
       "     CUSTOMERNAME  RECENCY  FREQUENCY   MONETARY R_TIER F_TIER M_TIER  RFM\n",
       "0  AV Stores, Co.    195.0          3  157807.81      3      2      1  321\n",
       "1    Alpha Cognac     64.0          3   70488.44      1      2      3  123"
      ]
     },
     "execution_count": 18,
     "metadata": {},
     "output_type": "execute_result"
    }
   ],
   "source": [
    "# Convert category data to string type\n",
    "rfm_df[['R_TIER','F_TIER','M_TIER']] = rfm_df[['R_TIER','F_TIER','M_TIER']].astype(str)\n",
    "\n",
    "# Concatenate the R, F, and M tiers to get a RFM score\n",
    "rfm_df['RFM'] = rfm_df['R_TIER'] + rfm_df['F_TIER'] + rfm_df['M_TIER']\n",
    "\n",
    "rfm_df.head(2)"
   ]
  },
  {
   "cell_type": "code",
   "execution_count": 19,
   "metadata": {
    "scrolled": true
   },
   "outputs": [
    {
     "data": {
      "image/png": "[encoded data removed]",
      "text/plain": [
       "<Figure size 1152x288 with 1 Axes>"
      ]
     },
     "metadata": {
      "needs_background": "light"
     },
     "output_type": "display_data"
    }
   ],
   "source": [
    "# Visualize customer numbers by RFM score\n",
    "plt.figure(figsize=(16,4))\n",
    "\n",
    "rfm_df['RFM'].value_counts().sort_index().plot(kind='bar')\n",
    "\n",
    "# Format plots\n",
    "plt.xlabel('RFM')\n",
    "plt.ylabel('Customer Count')\n",
    "plt.xticks(rotation = 0)\n",
    "\n",
    "plt.show()"
   ]
  },
  {
   "cell_type": "markdown",
   "metadata": {},
   "source": [
    "##### [Back to Top](#Top)"
   ]
  },
  {
   "cell_type": "markdown",
   "metadata": {},
   "source": [
    "---\n",
    "## 5. Segmentation Examples<a id=5></a>"
   ]
  },
  {
   "cell_type": "code",
   "execution_count": 20,
   "metadata": {},
   "outputs": [],
   "source": [
    "# Convert string data to integers\n",
    "rfm_df[['R_TIER','F_TIER','M_TIER','RFM']] = rfm_df[['R_TIER','F_TIER','M_TIER','RFM']].astype(int)"
   ]
  },
  {
   "cell_type": "markdown",
   "metadata": {},
   "source": [
    "### 5.1 Soulmate<a id=5.1></a>"
   ]
  },
  {
   "cell_type": "markdown",
   "metadata": {},
   "source": [
    "**RFM:** 111\n",
    "\n",
    "**Customer Segment:** They are the most valuable customers who purchased the most recently, buy the most frequently, and spend the highest money.\n",
    "\n",
    "**Marketing Strategy:** The priority should be paid to this group of customers and the satisfaction of these customers should be improved in order to increase customer retention. VIP services and personalized services can be provided to enhance the user experience."
   ]
  },
  {
   "cell_type": "code",
   "execution_count": 21,
   "metadata": {},
   "outputs": [
    {
     "data": {
      "text/html": [
       "<div>\n",
       "<style scoped>\n",
       "    .dataframe tbody tr th:only-of-type {\n",
       "        vertical-align: middle;\n",
       "    }\n",
       "\n",
       "    .dataframe tbody tr th {\n",
       "        vertical-align: top;\n",
       "    }\n",
       "\n",
       "    .dataframe thead th {\n",
       "        text-align: right;\n",
       "    }\n",
       "</style>\n",
       "<table border=\"1\" class=\"dataframe\">\n",
       "  <thead>\n",
       "    <tr style=\"text-align: right;\">\n",
       "      <th></th>\n",
       "      <th>CUSTOMERNAME</th>\n",
       "      <th>RECENCY</th>\n",
       "      <th>FREQUENCY</th>\n",
       "      <th>MONETARY</th>\n",
       "      <th>R_TIER</th>\n",
       "      <th>F_TIER</th>\n",
       "      <th>M_TIER</th>\n",
       "      <th>RFM</th>\n",
       "    </tr>\n",
       "  </thead>\n",
       "  <tbody>\n",
       "    <tr>\n",
       "      <th>33</th>\n",
       "      <td>Euro Shopping Channel</td>\n",
       "      <td>0.0</td>\n",
       "      <td>26</td>\n",
       "      <td>912294.11</td>\n",
       "      <td>1</td>\n",
       "      <td>1</td>\n",
       "      <td>1</td>\n",
       "      <td>111</td>\n",
       "    </tr>\n",
       "    <tr>\n",
       "      <th>55</th>\n",
       "      <td>Mini Gifts Distributors Ltd.</td>\n",
       "      <td>2.0</td>\n",
       "      <td>17</td>\n",
       "      <td>654858.06</td>\n",
       "      <td>1</td>\n",
       "      <td>1</td>\n",
       "      <td>1</td>\n",
       "      <td>111</td>\n",
       "    </tr>\n",
       "    <tr>\n",
       "      <th>44</th>\n",
       "      <td>La Rochelle Gifts</td>\n",
       "      <td>0.0</td>\n",
       "      <td>4</td>\n",
       "      <td>180124.90</td>\n",
       "      <td>1</td>\n",
       "      <td>1</td>\n",
       "      <td>1</td>\n",
       "      <td>111</td>\n",
       "    </tr>\n",
       "    <tr>\n",
       "      <th>81</th>\n",
       "      <td>The Sharp Gifts Warehouse</td>\n",
       "      <td>39.0</td>\n",
       "      <td>4</td>\n",
       "      <td>160010.27</td>\n",
       "      <td>1</td>\n",
       "      <td>1</td>\n",
       "      <td>1</td>\n",
       "      <td>111</td>\n",
       "    </tr>\n",
       "    <tr>\n",
       "      <th>75</th>\n",
       "      <td>Souveniers And Things Co.</td>\n",
       "      <td>2.0</td>\n",
       "      <td>4</td>\n",
       "      <td>151570.98</td>\n",
       "      <td>1</td>\n",
       "      <td>1</td>\n",
       "      <td>1</td>\n",
       "      <td>111</td>\n",
       "    </tr>\n",
       "  </tbody>\n",
       "</table>\n",
       "</div>"
      ],
      "text/plain": [
       "                    CUSTOMERNAME  RECENCY  FREQUENCY   MONETARY  R_TIER  \\\n",
       "33         Euro Shopping Channel      0.0         26  912294.11       1   \n",
       "55  Mini Gifts Distributors Ltd.      2.0         17  654858.06       1   \n",
       "44             La Rochelle Gifts      0.0          4  180124.90       1   \n",
       "81     The Sharp Gifts Warehouse     39.0          4  160010.27       1   \n",
       "75     Souveniers And Things Co.      2.0          4  151570.98       1   \n",
       "\n",
       "    F_TIER  M_TIER  RFM  \n",
       "33       1       1  111  \n",
       "55       1       1  111  \n",
       "44       1       1  111  \n",
       "81       1       1  111  \n",
       "75       1       1  111  "
      ]
     },
     "execution_count": 21,
     "metadata": {},
     "output_type": "execute_result"
    }
   ],
   "source": [
    "rfm_df[rfm_df['RFM']==111].sort_values(['MONETARY'], ascending=False).head()"
   ]
  },
  {
   "cell_type": "markdown",
   "metadata": {},
   "source": [
    "### 5.2 Lover<a id=5.2></a>"
   ]
  },
  {
   "cell_type": "markdown",
   "metadata": {},
   "source": [
    "**RFM:** 222\n",
    "\n",
    "**Customer Segment:** The amount and frequency of their purchases are considerable, and it has not been too long since their last purchase. Lover customers have a high probability of becoming Soulmates.\n",
    "\n",
    "**Marketing Strategy:** Survey these customers to learn about their experiences and opinions."
   ]
  },
  {
   "cell_type": "code",
   "execution_count": 22,
   "metadata": {
    "scrolled": true
   },
   "outputs": [
    {
     "data": {
      "text/html": [
       "<div>\n",
       "<style scoped>\n",
       "    .dataframe tbody tr th:only-of-type {\n",
       "        vertical-align: middle;\n",
       "    }\n",
       "\n",
       "    .dataframe tbody tr th {\n",
       "        vertical-align: top;\n",
       "    }\n",
       "\n",
       "    .dataframe thead th {\n",
       "        text-align: right;\n",
       "    }\n",
       "</style>\n",
       "<table border=\"1\" class=\"dataframe\">\n",
       "  <thead>\n",
       "    <tr style=\"text-align: right;\">\n",
       "      <th></th>\n",
       "      <th>CUSTOMERNAME</th>\n",
       "      <th>RECENCY</th>\n",
       "      <th>FREQUENCY</th>\n",
       "      <th>MONETARY</th>\n",
       "      <th>R_TIER</th>\n",
       "      <th>F_TIER</th>\n",
       "      <th>M_TIER</th>\n",
       "      <th>RFM</th>\n",
       "    </tr>\n",
       "  </thead>\n",
       "  <tbody>\n",
       "    <tr>\n",
       "      <th>77</th>\n",
       "      <td>Suominen Souveniers</td>\n",
       "      <td>145.0</td>\n",
       "      <td>3</td>\n",
       "      <td>113961.15</td>\n",
       "      <td>2</td>\n",
       "      <td>2</td>\n",
       "      <td>2</td>\n",
       "      <td>222</td>\n",
       "    </tr>\n",
       "    <tr>\n",
       "      <th>84</th>\n",
       "      <td>Toys of Finland, Co.</td>\n",
       "      <td>111.0</td>\n",
       "      <td>3</td>\n",
       "      <td>111250.38</td>\n",
       "      <td>2</td>\n",
       "      <td>2</td>\n",
       "      <td>2</td>\n",
       "      <td>222</td>\n",
       "    </tr>\n",
       "    <tr>\n",
       "      <th>54</th>\n",
       "      <td>Mini Creations Ltd.</td>\n",
       "      <td>144.0</td>\n",
       "      <td>3</td>\n",
       "      <td>108951.13</td>\n",
       "      <td>2</td>\n",
       "      <td>2</td>\n",
       "      <td>2</td>\n",
       "      <td>222</td>\n",
       "    </tr>\n",
       "    <tr>\n",
       "      <th>85</th>\n",
       "      <td>Toys4GrownUps.com</td>\n",
       "      <td>139.0</td>\n",
       "      <td>3</td>\n",
       "      <td>104561.96</td>\n",
       "      <td>2</td>\n",
       "      <td>2</td>\n",
       "      <td>2</td>\n",
       "      <td>222</td>\n",
       "    </tr>\n",
       "    <tr>\n",
       "      <th>63</th>\n",
       "      <td>Oulu Toy Supplies, Inc.</td>\n",
       "      <td>120.0</td>\n",
       "      <td>3</td>\n",
       "      <td>104370.38</td>\n",
       "      <td>2</td>\n",
       "      <td>2</td>\n",
       "      <td>2</td>\n",
       "      <td>222</td>\n",
       "    </tr>\n",
       "  </tbody>\n",
       "</table>\n",
       "</div>"
      ],
      "text/plain": [
       "               CUSTOMERNAME  RECENCY  FREQUENCY   MONETARY  R_TIER  F_TIER  \\\n",
       "77      Suominen Souveniers    145.0          3  113961.15       2       2   \n",
       "84     Toys of Finland, Co.    111.0          3  111250.38       2       2   \n",
       "54      Mini Creations Ltd.    144.0          3  108951.13       2       2   \n",
       "85        Toys4GrownUps.com    139.0          3  104561.96       2       2   \n",
       "63  Oulu Toy Supplies, Inc.    120.0          3  104370.38       2       2   \n",
       "\n",
       "    M_TIER  RFM  \n",
       "77       2  222  \n",
       "84       2  222  \n",
       "54       2  222  \n",
       "85       2  222  \n",
       "63       2  222  "
      ]
     },
     "execution_count": 22,
     "metadata": {},
     "output_type": "execute_result"
    }
   ],
   "source": [
    "rfm_df[rfm_df['RFM']==222].sort_values(['MONETARY'], ascending=False).head()"
   ]
  },
  {
   "cell_type": "markdown",
   "metadata": {},
   "source": [
    "### 5.3 Potential Lover<a id=5.3></a>"
   ]
  },
  {
   "cell_type": "markdown",
   "metadata": {},
   "source": [
    "**RFM:** 223\n",
    "\n",
    "**Customer Segment:** Potential Lover customers spend less than Lover customers. These customers recently purchased, whose total transactions are nice, but the cumulative consumption amount is low, which means their AOV is low.\n",
    "\n",
    "**Marketing Strategy:** Upsell more appealing services/products to this group of customers. Offer them discounts in order to entice them."
   ]
  },
  {
   "cell_type": "code",
   "execution_count": 23,
   "metadata": {
    "scrolled": true
   },
   "outputs": [
    {
     "data": {
      "text/html": [
       "<div>\n",
       "<style scoped>\n",
       "    .dataframe tbody tr th:only-of-type {\n",
       "        vertical-align: middle;\n",
       "    }\n",
       "\n",
       "    .dataframe tbody tr th {\n",
       "        vertical-align: top;\n",
       "    }\n",
       "\n",
       "    .dataframe thead th {\n",
       "        text-align: right;\n",
       "    }\n",
       "</style>\n",
       "<table border=\"1\" class=\"dataframe\">\n",
       "  <thead>\n",
       "    <tr style=\"text-align: right;\">\n",
       "      <th></th>\n",
       "      <th>CUSTOMERNAME</th>\n",
       "      <th>RECENCY</th>\n",
       "      <th>FREQUENCY</th>\n",
       "      <th>MONETARY</th>\n",
       "      <th>R_TIER</th>\n",
       "      <th>F_TIER</th>\n",
       "      <th>M_TIER</th>\n",
       "      <th>RFM</th>\n",
       "    </tr>\n",
       "  </thead>\n",
       "  <tbody>\n",
       "    <tr>\n",
       "      <th>74</th>\n",
       "      <td>Signal Gift Stores</td>\n",
       "      <td>183.0</td>\n",
       "      <td>3</td>\n",
       "      <td>82751.08</td>\n",
       "      <td>2</td>\n",
       "      <td>2</td>\n",
       "      <td>3</td>\n",
       "      <td>223</td>\n",
       "    </tr>\n",
       "    <tr>\n",
       "      <th>22</th>\n",
       "      <td>Collectables For Less Inc.</td>\n",
       "      <td>131.0</td>\n",
       "      <td>3</td>\n",
       "      <td>81577.98</td>\n",
       "      <td>2</td>\n",
       "      <td>2</td>\n",
       "      <td>3</td>\n",
       "      <td>223</td>\n",
       "    </tr>\n",
       "    <tr>\n",
       "      <th>47</th>\n",
       "      <td>Marseille Mini Autos</td>\n",
       "      <td>145.0</td>\n",
       "      <td>3</td>\n",
       "      <td>74936.14</td>\n",
       "      <td>2</td>\n",
       "      <td>2</td>\n",
       "      <td>3</td>\n",
       "      <td>223</td>\n",
       "    </tr>\n",
       "  </tbody>\n",
       "</table>\n",
       "</div>"
      ],
      "text/plain": [
       "                  CUSTOMERNAME  RECENCY  FREQUENCY  MONETARY  R_TIER  F_TIER  \\\n",
       "74          Signal Gift Stores    183.0          3  82751.08       2       2   \n",
       "22  Collectables For Less Inc.    131.0          3  81577.98       2       2   \n",
       "47        Marseille Mini Autos    145.0          3  74936.14       2       2   \n",
       "\n",
       "    M_TIER  RFM  \n",
       "74       3  223  \n",
       "22       3  223  \n",
       "47       3  223  "
      ]
     },
     "execution_count": 23,
     "metadata": {},
     "output_type": "execute_result"
    }
   ],
   "source": [
    "rfm_df[rfm_df['RFM']==223].sort_values(['MONETARY'], ascending=False).head()"
   ]
  },
  {
   "cell_type": "markdown",
   "metadata": {},
   "source": [
    "### 5.4 New Passion<a id=5.4></a>"
   ]
  },
  {
   "cell_type": "markdown",
   "metadata": {},
   "source": [
    "**RFM:** 13X, 23X\n",
    "\n",
    "**Customer Segment:** Recently purchased goods, but with the fewest purchases, are more likely to be new customers. These individuals are in a state of curiosity about a service or product, or are seeking value.\n",
    "\n",
    "**Marketing Strategy:** Send a welcome email featuring the brand's introduction, or offer a free trial to increase customer interest and brand awareness."
   ]
  },
  {
   "cell_type": "code",
   "execution_count": 24,
   "metadata": {},
   "outputs": [
    {
     "data": {
      "text/html": [
       "<div>\n",
       "<style scoped>\n",
       "    .dataframe tbody tr th:only-of-type {\n",
       "        vertical-align: middle;\n",
       "    }\n",
       "\n",
       "    .dataframe tbody tr th {\n",
       "        vertical-align: top;\n",
       "    }\n",
       "\n",
       "    .dataframe thead th {\n",
       "        text-align: right;\n",
       "    }\n",
       "</style>\n",
       "<table border=\"1\" class=\"dataframe\">\n",
       "  <thead>\n",
       "    <tr style=\"text-align: right;\">\n",
       "      <th></th>\n",
       "      <th>CUSTOMERNAME</th>\n",
       "      <th>RECENCY</th>\n",
       "      <th>FREQUENCY</th>\n",
       "      <th>MONETARY</th>\n",
       "      <th>R_TIER</th>\n",
       "      <th>F_TIER</th>\n",
       "      <th>M_TIER</th>\n",
       "      <th>RFM</th>\n",
       "    </tr>\n",
       "  </thead>\n",
       "  <tbody>\n",
       "    <tr>\n",
       "      <th>14</th>\n",
       "      <td>Boards &amp; Toys Co.</td>\n",
       "      <td>112.0</td>\n",
       "      <td>2</td>\n",
       "      <td>9129.35</td>\n",
       "      <td>2</td>\n",
       "      <td>3</td>\n",
       "      <td>4</td>\n",
       "      <td>234</td>\n",
       "    </tr>\n",
       "  </tbody>\n",
       "</table>\n",
       "</div>"
      ],
      "text/plain": [
       "         CUSTOMERNAME  RECENCY  FREQUENCY  MONETARY  R_TIER  F_TIER  M_TIER  \\\n",
       "14  Boards & Toys Co.    112.0          2   9129.35       2       3       4   \n",
       "\n",
       "    RFM  \n",
       "14  234  "
      ]
     },
     "execution_count": 24,
     "metadata": {},
     "output_type": "execute_result"
    }
   ],
   "source": [
    "rfm_df[(rfm_df['R_TIER']<=2)&(rfm_df['F_TIER']==3)].sort_values(['MONETARY'], ascending=False).head()"
   ]
  },
  {
   "cell_type": "markdown",
   "metadata": {},
   "source": [
    "### 5.5 About to Dump You<a id=5.5></a>"
   ]
  },
  {
   "cell_type": "markdown",
   "metadata": {},
   "source": [
    "**RFM:** 334\n",
    "\n",
    "**Customer Segment:** Their reency, frequency, and monetary are all poor. It may be that they are awaiting Wow, or may have suffered a bad consumer experience.\n",
    "\n",
    "**Marketing Strategy:** Up-sell or cross-sell to these customers in order to win them back."
   ]
  },
  {
   "cell_type": "code",
   "execution_count": 25,
   "metadata": {},
   "outputs": [
    {
     "data": {
      "text/html": [
       "<div>\n",
       "<style scoped>\n",
       "    .dataframe tbody tr th:only-of-type {\n",
       "        vertical-align: middle;\n",
       "    }\n",
       "\n",
       "    .dataframe tbody tr th {\n",
       "        vertical-align: top;\n",
       "    }\n",
       "\n",
       "    .dataframe thead th {\n",
       "        text-align: right;\n",
       "    }\n",
       "</style>\n",
       "<table border=\"1\" class=\"dataframe\">\n",
       "  <thead>\n",
       "    <tr style=\"text-align: right;\">\n",
       "      <th></th>\n",
       "      <th>CUSTOMERNAME</th>\n",
       "      <th>RECENCY</th>\n",
       "      <th>FREQUENCY</th>\n",
       "      <th>MONETARY</th>\n",
       "      <th>R_TIER</th>\n",
       "      <th>F_TIER</th>\n",
       "      <th>M_TIER</th>\n",
       "      <th>RFM</th>\n",
       "    </tr>\n",
       "  </thead>\n",
       "  <tbody>\n",
       "    <tr>\n",
       "      <th>18</th>\n",
       "      <td>Classic Gift Ideas, Inc</td>\n",
       "      <td>229.0</td>\n",
       "      <td>2</td>\n",
       "      <td>67506.97</td>\n",
       "      <td>3</td>\n",
       "      <td>3</td>\n",
       "      <td>4</td>\n",
       "      <td>334</td>\n",
       "    </tr>\n",
       "    <tr>\n",
       "      <th>50</th>\n",
       "      <td>Microscale Inc.</td>\n",
       "      <td>209.0</td>\n",
       "      <td>2</td>\n",
       "      <td>33144.93</td>\n",
       "      <td>3</td>\n",
       "      <td>3</td>\n",
       "      <td>4</td>\n",
       "      <td>334</td>\n",
       "    </tr>\n",
       "  </tbody>\n",
       "</table>\n",
       "</div>"
      ],
      "text/plain": [
       "               CUSTOMERNAME  RECENCY  FREQUENCY  MONETARY  R_TIER  F_TIER  \\\n",
       "18  Classic Gift Ideas, Inc    229.0          2  67506.97       3       3   \n",
       "50          Microscale Inc.    209.0          2  33144.93       3       3   \n",
       "\n",
       "    M_TIER  RFM  \n",
       "18       4  334  \n",
       "50       4  334  "
      ]
     },
     "execution_count": 25,
     "metadata": {},
     "output_type": "execute_result"
    }
   ],
   "source": [
    "rfm_df[rfm_df['RFM']==334].sort_values(['MONETARY'], ascending=False).head()"
   ]
  },
  {
   "cell_type": "markdown",
   "metadata": {},
   "source": [
    "### 5.6 Ex Lover<a id=5.6></a>"
   ]
  },
  {
   "cell_type": "markdown",
   "metadata": {},
   "source": [
    "**RFM:** 411\n",
    "\n",
    "**Customer Segment:** They spent the most money, placed the most orders, but did not place an order for a long time. These are former top-notch clients.\n",
    "\n",
    "**Marketing Strategy:** Deliver a customized reactivation campaign, such as discounts, to reconnect with these customers. Make them aware of new services/products."
   ]
  },
  {
   "cell_type": "code",
   "execution_count": 26,
   "metadata": {},
   "outputs": [
    {
     "data": {
      "text/html": [
       "<div>\n",
       "<style scoped>\n",
       "    .dataframe tbody tr th:only-of-type {\n",
       "        vertical-align: middle;\n",
       "    }\n",
       "\n",
       "    .dataframe tbody tr th {\n",
       "        vertical-align: top;\n",
       "    }\n",
       "\n",
       "    .dataframe thead th {\n",
       "        text-align: right;\n",
       "    }\n",
       "</style>\n",
       "<table border=\"1\" class=\"dataframe\">\n",
       "  <thead>\n",
       "    <tr style=\"text-align: right;\">\n",
       "      <th></th>\n",
       "      <th>CUSTOMERNAME</th>\n",
       "      <th>RECENCY</th>\n",
       "      <th>FREQUENCY</th>\n",
       "      <th>MONETARY</th>\n",
       "      <th>R_TIER</th>\n",
       "      <th>F_TIER</th>\n",
       "      <th>M_TIER</th>\n",
       "      <th>RFM</th>\n",
       "    </tr>\n",
       "  </thead>\n",
       "  <tbody>\n",
       "  </tbody>\n",
       "</table>\n",
       "</div>"
      ],
      "text/plain": [
       "Empty DataFrame\n",
       "Columns: [CUSTOMERNAME, RECENCY, FREQUENCY, MONETARY, R_TIER, F_TIER, M_TIER, RFM]\n",
       "Index: []"
      ]
     },
     "execution_count": 26,
     "metadata": {},
     "output_type": "execute_result"
    }
   ],
   "source": [
    "rfm_df[rfm_df['RFM']==411].sort_values(['MONETARY'], ascending=False).head()"
   ]
  },
  {
   "cell_type": "markdown",
   "metadata": {},
   "source": [
    "### 5.7 Departed<a id=5.7></a>"
   ]
  },
  {
   "cell_type": "markdown",
   "metadata": {},
   "source": [
    "**RFM:** 43X, 44X (Not available for this dataset)\n",
    "\n",
    "**Customer Segment:** These are lapsed customers whose three indicators are all unacceptable.\n",
    "\n",
    "**Marketing Strategy:** Take actions, such as issuing coupons and pushing. Consider reducing the marketing and service budget for such customers, and strive not to carry out too many retention activities since the retention cost is high."
   ]
  },
  {
   "cell_type": "code",
   "execution_count": 27,
   "metadata": {},
   "outputs": [
    {
     "data": {
      "text/html": [
       "<div>\n",
       "<style scoped>\n",
       "    .dataframe tbody tr th:only-of-type {\n",
       "        vertical-align: middle;\n",
       "    }\n",
       "\n",
       "    .dataframe tbody tr th {\n",
       "        vertical-align: top;\n",
       "    }\n",
       "\n",
       "    .dataframe thead th {\n",
       "        text-align: right;\n",
       "    }\n",
       "</style>\n",
       "<table border=\"1\" class=\"dataframe\">\n",
       "  <thead>\n",
       "    <tr style=\"text-align: right;\">\n",
       "      <th></th>\n",
       "      <th>CUSTOMERNAME</th>\n",
       "      <th>RECENCY</th>\n",
       "      <th>FREQUENCY</th>\n",
       "      <th>MONETARY</th>\n",
       "      <th>R_TIER</th>\n",
       "      <th>F_TIER</th>\n",
       "      <th>M_TIER</th>\n",
       "      <th>RFM</th>\n",
       "    </tr>\n",
       "  </thead>\n",
       "  <tbody>\n",
       "    <tr>\n",
       "      <th>87</th>\n",
       "      <td>Vida Sport, Ltd</td>\n",
       "      <td>274.0</td>\n",
       "      <td>2</td>\n",
       "      <td>117713.56</td>\n",
       "      <td>4</td>\n",
       "      <td>3</td>\n",
       "      <td>2</td>\n",
       "      <td>432</td>\n",
       "    </tr>\n",
       "    <tr>\n",
       "      <th>48</th>\n",
       "      <td>Marta's Replicas Co.</td>\n",
       "      <td>230.0</td>\n",
       "      <td>2</td>\n",
       "      <td>103080.38</td>\n",
       "      <td>4</td>\n",
       "      <td>3</td>\n",
       "      <td>2</td>\n",
       "      <td>432</td>\n",
       "    </tr>\n",
       "    <tr>\n",
       "      <th>2</th>\n",
       "      <td>Amica Models &amp; Co.</td>\n",
       "      <td>264.0</td>\n",
       "      <td>2</td>\n",
       "      <td>94117.26</td>\n",
       "      <td>4</td>\n",
       "      <td>3</td>\n",
       "      <td>2</td>\n",
       "      <td>432</td>\n",
       "    </tr>\n",
       "    <tr>\n",
       "      <th>21</th>\n",
       "      <td>Collectable Mini Designs Co.</td>\n",
       "      <td>460.0</td>\n",
       "      <td>2</td>\n",
       "      <td>87489.23</td>\n",
       "      <td>4</td>\n",
       "      <td>3</td>\n",
       "      <td>2</td>\n",
       "      <td>432</td>\n",
       "    </tr>\n",
       "    <tr>\n",
       "      <th>78</th>\n",
       "      <td>Super Scale Inc.</td>\n",
       "      <td>392.0</td>\n",
       "      <td>2</td>\n",
       "      <td>79472.07</td>\n",
       "      <td>4</td>\n",
       "      <td>3</td>\n",
       "      <td>3</td>\n",
       "      <td>433</td>\n",
       "    </tr>\n",
       "  </tbody>\n",
       "</table>\n",
       "</div>"
      ],
      "text/plain": [
       "                    CUSTOMERNAME  RECENCY  FREQUENCY   MONETARY  R_TIER  \\\n",
       "87               Vida Sport, Ltd    274.0          2  117713.56       4   \n",
       "48          Marta's Replicas Co.    230.0          2  103080.38       4   \n",
       "2             Amica Models & Co.    264.0          2   94117.26       4   \n",
       "21  Collectable Mini Designs Co.    460.0          2   87489.23       4   \n",
       "78              Super Scale Inc.    392.0          2   79472.07       4   \n",
       "\n",
       "    F_TIER  M_TIER  RFM  \n",
       "87       3       2  432  \n",
       "48       3       2  432  \n",
       "2        3       2  432  \n",
       "21       3       2  432  \n",
       "78       3       3  433  "
      ]
     },
     "execution_count": 27,
     "metadata": {},
     "output_type": "execute_result"
    }
   ],
   "source": [
    "rfm_df[(rfm_df['R_TIER']==4)&(rfm_df['F_TIER']>=3)].sort_values(['MONETARY'], ascending=False).head()"
   ]
  },
  {
   "cell_type": "markdown",
   "metadata": {},
   "source": [
    "##### [Back to Top](#Top)"
   ]
  },
  {
   "cell_type": "code",
   "execution_count": null,
   "metadata": {},
   "outputs": [],
   "source": []
  }
 ],
 "metadata": {
  "kernelspec": {
   "display_name": "Python 3",
   "language": "python",
   "name": "python3"
  },
  "language_info": {
   "codemirror_mode": {
    "name": "ipython",
    "version": 3
   },
   "file_extension": ".py",
   "mimetype": "text/x-python",
   "name": "python",
   "nbconvert_exporter": "python",
   "pygments_lexer": "ipython3",
   "version": "3.8.8"
  }
 },
 "nbformat": 4,
 "nbformat_minor": 4
}
